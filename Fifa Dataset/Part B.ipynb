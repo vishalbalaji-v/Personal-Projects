{
 "cells": [
  {
   "cell_type": "markdown",
   "id": "d70e7c37",
   "metadata": {},
   "source": [
    "# Preprocessing"
   ]
  },
  {
   "cell_type": "markdown",
   "id": "bf7ce207",
   "metadata": {},
   "source": [
    "## Loading Data"
   ]
  },
  {
   "cell_type": "markdown",
   "id": "13273b9d",
   "metadata": {},
   "source": [
    "### Importing"
   ]
  },
  {
   "cell_type": "code",
   "execution_count": 1,
   "id": "7acaf600",
   "metadata": {
    "ExecuteTime": {
     "end_time": "2021-10-29T17:36:50.207871Z",
     "start_time": "2021-10-29T17:36:46.777188Z"
    }
   },
   "outputs": [],
   "source": [
    "import os\n",
    "import numpy as np\n",
    "import pandas as pd\n",
    "from sklearn.preprocessing import OneHotEncoder\n",
    "from sklearn.preprocessing import MinMaxScaler\n",
    "from sklearn.model_selection import cross_validate, cross_val_score\n",
    "from sklearn.linear_model import LogisticRegression\n",
    "from sklearn.neighbors import KNeighborsClassifier\n",
    "import matplotlib.pyplot as plt\n",
    "from sklearn.model_selection import GridSearchCV\n",
    "from sklearn.metrics import accuracy_score\n",
    "from sklearn.ensemble import RandomForestClassifier\n",
    "from sklearn.metrics import confusion_matrix\n",
    "import seaborn as sns\n",
    "\n",
    "import tensorflow as tf\n",
    "import keras\n",
    "from keras.models import Model\n",
    "from keras.layers import *\n",
    "from keras import optimizers\n",
    "from keras import regularizers\n",
    "from IPython.display import display, HTML\n",
    "import warnings"
   ]
  },
  {
   "cell_type": "markdown",
   "id": "149eb5ec",
   "metadata": {},
   "source": [
    "### Loading"
   ]
  },
  {
   "cell_type": "code",
   "execution_count": 2,
   "id": "0b265266",
   "metadata": {
    "ExecuteTime": {
     "end_time": "2021-10-29T17:36:51.119838Z",
     "start_time": "2021-10-29T17:36:51.106376Z"
    }
   },
   "outputs": [
    {
     "data": {
      "text/plain": [
       "'/Users/vishalbalaji/GitHub-repos/AI---1/Project'"
      ]
     },
     "execution_count": 2,
     "metadata": {},
     "output_type": "execute_result"
    }
   ],
   "source": [
    "path = os.getcwd()\n",
    "path"
   ]
  },
  {
   "cell_type": "code",
   "execution_count": 3,
   "id": "2905018b",
   "metadata": {
    "ExecuteTime": {
     "end_time": "2021-10-29T17:36:51.753860Z",
     "start_time": "2021-10-29T17:36:51.379880Z"
    }
   },
   "outputs": [
    {
     "data": {
      "text/html": [
       "<div>\n",
       "<style scoped>\n",
       "    .dataframe tbody tr th:only-of-type {\n",
       "        vertical-align: middle;\n",
       "    }\n",
       "\n",
       "    .dataframe tbody tr th {\n",
       "        vertical-align: top;\n",
       "    }\n",
       "\n",
       "    .dataframe thead th {\n",
       "        text-align: right;\n",
       "    }\n",
       "</style>\n",
       "<table border=\"1\" class=\"dataframe\">\n",
       "  <thead>\n",
       "    <tr style=\"text-align: right;\">\n",
       "      <th></th>\n",
       "      <th>sofifa_id</th>\n",
       "      <th>player_url</th>\n",
       "      <th>short_name</th>\n",
       "      <th>long_name</th>\n",
       "      <th>age</th>\n",
       "      <th>dob</th>\n",
       "      <th>height_cm</th>\n",
       "      <th>weight_kg</th>\n",
       "      <th>nationality</th>\n",
       "      <th>club</th>\n",
       "      <th>...</th>\n",
       "      <th>lwb</th>\n",
       "      <th>ldm</th>\n",
       "      <th>cdm</th>\n",
       "      <th>rdm</th>\n",
       "      <th>rwb</th>\n",
       "      <th>lb</th>\n",
       "      <th>lcb</th>\n",
       "      <th>cb</th>\n",
       "      <th>rcb</th>\n",
       "      <th>rb</th>\n",
       "    </tr>\n",
       "  </thead>\n",
       "  <tbody>\n",
       "    <tr>\n",
       "      <th>0</th>\n",
       "      <td>20801</td>\n",
       "      <td>https://sofifa.com/player/20801/c-ronaldo-dos-...</td>\n",
       "      <td>Cristiano Ronaldo</td>\n",
       "      <td>Cristiano Ronaldo dos Santos Aveiro</td>\n",
       "      <td>33</td>\n",
       "      <td>1985-02-05</td>\n",
       "      <td>187</td>\n",
       "      <td>83</td>\n",
       "      <td>Portugal</td>\n",
       "      <td>Juventus</td>\n",
       "      <td>...</td>\n",
       "      <td>65+3</td>\n",
       "      <td>61+3</td>\n",
       "      <td>61+3</td>\n",
       "      <td>61+3</td>\n",
       "      <td>65+3</td>\n",
       "      <td>61+3</td>\n",
       "      <td>53+3</td>\n",
       "      <td>53+3</td>\n",
       "      <td>53+3</td>\n",
       "      <td>61+3</td>\n",
       "    </tr>\n",
       "    <tr>\n",
       "      <th>1</th>\n",
       "      <td>158023</td>\n",
       "      <td>https://sofifa.com/player/158023/lionel-messi/...</td>\n",
       "      <td>L. Messi</td>\n",
       "      <td>Lionel Andrés Messi Cuccittini</td>\n",
       "      <td>31</td>\n",
       "      <td>1987-06-24</td>\n",
       "      <td>170</td>\n",
       "      <td>72</td>\n",
       "      <td>Argentina</td>\n",
       "      <td>FC Barcelona</td>\n",
       "      <td>...</td>\n",
       "      <td>63+2</td>\n",
       "      <td>61+2</td>\n",
       "      <td>61+2</td>\n",
       "      <td>61+2</td>\n",
       "      <td>63+2</td>\n",
       "      <td>58+2</td>\n",
       "      <td>47+2</td>\n",
       "      <td>47+2</td>\n",
       "      <td>47+2</td>\n",
       "      <td>58+2</td>\n",
       "    </tr>\n",
       "    <tr>\n",
       "      <th>2</th>\n",
       "      <td>190871</td>\n",
       "      <td>https://sofifa.com/player/190871/neymar-da-sil...</td>\n",
       "      <td>Neymar Jr</td>\n",
       "      <td>Neymar da Silva Santos Junior</td>\n",
       "      <td>26</td>\n",
       "      <td>1992-02-05</td>\n",
       "      <td>175</td>\n",
       "      <td>68</td>\n",
       "      <td>Brazil</td>\n",
       "      <td>Paris Saint-Germain</td>\n",
       "      <td>...</td>\n",
       "      <td>65+3</td>\n",
       "      <td>60+3</td>\n",
       "      <td>60+3</td>\n",
       "      <td>60+3</td>\n",
       "      <td>65+3</td>\n",
       "      <td>60+3</td>\n",
       "      <td>47+3</td>\n",
       "      <td>47+3</td>\n",
       "      <td>47+3</td>\n",
       "      <td>60+3</td>\n",
       "    </tr>\n",
       "    <tr>\n",
       "      <th>3</th>\n",
       "      <td>193080</td>\n",
       "      <td>https://sofifa.com/player/193080/david-de-gea-...</td>\n",
       "      <td>De Gea</td>\n",
       "      <td>David De Gea Quintana</td>\n",
       "      <td>27</td>\n",
       "      <td>1990-11-07</td>\n",
       "      <td>193</td>\n",
       "      <td>76</td>\n",
       "      <td>Spain</td>\n",
       "      <td>Manchester United</td>\n",
       "      <td>...</td>\n",
       "      <td>NaN</td>\n",
       "      <td>NaN</td>\n",
       "      <td>NaN</td>\n",
       "      <td>NaN</td>\n",
       "      <td>NaN</td>\n",
       "      <td>NaN</td>\n",
       "      <td>NaN</td>\n",
       "      <td>NaN</td>\n",
       "      <td>NaN</td>\n",
       "      <td>NaN</td>\n",
       "    </tr>\n",
       "    <tr>\n",
       "      <th>4</th>\n",
       "      <td>192985</td>\n",
       "      <td>https://sofifa.com/player/192985/kevin-de-bruy...</td>\n",
       "      <td>K. De Bruyne</td>\n",
       "      <td>Kevin De Bruyne</td>\n",
       "      <td>27</td>\n",
       "      <td>1991-06-28</td>\n",
       "      <td>181</td>\n",
       "      <td>70</td>\n",
       "      <td>Belgium</td>\n",
       "      <td>Manchester City</td>\n",
       "      <td>...</td>\n",
       "      <td>77+3</td>\n",
       "      <td>77+3</td>\n",
       "      <td>77+3</td>\n",
       "      <td>77+3</td>\n",
       "      <td>77+3</td>\n",
       "      <td>73+3</td>\n",
       "      <td>66+3</td>\n",
       "      <td>66+3</td>\n",
       "      <td>66+3</td>\n",
       "      <td>73+3</td>\n",
       "    </tr>\n",
       "  </tbody>\n",
       "</table>\n",
       "<p>5 rows × 104 columns</p>\n",
       "</div>"
      ],
      "text/plain": [
       "   sofifa_id                                         player_url  \\\n",
       "0      20801  https://sofifa.com/player/20801/c-ronaldo-dos-...   \n",
       "1     158023  https://sofifa.com/player/158023/lionel-messi/...   \n",
       "2     190871  https://sofifa.com/player/190871/neymar-da-sil...   \n",
       "3     193080  https://sofifa.com/player/193080/david-de-gea-...   \n",
       "4     192985  https://sofifa.com/player/192985/kevin-de-bruy...   \n",
       "\n",
       "          short_name                            long_name  age         dob  \\\n",
       "0  Cristiano Ronaldo  Cristiano Ronaldo dos Santos Aveiro   33  1985-02-05   \n",
       "1           L. Messi       Lionel Andrés Messi Cuccittini   31  1987-06-24   \n",
       "2          Neymar Jr        Neymar da Silva Santos Junior   26  1992-02-05   \n",
       "3             De Gea                David De Gea Quintana   27  1990-11-07   \n",
       "4       K. De Bruyne                      Kevin De Bruyne   27  1991-06-28   \n",
       "\n",
       "   height_cm  weight_kg nationality                 club  ...   lwb   ldm  \\\n",
       "0        187         83    Portugal             Juventus  ...  65+3  61+3   \n",
       "1        170         72   Argentina         FC Barcelona  ...  63+2  61+2   \n",
       "2        175         68      Brazil  Paris Saint-Germain  ...  65+3  60+3   \n",
       "3        193         76       Spain    Manchester United  ...   NaN   NaN   \n",
       "4        181         70     Belgium      Manchester City  ...  77+3  77+3   \n",
       "\n",
       "    cdm   rdm   rwb    lb   lcb    cb   rcb    rb  \n",
       "0  61+3  61+3  65+3  61+3  53+3  53+3  53+3  61+3  \n",
       "1  61+2  61+2  63+2  58+2  47+2  47+2  47+2  58+2  \n",
       "2  60+3  60+3  65+3  60+3  47+3  47+3  47+3  60+3  \n",
       "3   NaN   NaN   NaN   NaN   NaN   NaN   NaN   NaN  \n",
       "4  77+3  77+3  77+3  73+3  66+3  66+3  66+3  73+3  \n",
       "\n",
       "[5 rows x 104 columns]"
      ]
     },
     "execution_count": 3,
     "metadata": {},
     "output_type": "execute_result"
    }
   ],
   "source": [
    "# df_19 = pd.read_csv('players_19.csv')\n",
    "# df_20 = pd.read_csv('players_20.csv')\n",
    "\n",
    "df_19 = pd.read_csv(path + '/fifadataset/players_19.csv')\n",
    "df_20 = pd.read_csv(path + '/fifadataset/players_20.csv')\n",
    "df_19.head()"
   ]
  },
  {
   "cell_type": "code",
   "execution_count": 4,
   "id": "bddcc15d",
   "metadata": {
    "ExecuteTime": {
     "end_time": "2021-10-29T17:36:51.762990Z",
     "start_time": "2021-10-29T17:36:51.757347Z"
    },
    "code_folding": []
   },
   "outputs": [],
   "source": [
    "def pretty_print(df):\n",
    "    return display( HTML( df.to_html().replace(\"\\\\n\",\"<br>\") ) )\n",
    "\n",
    "def tbl_report(tbl, cols=None, card=10):\n",
    "    print(\"Table Shape\", tbl.shape)\n",
    "    dtypes = tbl.dtypes\n",
    "    nulls = []\n",
    "    uniques = []\n",
    "    numuniques = []\n",
    "    vcs = []\n",
    "    for col in dtypes.index:\n",
    "        n = tbl[col].isnull().sum()\n",
    "        nulls.append(n)\n",
    "        strdtcol = str(dtypes[col])\n",
    "        #if strdtcol == 'object' or strdtcol[0:3] == 'int' or strdtcol[0:3] == 'int':\n",
    "        #print(strdtcol)\n",
    "        uniqs = tbl[col].unique()\n",
    "        uniquenums = uniqs.shape[0]\n",
    "        if uniquenums < card: # low cardinality\n",
    "            valcounts = pd.value_counts(tbl[col], dropna=False)\n",
    "            vc = \"\\n\".join([\"{}:{}\".format(k,v) for k, v in valcounts.items()])\n",
    "        else:\n",
    "            vc='HC' # high cardinality\n",
    "        uniques.append(uniqs)\n",
    "        numuniques.append(uniquenums)\n",
    "        vcs.append(vc)\n",
    "    nullseries = pd.Series(nulls, index=dtypes.index)\n",
    "    uniqueseries = pd.Series(uniques, index=dtypes.index)\n",
    "    numuniqueseries = pd.Series(numuniques, index=dtypes.index)\n",
    "    vcseries = pd.Series(vcs, index=dtypes.index)\n",
    "    df = pd.concat([dtypes, nullseries, uniqueseries, numuniqueseries, vcseries], axis=1)\n",
    "    df.columns = ['dtype', 'nulls', 'uniques', 'num_uniques', 'value_counts']\n",
    "    if cols:\n",
    "        return df[cols]\n",
    "    return df"
   ]
  },
  {
   "cell_type": "code",
   "execution_count": 5,
   "id": "74277499",
   "metadata": {
    "ExecuteTime": {
     "end_time": "2021-10-29T17:36:52.280083Z",
     "start_time": "2021-10-29T17:36:52.117121Z"
    }
   },
   "outputs": [
    {
     "name": "stdout",
     "output_type": "stream",
     "text": [
      "Table Shape (17770, 104)\n"
     ]
    },
    {
     "data": {
      "text/html": [
       "<table border=\"1\" class=\"dataframe\">\n",
       "  <thead>\n",
       "    <tr style=\"text-align: right;\">\n",
       "      <th></th>\n",
       "      <th>dtype</th>\n",
       "      <th>nulls</th>\n",
       "      <th>num_uniques</th>\n",
       "      <th>value_counts</th>\n",
       "    </tr>\n",
       "  </thead>\n",
       "  <tbody>\n",
       "    <tr>\n",
       "      <th>sofifa_id</th>\n",
       "      <td>int64</td>\n",
       "      <td>0</td>\n",
       "      <td>17770</td>\n",
       "      <td>HC</td>\n",
       "    </tr>\n",
       "    <tr>\n",
       "      <th>player_url</th>\n",
       "      <td>object</td>\n",
       "      <td>0</td>\n",
       "      <td>17770</td>\n",
       "      <td>HC</td>\n",
       "    </tr>\n",
       "    <tr>\n",
       "      <th>short_name</th>\n",
       "      <td>object</td>\n",
       "      <td>0</td>\n",
       "      <td>16811</td>\n",
       "      <td>HC</td>\n",
       "    </tr>\n",
       "    <tr>\n",
       "      <th>long_name</th>\n",
       "      <td>object</td>\n",
       "      <td>0</td>\n",
       "      <td>17710</td>\n",
       "      <td>HC</td>\n",
       "    </tr>\n",
       "    <tr>\n",
       "      <th>age</th>\n",
       "      <td>int64</td>\n",
       "      <td>0</td>\n",
       "      <td>29</td>\n",
       "      <td>HC</td>\n",
       "    </tr>\n",
       "    <tr>\n",
       "      <th>dob</th>\n",
       "      <td>object</td>\n",
       "      <td>0</td>\n",
       "      <td>6093</td>\n",
       "      <td>HC</td>\n",
       "    </tr>\n",
       "    <tr>\n",
       "      <th>height_cm</th>\n",
       "      <td>int64</td>\n",
       "      <td>0</td>\n",
       "      <td>51</td>\n",
       "      <td>HC</td>\n",
       "    </tr>\n",
       "    <tr>\n",
       "      <th>weight_kg</th>\n",
       "      <td>int64</td>\n",
       "      <td>0</td>\n",
       "      <td>57</td>\n",
       "      <td>HC</td>\n",
       "    </tr>\n",
       "    <tr>\n",
       "      <th>nationality</th>\n",
       "      <td>object</td>\n",
       "      <td>0</td>\n",
       "      <td>160</td>\n",
       "      <td>HC</td>\n",
       "    </tr>\n",
       "    <tr>\n",
       "      <th>club</th>\n",
       "      <td>object</td>\n",
       "      <td>0</td>\n",
       "      <td>679</td>\n",
       "      <td>HC</td>\n",
       "    </tr>\n",
       "    <tr>\n",
       "      <th>overall</th>\n",
       "      <td>int64</td>\n",
       "      <td>0</td>\n",
       "      <td>47</td>\n",
       "      <td>HC</td>\n",
       "    </tr>\n",
       "    <tr>\n",
       "      <th>potential</th>\n",
       "      <td>int64</td>\n",
       "      <td>0</td>\n",
       "      <td>47</td>\n",
       "      <td>HC</td>\n",
       "    </tr>\n",
       "    <tr>\n",
       "      <th>value_eur</th>\n",
       "      <td>int64</td>\n",
       "      <td>0</td>\n",
       "      <td>212</td>\n",
       "      <td>HC</td>\n",
       "    </tr>\n",
       "    <tr>\n",
       "      <th>wage_eur</th>\n",
       "      <td>int64</td>\n",
       "      <td>0</td>\n",
       "      <td>145</td>\n",
       "      <td>HC</td>\n",
       "    </tr>\n",
       "    <tr>\n",
       "      <th>player_positions</th>\n",
       "      <td>object</td>\n",
       "      <td>0</td>\n",
       "      <td>876</td>\n",
       "      <td>HC</td>\n",
       "    </tr>\n",
       "    <tr>\n",
       "      <th>preferred_foot</th>\n",
       "      <td>object</td>\n",
       "      <td>0</td>\n",
       "      <td>2</td>\n",
       "      <td>Right:13639<br>Left:4131</td>\n",
       "    </tr>\n",
       "    <tr>\n",
       "      <th>international_reputation</th>\n",
       "      <td>int64</td>\n",
       "      <td>0</td>\n",
       "      <td>5</td>\n",
       "      <td>1:16114<br>2:1282<br>3:317<br>4:51<br>5:6</td>\n",
       "    </tr>\n",
       "    <tr>\n",
       "      <th>weak_foot</th>\n",
       "      <td>int64</td>\n",
       "      <td>0</td>\n",
       "      <td>5</td>\n",
       "      <td>3:11083<br>2:3711<br>4:2613<br>5:218<br>1:145</td>\n",
       "    </tr>\n",
       "    <tr>\n",
       "      <th>skill_moves</th>\n",
       "      <td>int64</td>\n",
       "      <td>0</td>\n",
       "      <td>5</td>\n",
       "      <td>2:8586<br>3:6299<br>1:1986<br>4:851<br>5:48</td>\n",
       "    </tr>\n",
       "    <tr>\n",
       "      <th>work_rate</th>\n",
       "      <td>object</td>\n",
       "      <td>0</td>\n",
       "      <td>9</td>\n",
       "      <td>Medium/Medium:9621<br>High/Medium:3152<br>Medium/High:1628<br>High/High:976<br>Medium/Low:814<br>High/Low:682<br>Low/Medium:443<br>Low/High:423<br>Low/Low:31</td>\n",
       "    </tr>\n",
       "    <tr>\n",
       "      <th>body_type</th>\n",
       "      <td>object</td>\n",
       "      <td>0</td>\n",
       "      <td>10</td>\n",
       "      <td>Normal:10410<br>Lean:6268<br>Stocky:1085<br>C. Ronaldo:1<br>Messi:1<br>Neymar:1<br>Courtois:1<br>PLAYER_BODY_TYPE_25:1<br>Shaqiri:1<br>Akinfenwa:1</td>\n",
       "    </tr>\n",
       "    <tr>\n",
       "      <th>real_face</th>\n",
       "      <td>object</td>\n",
       "      <td>0</td>\n",
       "      <td>2</td>\n",
       "      <td>No:16175<br>Yes:1595</td>\n",
       "    </tr>\n",
       "    <tr>\n",
       "      <th>release_clause_eur</th>\n",
       "      <td>float64</td>\n",
       "      <td>1513</td>\n",
       "      <td>1241</td>\n",
       "      <td>HC</td>\n",
       "    </tr>\n",
       "    <tr>\n",
       "      <th>player_tags</th>\n",
       "      <td>object</td>\n",
       "      <td>16254</td>\n",
       "      <td>85</td>\n",
       "      <td>HC</td>\n",
       "    </tr>\n",
       "    <tr>\n",
       "      <th>team_position</th>\n",
       "      <td>object</td>\n",
       "      <td>223</td>\n",
       "      <td>30</td>\n",
       "      <td>HC</td>\n",
       "    </tr>\n",
       "    <tr>\n",
       "      <th>team_jersey_number</th>\n",
       "      <td>float64</td>\n",
       "      <td>223</td>\n",
       "      <td>99</td>\n",
       "      <td>HC</td>\n",
       "    </tr>\n",
       "    <tr>\n",
       "      <th>loaned_from</th>\n",
       "      <td>object</td>\n",
       "      <td>16489</td>\n",
       "      <td>343</td>\n",
       "      <td>HC</td>\n",
       "    </tr>\n",
       "    <tr>\n",
       "      <th>joined</th>\n",
       "      <td>object</td>\n",
       "      <td>1504</td>\n",
       "      <td>1668</td>\n",
       "      <td>HC</td>\n",
       "    </tr>\n",
       "    <tr>\n",
       "      <th>contract_valid_until</th>\n",
       "      <td>float64</td>\n",
       "      <td>223</td>\n",
       "      <td>10</td>\n",
       "      <td>2019.0:5771<br>2021.0:4258<br>2020.0:3917<br>2022.0:1420<br>2018.0:1122<br>2023.0:1038<br>nan:223<br>2024.0:14<br>2025.0:5<br>2026.0:2</td>\n",
       "    </tr>\n",
       "    <tr>\n",
       "      <th>nation_position</th>\n",
       "      <td>object</td>\n",
       "      <td>16666</td>\n",
       "      <td>29</td>\n",
       "      <td>HC</td>\n",
       "    </tr>\n",
       "    <tr>\n",
       "      <th>nation_jersey_number</th>\n",
       "      <td>float64</td>\n",
       "      <td>16666</td>\n",
       "      <td>28</td>\n",
       "      <td>HC</td>\n",
       "    </tr>\n",
       "    <tr>\n",
       "      <th>pace</th>\n",
       "      <td>float64</td>\n",
       "      <td>1986</td>\n",
       "      <td>72</td>\n",
       "      <td>HC</td>\n",
       "    </tr>\n",
       "    <tr>\n",
       "      <th>shooting</th>\n",
       "      <td>float64</td>\n",
       "      <td>1986</td>\n",
       "      <td>79</td>\n",
       "      <td>HC</td>\n",
       "    </tr>\n",
       "    <tr>\n",
       "      <th>passing</th>\n",
       "      <td>float64</td>\n",
       "      <td>1986</td>\n",
       "      <td>69</td>\n",
       "      <td>HC</td>\n",
       "    </tr>\n",
       "    <tr>\n",
       "      <th>dribbling</th>\n",
       "      <td>float64</td>\n",
       "      <td>1986</td>\n",
       "      <td>71</td>\n",
       "      <td>HC</td>\n",
       "    </tr>\n",
       "    <tr>\n",
       "      <th>defending</th>\n",
       "      <td>float64</td>\n",
       "      <td>1986</td>\n",
       "      <td>78</td>\n",
       "      <td>HC</td>\n",
       "    </tr>\n",
       "    <tr>\n",
       "      <th>physic</th>\n",
       "      <td>float64</td>\n",
       "      <td>1986</td>\n",
       "      <td>60</td>\n",
       "      <td>HC</td>\n",
       "    </tr>\n",
       "    <tr>\n",
       "      <th>gk_diving</th>\n",
       "      <td>float64</td>\n",
       "      <td>15784</td>\n",
       "      <td>47</td>\n",
       "      <td>HC</td>\n",
       "    </tr>\n",
       "    <tr>\n",
       "      <th>gk_handling</th>\n",
       "      <td>float64</td>\n",
       "      <td>15784</td>\n",
       "      <td>49</td>\n",
       "      <td>HC</td>\n",
       "    </tr>\n",
       "    <tr>\n",
       "      <th>gk_kicking</th>\n",
       "      <td>float64</td>\n",
       "      <td>15784</td>\n",
       "      <td>52</td>\n",
       "      <td>HC</td>\n",
       "    </tr>\n",
       "    <tr>\n",
       "      <th>gk_reflexes</th>\n",
       "      <td>float64</td>\n",
       "      <td>15784</td>\n",
       "      <td>50</td>\n",
       "      <td>HC</td>\n",
       "    </tr>\n",
       "    <tr>\n",
       "      <th>gk_speed</th>\n",
       "      <td>float64</td>\n",
       "      <td>15784</td>\n",
       "      <td>54</td>\n",
       "      <td>HC</td>\n",
       "    </tr>\n",
       "    <tr>\n",
       "      <th>gk_positioning</th>\n",
       "      <td>float64</td>\n",
       "      <td>15784</td>\n",
       "      <td>54</td>\n",
       "      <td>HC</td>\n",
       "    </tr>\n",
       "    <tr>\n",
       "      <th>player_traits</th>\n",
       "      <td>object</td>\n",
       "      <td>9760</td>\n",
       "      <td>1545</td>\n",
       "      <td>HC</td>\n",
       "    </tr>\n",
       "    <tr>\n",
       "      <th>attacking_crossing</th>\n",
       "      <td>object</td>\n",
       "      <td>0</td>\n",
       "      <td>361</td>\n",
       "      <td>HC</td>\n",
       "    </tr>\n",
       "    <tr>\n",
       "      <th>attacking_finishing</th>\n",
       "      <td>object</td>\n",
       "      <td>0</td>\n",
       "      <td>373</td>\n",
       "      <td>HC</td>\n",
       "    </tr>\n",
       "    <tr>\n",
       "      <th>attacking_heading_accuracy</th>\n",
       "      <td>object</td>\n",
       "      <td>0</td>\n",
       "      <td>330</td>\n",
       "      <td>HC</td>\n",
       "    </tr>\n",
       "    <tr>\n",
       "      <th>attacking_short_passing</th>\n",
       "      <td>object</td>\n",
       "      <td>0</td>\n",
       "      <td>378</td>\n",
       "      <td>HC</td>\n",
       "    </tr>\n",
       "    <tr>\n",
       "      <th>attacking_volleys</th>\n",
       "      <td>object</td>\n",
       "      <td>0</td>\n",
       "      <td>254</td>\n",
       "      <td>HC</td>\n",
       "    </tr>\n",
       "    <tr>\n",
       "      <th>skill_dribbling</th>\n",
       "      <td>object</td>\n",
       "      <td>0</td>\n",
       "      <td>387</td>\n",
       "      <td>HC</td>\n",
       "    </tr>\n",
       "    <tr>\n",
       "      <th>skill_curve</th>\n",
       "      <td>object</td>\n",
       "      <td>0</td>\n",
       "      <td>303</td>\n",
       "      <td>HC</td>\n",
       "    </tr>\n",
       "    <tr>\n",
       "      <th>skill_fk_accuracy</th>\n",
       "      <td>object</td>\n",
       "      <td>0</td>\n",
       "      <td>259</td>\n",
       "      <td>HC</td>\n",
       "    </tr>\n",
       "    <tr>\n",
       "      <th>skill_long_passing</th>\n",
       "      <td>object</td>\n",
       "      <td>0</td>\n",
       "      <td>381</td>\n",
       "      <td>HC</td>\n",
       "    </tr>\n",
       "    <tr>\n",
       "      <th>skill_ball_control</th>\n",
       "      <td>object</td>\n",
       "      <td>0</td>\n",
       "      <td>392</td>\n",
       "      <td>HC</td>\n",
       "    </tr>\n",
       "    <tr>\n",
       "      <th>movement_acceleration</th>\n",
       "      <td>object</td>\n",
       "      <td>0</td>\n",
       "      <td>463</td>\n",
       "      <td>HC</td>\n",
       "    </tr>\n",
       "    <tr>\n",
       "      <th>movement_sprint_speed</th>\n",
       "      <td>object</td>\n",
       "      <td>0</td>\n",
       "      <td>441</td>\n",
       "      <td>HC</td>\n",
       "    </tr>\n",
       "    <tr>\n",
       "      <th>movement_agility</th>\n",
       "      <td>object</td>\n",
       "      <td>0</td>\n",
       "      <td>403</td>\n",
       "      <td>HC</td>\n",
       "    </tr>\n",
       "    <tr>\n",
       "      <th>movement_reactions</th>\n",
       "      <td>object</td>\n",
       "      <td>0</td>\n",
       "      <td>337</td>\n",
       "      <td>HC</td>\n",
       "    </tr>\n",
       "    <tr>\n",
       "      <th>movement_balance</th>\n",
       "      <td>object</td>\n",
       "      <td>0</td>\n",
       "      <td>290</td>\n",
       "      <td>HC</td>\n",
       "    </tr>\n",
       "    <tr>\n",
       "      <th>power_shot_power</th>\n",
       "      <td>object</td>\n",
       "      <td>0</td>\n",
       "      <td>328</td>\n",
       "      <td>HC</td>\n",
       "    </tr>\n",
       "    <tr>\n",
       "      <th>power_jumping</th>\n",
       "      <td>object</td>\n",
       "      <td>0</td>\n",
       "      <td>342</td>\n",
       "      <td>HC</td>\n",
       "    </tr>\n",
       "    <tr>\n",
       "      <th>power_stamina</th>\n",
       "      <td>object</td>\n",
       "      <td>0</td>\n",
       "      <td>498</td>\n",
       "      <td>HC</td>\n",
       "    </tr>\n",
       "    <tr>\n",
       "      <th>power_strength</th>\n",
       "      <td>object</td>\n",
       "      <td>0</td>\n",
       "      <td>397</td>\n",
       "      <td>HC</td>\n",
       "    </tr>\n",
       "    <tr>\n",
       "      <th>power_long_shots</th>\n",
       "      <td>object</td>\n",
       "      <td>0</td>\n",
       "      <td>352</td>\n",
       "      <td>HC</td>\n",
       "    </tr>\n",
       "    <tr>\n",
       "      <th>mentality_aggression</th>\n",
       "      <td>object</td>\n",
       "      <td>0</td>\n",
       "      <td>347</td>\n",
       "      <td>HC</td>\n",
       "    </tr>\n",
       "    <tr>\n",
       "      <th>mentality_interceptions</th>\n",
       "      <td>object</td>\n",
       "      <td>0</td>\n",
       "      <td>357</td>\n",
       "      <td>HC</td>\n",
       "    </tr>\n",
       "    <tr>\n",
       "      <th>mentality_positioning</th>\n",
       "      <td>object</td>\n",
       "      <td>0</td>\n",
       "      <td>383</td>\n",
       "      <td>HC</td>\n",
       "    </tr>\n",
       "    <tr>\n",
       "      <th>mentality_vision</th>\n",
       "      <td>object</td>\n",
       "      <td>0</td>\n",
       "      <td>362</td>\n",
       "      <td>HC</td>\n",
       "    </tr>\n",
       "    <tr>\n",
       "      <th>mentality_penalties</th>\n",
       "      <td>object</td>\n",
       "      <td>0</td>\n",
       "      <td>234</td>\n",
       "      <td>HC</td>\n",
       "    </tr>\n",
       "    <tr>\n",
       "      <th>mentality_composure</th>\n",
       "      <td>object</td>\n",
       "      <td>0</td>\n",
       "      <td>339</td>\n",
       "      <td>HC</td>\n",
       "    </tr>\n",
       "    <tr>\n",
       "      <th>defending_marking</th>\n",
       "      <td>object</td>\n",
       "      <td>0</td>\n",
       "      <td>438</td>\n",
       "      <td>HC</td>\n",
       "    </tr>\n",
       "    <tr>\n",
       "      <th>defending_standing_tackle</th>\n",
       "      <td>object</td>\n",
       "      <td>0</td>\n",
       "      <td>375</td>\n",
       "      <td>HC</td>\n",
       "    </tr>\n",
       "    <tr>\n",
       "      <th>defending_sliding_tackle</th>\n",
       "      <td>object</td>\n",
       "      <td>0</td>\n",
       "      <td>354</td>\n",
       "      <td>HC</td>\n",
       "    </tr>\n",
       "    <tr>\n",
       "      <th>goalkeeping_diving</th>\n",
       "      <td>object</td>\n",
       "      <td>0</td>\n",
       "      <td>143</td>\n",
       "      <td>HC</td>\n",
       "    </tr>\n",
       "    <tr>\n",
       "      <th>goalkeeping_handling</th>\n",
       "      <td>object</td>\n",
       "      <td>0</td>\n",
       "      <td>143</td>\n",
       "      <td>HC</td>\n",
       "    </tr>\n",
       "    <tr>\n",
       "      <th>goalkeeping_kicking</th>\n",
       "      <td>object</td>\n",
       "      <td>0</td>\n",
       "      <td>138</td>\n",
       "      <td>HC</td>\n",
       "    </tr>\n",
       "    <tr>\n",
       "      <th>goalkeeping_positioning</th>\n",
       "      <td>object</td>\n",
       "      <td>0</td>\n",
       "      <td>149</td>\n",
       "      <td>HC</td>\n",
       "    </tr>\n",
       "    <tr>\n",
       "      <th>goalkeeping_reflexes</th>\n",
       "      <td>object</td>\n",
       "      <td>0</td>\n",
       "      <td>142</td>\n",
       "      <td>HC</td>\n",
       "    </tr>\n",
       "    <tr>\n",
       "      <th>ls</th>\n",
       "      <td>object</td>\n",
       "      <td>1986</td>\n",
       "      <td>97</td>\n",
       "      <td>HC</td>\n",
       "    </tr>\n",
       "    <tr>\n",
       "      <th>st</th>\n",
       "      <td>object</td>\n",
       "      <td>1986</td>\n",
       "      <td>97</td>\n",
       "      <td>HC</td>\n",
       "    </tr>\n",
       "    <tr>\n",
       "      <th>rs</th>\n",
       "      <td>object</td>\n",
       "      <td>1986</td>\n",
       "      <td>97</td>\n",
       "      <td>HC</td>\n",
       "    </tr>\n",
       "    <tr>\n",
       "      <th>lw</th>\n",
       "      <td>object</td>\n",
       "      <td>1986</td>\n",
       "      <td>106</td>\n",
       "      <td>HC</td>\n",
       "    </tr>\n",
       "    <tr>\n",
       "      <th>lf</th>\n",
       "      <td>object</td>\n",
       "      <td>1986</td>\n",
       "      <td>105</td>\n",
       "      <td>HC</td>\n",
       "    </tr>\n",
       "    <tr>\n",
       "      <th>cf</th>\n",
       "      <td>object</td>\n",
       "      <td>1986</td>\n",
       "      <td>105</td>\n",
       "      <td>HC</td>\n",
       "    </tr>\n",
       "    <tr>\n",
       "      <th>rf</th>\n",
       "      <td>object</td>\n",
       "      <td>1986</td>\n",
       "      <td>105</td>\n",
       "      <td>HC</td>\n",
       "    </tr>\n",
       "    <tr>\n",
       "      <th>rw</th>\n",
       "      <td>object</td>\n",
       "      <td>1986</td>\n",
       "      <td>106</td>\n",
       "      <td>HC</td>\n",
       "    </tr>\n",
       "    <tr>\n",
       "      <th>lam</th>\n",
       "      <td>object</td>\n",
       "      <td>1986</td>\n",
       "      <td>102</td>\n",
       "      <td>HC</td>\n",
       "    </tr>\n",
       "    <tr>\n",
       "      <th>cam</th>\n",
       "      <td>object</td>\n",
       "      <td>1986</td>\n",
       "      <td>102</td>\n",
       "      <td>HC</td>\n",
       "    </tr>\n",
       "    <tr>\n",
       "      <th>ram</th>\n",
       "      <td>object</td>\n",
       "      <td>1986</td>\n",
       "      <td>102</td>\n",
       "      <td>HC</td>\n",
       "    </tr>\n",
       "    <tr>\n",
       "      <th>lm</th>\n",
       "      <td>object</td>\n",
       "      <td>1986</td>\n",
       "      <td>99</td>\n",
       "      <td>HC</td>\n",
       "    </tr>\n",
       "    <tr>\n",
       "      <th>lcm</th>\n",
       "      <td>object</td>\n",
       "      <td>1986</td>\n",
       "      <td>93</td>\n",
       "      <td>HC</td>\n",
       "    </tr>\n",
       "    <tr>\n",
       "      <th>cm</th>\n",
       "      <td>object</td>\n",
       "      <td>1986</td>\n",
       "      <td>93</td>\n",
       "      <td>HC</td>\n",
       "    </tr>\n",
       "    <tr>\n",
       "      <th>rcm</th>\n",
       "      <td>object</td>\n",
       "      <td>1986</td>\n",
       "      <td>93</td>\n",
       "      <td>HC</td>\n",
       "    </tr>\n",
       "    <tr>\n",
       "      <th>rm</th>\n",
       "      <td>object</td>\n",
       "      <td>1986</td>\n",
       "      <td>99</td>\n",
       "      <td>HC</td>\n",
       "    </tr>\n",
       "    <tr>\n",
       "      <th>lwb</th>\n",
       "      <td>object</td>\n",
       "      <td>1986</td>\n",
       "      <td>94</td>\n",
       "      <td>HC</td>\n",
       "    </tr>\n",
       "    <tr>\n",
       "      <th>ldm</th>\n",
       "      <td>object</td>\n",
       "      <td>1986</td>\n",
       "      <td>99</td>\n",
       "      <td>HC</td>\n",
       "    </tr>\n",
       "    <tr>\n",
       "      <th>cdm</th>\n",
       "      <td>object</td>\n",
       "      <td>1986</td>\n",
       "      <td>99</td>\n",
       "      <td>HC</td>\n",
       "    </tr>\n",
       "    <tr>\n",
       "      <th>rdm</th>\n",
       "      <td>object</td>\n",
       "      <td>1986</td>\n",
       "      <td>99</td>\n",
       "      <td>HC</td>\n",
       "    </tr>\n",
       "    <tr>\n",
       "      <th>rwb</th>\n",
       "      <td>object</td>\n",
       "      <td>1986</td>\n",
       "      <td>94</td>\n",
       "      <td>HC</td>\n",
       "    </tr>\n",
       "    <tr>\n",
       "      <th>lb</th>\n",
       "      <td>object</td>\n",
       "      <td>1986</td>\n",
       "      <td>97</td>\n",
       "      <td>HC</td>\n",
       "    </tr>\n",
       "    <tr>\n",
       "      <th>lcb</th>\n",
       "      <td>object</td>\n",
       "      <td>1986</td>\n",
       "      <td>109</td>\n",
       "      <td>HC</td>\n",
       "    </tr>\n",
       "    <tr>\n",
       "      <th>cb</th>\n",
       "      <td>object</td>\n",
       "      <td>1986</td>\n",
       "      <td>109</td>\n",
       "      <td>HC</td>\n",
       "    </tr>\n",
       "    <tr>\n",
       "      <th>rcb</th>\n",
       "      <td>object</td>\n",
       "      <td>1986</td>\n",
       "      <td>109</td>\n",
       "      <td>HC</td>\n",
       "    </tr>\n",
       "    <tr>\n",
       "      <th>rb</th>\n",
       "      <td>object</td>\n",
       "      <td>1986</td>\n",
       "      <td>97</td>\n",
       "      <td>HC</td>\n",
       "    </tr>\n",
       "  </tbody>\n",
       "</table>"
      ],
      "text/plain": [
       "<IPython.core.display.HTML object>"
      ]
     },
     "metadata": {},
     "output_type": "display_data"
    }
   ],
   "source": [
    "pretty_print(tbl_report(df_19, cols=['dtype', 'nulls', 'num_uniques', 'value_counts'], card = 11))"
   ]
  },
  {
   "cell_type": "markdown",
   "id": "a5587884",
   "metadata": {},
   "source": [
    "## Column Transformations"
   ]
  },
  {
   "cell_type": "markdown",
   "id": "484ea215",
   "metadata": {},
   "source": [
    "### OneHot Encoding"
   ]
  },
  {
   "cell_type": "markdown",
   "id": "06c5482a",
   "metadata": {},
   "source": [
    "**As we can see from the above, a lot of the columns are of type object**\n",
    "\n",
    "This is because some of them are in the format \"85+2\". We need to transform those variables here."
   ]
  },
  {
   "cell_type": "code",
   "execution_count": 6,
   "id": "32c2e3cc",
   "metadata": {
    "ExecuteTime": {
     "end_time": "2021-10-29T17:36:53.476549Z",
     "start_time": "2021-10-29T17:36:53.470727Z"
    }
   },
   "outputs": [],
   "source": [
    "def add_subtract(x):\n",
    "    if '-' in x:\n",
    "        return(int(x.split('-')[0]) - int(x.split('-')[1]))\n",
    "    if '+' in x:\n",
    "        return(int(x.split('+')[0]) + int(x.split('+')[1]))\n",
    "    else:\n",
    "        return(int(x))"
   ]
  },
  {
   "cell_type": "code",
   "execution_count": 7,
   "id": "46f7453f",
   "metadata": {
    "ExecuteTime": {
     "end_time": "2021-10-29T17:36:54.568027Z",
     "start_time": "2021-10-29T17:36:53.830582Z"
    }
   },
   "outputs": [],
   "source": [
    "change_cols = df_19.columns[list(df_19.columns).index('attacking_crossing'):]\n",
    "for i in change_cols:\n",
    "    df_19[i] = df_19[i].fillna('0').apply(lambda x: add_subtract(x))"
   ]
  },
  {
   "cell_type": "markdown",
   "id": "5165a60c",
   "metadata": {},
   "source": [
    "**We thought of using the player traits column, and this function one hot encodes the comma separated values in that column**"
   ]
  },
  {
   "cell_type": "code",
   "execution_count": 8,
   "id": "2a56f81b",
   "metadata": {
    "ExecuteTime": {
     "end_time": "2021-10-29T17:36:54.651047Z",
     "start_time": "2021-10-29T17:36:54.645256Z"
    }
   },
   "outputs": [],
   "source": [
    "def oh_normal(column):\n",
    "    oh = OneHotEncoder()\n",
    "    return(pd.DataFrame(oh.fit_transform(column).toarray(),columns=oh.categories_[0]).astype(int))\n",
    "    \n",
    "    \n",
    "\n",
    "\n",
    "def comma(column):\n",
    "    column = column.fillna('0')\n",
    "    column = column.apply(lambda x: x.replace(' ',''))\n",
    "    column = column.apply(lambda x: x.split(','))\n",
    "\n",
    "    flat_list = [item for sublist in column for item in sublist]\n",
    "    uniques = np.unique(np.asarray(flat_list))\n",
    "\n",
    "    overall = []\n",
    "    for i in column:\n",
    "        zeroes = np.zeros(len(uniques)).astype(int)\n",
    "        long = len(i)\n",
    "\n",
    "        for j in range(long):\n",
    "            zeroes[np.where(uniques == i[j])] = 1\n",
    "        overall.append(zeroes)\n",
    "\n",
    "    frame = pd.DataFrame(overall,columns=uniques)\n",
    "\n",
    "    return(frame)"
   ]
  },
  {
   "cell_type": "code",
   "execution_count": 9,
   "id": "e80ff10a",
   "metadata": {
    "ExecuteTime": {
     "end_time": "2021-10-29T17:36:55.063552Z",
     "start_time": "2021-10-29T17:36:55.059413Z"
    }
   },
   "outputs": [],
   "source": [
    "oh_cols = ['nationality','club','team_position']\n",
    "oh_comma = ['player_traits'] "
   ]
  },
  {
   "cell_type": "code",
   "execution_count": 10,
   "id": "f1728ae3",
   "metadata": {
    "ExecuteTime": {
     "end_time": "2021-10-29T17:36:55.809728Z",
     "start_time": "2021-10-29T17:36:55.464148Z"
    }
   },
   "outputs": [],
   "source": [
    "#One hot encoding for columns with comma separated values\n",
    "traits_df = comma(df_19[oh_comma[0]]).drop('0',axis = 1)\n",
    "df_19 = df_19.drop(oh_comma[0],axis=1).join(traits_df)"
   ]
  },
  {
   "cell_type": "markdown",
   "id": "f208d398",
   "metadata": {},
   "source": [
    "### Getting Predictor and Response Variables"
   ]
  },
  {
   "cell_type": "markdown",
   "id": "b6e142d8",
   "metadata": {},
   "source": [
    "#### Predictor Variables"
   ]
  },
  {
   "cell_type": "markdown",
   "id": "6013fd19",
   "metadata": {},
   "source": [
    "**These columns will be our main predictors**\n",
    "\n",
    "In some parts of the notebook, we have used a combination of these attributes along with player traits. But as we will see below, it does not really improve performance, so we have not used it everywhere"
   ]
  },
  {
   "cell_type": "code",
   "execution_count": 11,
   "id": "1c96636d",
   "metadata": {
    "ExecuteTime": {
     "end_time": "2021-10-29T17:36:57.024775Z",
     "start_time": "2021-10-29T17:36:57.014409Z"
    }
   },
   "outputs": [
    {
     "data": {
      "text/plain": [
       "Index(['pace', 'shooting', 'passing', 'dribbling', 'defending', 'physic',\n",
       "       'gk_diving', 'gk_handling', 'gk_kicking', 'gk_reflexes', 'gk_speed',\n",
       "       'gk_positioning', 'attacking_crossing', 'attacking_finishing',\n",
       "       'attacking_heading_accuracy', 'attacking_short_passing',\n",
       "       'attacking_volleys', 'skill_dribbling', 'skill_curve',\n",
       "       'skill_fk_accuracy', 'skill_long_passing', 'skill_ball_control',\n",
       "       'movement_acceleration', 'movement_sprint_speed', 'movement_agility',\n",
       "       'movement_reactions', 'movement_balance', 'power_shot_power',\n",
       "       'power_jumping', 'power_stamina', 'power_strength', 'power_long_shots',\n",
       "       'mentality_aggression', 'mentality_interceptions',\n",
       "       'mentality_positioning', 'mentality_vision', 'mentality_penalties',\n",
       "       'mentality_composure', 'defending_marking', 'defending_standing_tackle',\n",
       "       'defending_sliding_tackle', 'goalkeeping_diving',\n",
       "       'goalkeeping_handling', 'goalkeeping_kicking',\n",
       "       'goalkeeping_positioning', 'goalkeeping_reflexes'],\n",
       "      dtype='object')"
      ]
     },
     "execution_count": 11,
     "metadata": {},
     "output_type": "execute_result"
    }
   ],
   "source": [
    "attribute_cols = df_19.columns[list(df_19.columns).index('pace'):list(df_19.columns).index('ls')]\n",
    "# player_pos = df_19.columns[[list(df_19.columns).index('player_positions')]]\n",
    "# attribute_cols = attribute_cols.append(player_pos)\n",
    "attribute_cols"
   ]
  },
  {
   "cell_type": "markdown",
   "id": "ad80636f",
   "metadata": {},
   "source": [
    "**We are initializing traits for 2020 also here so we can use only the traits that are common between the 2**\n",
    "\n",
    "We have made sure that this does not leak any information from the test to the training set"
   ]
  },
  {
   "cell_type": "code",
   "execution_count": 12,
   "id": "b105a803",
   "metadata": {
    "ExecuteTime": {
     "end_time": "2021-10-29T17:36:58.079850Z",
     "start_time": "2021-10-29T17:36:58.075129Z"
    },
    "scrolled": true
   },
   "outputs": [],
   "source": [
    "traits_cols = df_19.columns[list(df_19.columns).index('1-on-1Rush'):]"
   ]
  },
  {
   "cell_type": "code",
   "execution_count": 13,
   "id": "72b17b00",
   "metadata": {
    "ExecuteTime": {
     "end_time": "2021-10-29T17:36:58.779592Z",
     "start_time": "2021-10-29T17:36:58.498386Z"
    }
   },
   "outputs": [],
   "source": [
    "traits_df_20 = comma(df_20[oh_comma[0]]).drop('0',axis = 1)\n",
    "traits_cols_20 = traits_df_20.columns"
   ]
  },
  {
   "cell_type": "code",
   "execution_count": 14,
   "id": "fff83b08",
   "metadata": {
    "ExecuteTime": {
     "end_time": "2021-10-29T17:36:58.899187Z",
     "start_time": "2021-10-29T17:36:58.896276Z"
    }
   },
   "outputs": [],
   "source": [
    "common_cols = set(traits_cols).intersection(set(traits_cols_20))"
   ]
  },
  {
   "cell_type": "code",
   "execution_count": 15,
   "id": "d9f0ca64",
   "metadata": {
    "ExecuteTime": {
     "end_time": "2021-10-29T17:36:59.295669Z",
     "start_time": "2021-10-29T17:36:59.257335Z"
    }
   },
   "outputs": [],
   "source": [
    "df_attributes = df_19[attribute_cols].fillna(0).astype(int)\n",
    "df_total = df_attributes.join(df_19[common_cols].fillna(0).astype(int))"
   ]
  },
  {
   "cell_type": "markdown",
   "id": "b37b1be6",
   "metadata": {},
   "source": [
    "**Final training dataframe with only player attributes**"
   ]
  },
  {
   "cell_type": "code",
   "execution_count": 16,
   "id": "318e5bc8",
   "metadata": {
    "ExecuteTime": {
     "end_time": "2021-10-29T17:37:00.033858Z",
     "start_time": "2021-10-29T17:36:59.995220Z"
    }
   },
   "outputs": [],
   "source": [
    "minmax_attributes = MinMaxScaler()\n",
    "attributes_train = pd.DataFrame(minmax_attributes.fit_transform(df_attributes),columns=df_attributes.columns)"
   ]
  },
  {
   "cell_type": "markdown",
   "id": "7664b968",
   "metadata": {},
   "source": [
    "**Final training dataframe with player attributes and player traits**"
   ]
  },
  {
   "cell_type": "code",
   "execution_count": 17,
   "id": "2c4a02cd",
   "metadata": {
    "ExecuteTime": {
     "end_time": "2021-10-29T17:37:00.864447Z",
     "start_time": "2021-10-29T17:37:00.832100Z"
    }
   },
   "outputs": [],
   "source": [
    "minmax_total = MinMaxScaler()\n",
    "total_train = pd.DataFrame(minmax_total.fit_transform(df_total),columns=df_total.columns)"
   ]
  },
  {
   "cell_type": "markdown",
   "id": "7735295e",
   "metadata": {},
   "source": [
    "#### Response variables"
   ]
  },
  {
   "cell_type": "markdown",
   "id": "fa2c12a5",
   "metadata": {},
   "source": [
    "**The response variable is a list of comma separated values**\n",
    "\n",
    "Many players have more than 1 position. We tried doing some [multiclass logistic regression](https://stackoverflow.com/questions/36523558/multi-class-logistic-regression-in-scikit-learn) but could not really get it to work.\n",
    "\n",
    "We saw some notebooks online where they had taken the first value in the player position column. We decided it would be a good idea to take a random value from the positions to add some stochasticity to the model"
   ]
  },
  {
   "cell_type": "code",
   "execution_count": 18,
   "id": "ad0b90b9",
   "metadata": {
    "ExecuteTime": {
     "end_time": "2021-10-29T17:37:02.187074Z",
     "start_time": "2021-10-29T17:37:02.182651Z"
    }
   },
   "outputs": [],
   "source": [
    "player_pos_df = df_19['player_positions']"
   ]
  },
  {
   "cell_type": "markdown",
   "id": "b0a1970d",
   "metadata": {},
   "source": [
    "**Random selection of variables from each row**"
   ]
  },
  {
   "cell_type": "code",
   "execution_count": 19,
   "id": "3453e876",
   "metadata": {
    "ExecuteTime": {
     "end_time": "2021-10-29T17:37:03.157798Z",
     "start_time": "2021-10-29T17:37:03.081963Z"
    }
   },
   "outputs": [],
   "source": [
    "random_pos = []\n",
    "for i in player_pos_df:\n",
    "    dummy = i.split(',')\n",
    "    random_pos.append(dummy[np.random.randint(0,len(dummy))].strip())"
   ]
  },
  {
   "cell_type": "code",
   "execution_count": 20,
   "id": "47524317",
   "metadata": {
    "ExecuteTime": {
     "end_time": "2021-10-29T17:37:03.555600Z",
     "start_time": "2021-10-29T17:37:03.547769Z"
    }
   },
   "outputs": [],
   "source": [
    "positions = pd.Series(random_pos).unique()\n",
    "positions.sort()"
   ]
  },
  {
   "cell_type": "code",
   "execution_count": 21,
   "id": "a8bea47b",
   "metadata": {
    "ExecuteTime": {
     "end_time": "2021-10-29T17:37:03.990082Z",
     "start_time": "2021-10-29T17:37:03.984380Z"
    }
   },
   "outputs": [
    {
     "data": {
      "text/plain": [
       "array(['CAM', 'CB', 'CDM', 'CF', 'CM', 'GK', 'LB', 'LM', 'LW', 'LWB',\n",
       "       'RB', 'RM', 'RW', 'RWB', 'ST'], dtype=object)"
      ]
     },
     "execution_count": 21,
     "metadata": {},
     "output_type": "execute_result"
    }
   ],
   "source": [
    "positions"
   ]
  },
  {
   "cell_type": "markdown",
   "id": "e97cec7e",
   "metadata": {},
   "source": [
    "**Bucketing in GK, Defence, Midfield, Offence**\n",
    "\n",
    "We have used 2 strategies for getting a response variable:\n",
    "\n",
    "    1. Bucketing the postions into 4 categories: Goalkeeper, Defender, Midfielder and Forward\n",
    "    2. Taking all the categories individually. This generally gives rise to 15 or 16 different positions across the players"
   ]
  },
  {
   "cell_type": "code",
   "execution_count": 22,
   "id": "4f16f91b",
   "metadata": {
    "ExecuteTime": {
     "end_time": "2021-10-29T17:37:05.472079Z",
     "start_time": "2021-10-29T17:37:05.465122Z"
    }
   },
   "outputs": [],
   "source": [
    "mapping_dict = {\n",
    "'GK':0 ,\n",
    "'LWB':1 ,\n",
    "'LB':1 ,\n",
    "'LCB':1 ,\n",
    "'CB':1 ,\n",
    "'RCB':1 ,\n",
    "'RB':1 ,\n",
    "'RWB':1 ,\n",
    "'LDM':2 ,\n",
    "'CDM':2 ,\n",
    "'RDM':2 ,\n",
    "'LM':2 ,\n",
    "'LCM':2 ,\n",
    "'CM':2 ,\n",
    "'RCM':2 ,\n",
    "'RM':2 ,\n",
    "'LAM':2 ,\n",
    "'CAM':2 ,\n",
    "'RAM':2 ,\n",
    "'LW':3 ,\n",
    "'LF':3 ,\n",
    "'CF':3 ,\n",
    "'RF':3 ,\n",
    "'RW':3 ,\n",
    "'LS':3 ,\n",
    "'ST':3 ,\n",
    "'RS':3 ,\n",
    "}"
   ]
  },
  {
   "cell_type": "code",
   "execution_count": 23,
   "id": "244217ac",
   "metadata": {
    "ExecuteTime": {
     "end_time": "2021-10-29T17:37:05.905197Z",
     "start_time": "2021-10-29T17:37:05.895706Z"
    }
   },
   "outputs": [],
   "source": [
    "mapped_pos_buckets = []\n",
    "for i in random_pos:\n",
    "    mapped_pos_buckets.append(mapping_dict[i])"
   ]
  },
  {
   "cell_type": "markdown",
   "id": "a5075e26",
   "metadata": {},
   "source": [
    "**Bucketing in full**"
   ]
  },
  {
   "cell_type": "code",
   "execution_count": 24,
   "id": "be2824db",
   "metadata": {
    "ExecuteTime": {
     "end_time": "2021-10-29T17:37:07.123419Z",
     "start_time": "2021-10-29T17:37:07.118576Z"
    }
   },
   "outputs": [],
   "source": [
    "mapping_dict_full = {}\n",
    "for i in range(len(positions)):\n",
    "    mapping_dict_full[positions[i]] = i"
   ]
  },
  {
   "cell_type": "code",
   "execution_count": 25,
   "id": "f5e9c908",
   "metadata": {
    "ExecuteTime": {
     "end_time": "2021-10-29T17:37:07.885428Z",
     "start_time": "2021-10-29T17:37:07.879375Z"
    }
   },
   "outputs": [
    {
     "data": {
      "text/plain": [
       "{'CAM': 0,\n",
       " 'CB': 1,\n",
       " 'CDM': 2,\n",
       " 'CF': 3,\n",
       " 'CM': 4,\n",
       " 'GK': 5,\n",
       " 'LB': 6,\n",
       " 'LM': 7,\n",
       " 'LW': 8,\n",
       " 'LWB': 9,\n",
       " 'RB': 10,\n",
       " 'RM': 11,\n",
       " 'RW': 12,\n",
       " 'RWB': 13,\n",
       " 'ST': 14}"
      ]
     },
     "execution_count": 25,
     "metadata": {},
     "output_type": "execute_result"
    }
   ],
   "source": [
    "mapping_dict_full"
   ]
  },
  {
   "cell_type": "code",
   "execution_count": 26,
   "id": "5e5f2f5f",
   "metadata": {
    "ExecuteTime": {
     "end_time": "2021-10-29T17:37:08.561055Z",
     "start_time": "2021-10-29T17:37:08.551183Z"
    }
   },
   "outputs": [],
   "source": [
    "mapped_pos_full = []\n",
    "for i in random_pos:\n",
    "    mapped_pos_full.append(mapping_dict_full[i])"
   ]
  },
  {
   "cell_type": "markdown",
   "id": "ea1b42c3",
   "metadata": {},
   "source": [
    "## Preprocessing for the Test set"
   ]
  },
  {
   "cell_type": "markdown",
   "id": "16e50a43",
   "metadata": {},
   "source": [
    "**We are doing basic preprocessing of the Test Set to make it resemble the Training Set. We also take values only from the required clubs**"
   ]
  },
  {
   "cell_type": "code",
   "execution_count": 27,
   "id": "96132792",
   "metadata": {
    "ExecuteTime": {
     "end_time": "2021-10-29T17:37:10.095126Z",
     "start_time": "2021-10-29T17:37:09.903756Z"
    },
    "scrolled": true
   },
   "outputs": [],
   "source": [
    "df_20 = pd.read_csv(path + '/fifadataset/players_20.csv')"
   ]
  },
  {
   "cell_type": "code",
   "execution_count": 28,
   "id": "4206c11a",
   "metadata": {
    "ExecuteTime": {
     "end_time": "2021-10-29T17:37:10.630031Z",
     "start_time": "2021-10-29T17:37:10.585319Z"
    }
   },
   "outputs": [],
   "source": [
    "test_clubs = ['FC Barcelona','FC Bayern München','Real Madrid' ,'Paris Saint-Germain','Juventus','Atlético Madrid','Manchester City','Liverpool','Manchester United']\n",
    "\n",
    "test_attributes = pd.DataFrame(minmax_attributes.transform(df_20[attribute_cols].fillna(0)),columns=attribute_cols).join(df_20['club'])\n",
    "test_attributes = test_attributes[test_attributes['club'].isin(test_clubs)].drop('club',axis=1)\n",
    "\n",
    "# traits_df_20 = comma(df_20[oh_comma[0]]).drop('0',axis = 1)\n",
    "# df_20 = df_20.drop(oh_comma[0],axis=1).join(traits_df_20)\n",
    "\n",
    "# test_total = pd.DataFrame(minmax_total.transform(df_20[sum_cols].fillna(0)),columns=sum_cols).join(df_20['club'])\n",
    "# test_total = test_total[test_total['club'].isin(test_clubs)].drop('club',axis=1)"
   ]
  },
  {
   "cell_type": "code",
   "execution_count": 29,
   "id": "c368cbe2",
   "metadata": {
    "ExecuteTime": {
     "end_time": "2021-10-29T17:37:11.169887Z",
     "start_time": "2021-10-29T17:37:11.128396Z"
    }
   },
   "outputs": [],
   "source": [
    "test_total = df_20[attribute_cols].join(traits_df_20[common_cols]).fillna(0)\n",
    "test_total = pd.DataFrame(minmax_total.transform(test_total),columns=test_total.columns).join(df_20['club'])\n",
    "test_total = test_total[test_total['club'].isin(test_clubs)].drop('club',axis=1)"
   ]
  },
  {
   "cell_type": "markdown",
   "id": "50c2a191",
   "metadata": {},
   "source": [
    "**Similar to the training set, we also take 2 test sets bucketed into the 4 categories or taken as is**"
   ]
  },
  {
   "cell_type": "code",
   "execution_count": 30,
   "id": "45ec35bc",
   "metadata": {
    "ExecuteTime": {
     "end_time": "2021-10-29T17:37:12.185605Z",
     "start_time": "2021-10-29T17:37:12.162694Z"
    }
   },
   "outputs": [],
   "source": [
    "df_test = df_20[df_20['club'].isin(test_clubs)]\n",
    "\n",
    "player_pos_df = df_test['player_positions']\n",
    "\n",
    "random_pos = []\n",
    "for i in player_pos_df:\n",
    "    dummy = i.split(',')\n",
    "    random_pos.append(dummy[np.random.randint(0,len(dummy))].strip())\n",
    "    \n",
    "positions = pd.Series(random_pos).unique()\n",
    "positions.sort()\n",
    "\n",
    "mapped_pos_buckets_test = []\n",
    "for i in random_pos:\n",
    "    mapped_pos_buckets_test.append(mapping_dict[i])\n",
    "    \n",
    "mapping_dict_full_test = {}\n",
    "for i in range(len(positions)):\n",
    "    mapping_dict_full_test[positions[i]] = i\n",
    "\n",
    "mapped_pos_full_test = []\n",
    "for i in random_pos:\n",
    "    mapped_pos_full_test.append(mapping_dict_full[i])"
   ]
  },
  {
   "cell_type": "markdown",
   "id": "e7457e1c",
   "metadata": {},
   "source": [
    "# Modelling"
   ]
  },
  {
   "cell_type": "markdown",
   "id": "cc4e18c4",
   "metadata": {},
   "source": [
    "## Model Selection"
   ]
  },
  {
   "cell_type": "markdown",
   "id": "636f2d2d",
   "metadata": {},
   "source": [
    "### Logistic Regression"
   ]
  },
  {
   "cell_type": "markdown",
   "id": "1b6af45d",
   "metadata": {},
   "source": [
    "**Testing with only attributes and 4 buckets for response**"
   ]
  },
  {
   "cell_type": "code",
   "execution_count": 31,
   "id": "25ac83fa",
   "metadata": {
    "ExecuteTime": {
     "end_time": "2021-10-29T16:38:31.280415Z",
     "start_time": "2021-10-29T16:38:26.960002Z"
    }
   },
   "outputs": [
    {
     "name": "stdout",
     "output_type": "stream",
     "text": [
      "Average test accuracy on cross validation across 10 folds is 0.8549240292628026\n"
     ]
    }
   ],
   "source": [
    "warnings.filterwarnings(\"ignore\")\n",
    "\n",
    "# X_train = df_attributes\n",
    "# y_train = mapped_pos_buckets\n",
    "\n",
    "\n",
    "logreg = LogisticRegression(random_state=42)\n",
    "cross_score = cross_validate(logreg,attributes_train,mapped_pos_buckets,scoring='accuracy',cv = 10,return_train_score=True)\n",
    "\n",
    "average_test_score = np.mean(cross_score['test_score'])\n",
    "print(f'Average test accuracy on cross validation across 10 folds is {average_test_score}')"
   ]
  },
  {
   "cell_type": "markdown",
   "id": "824f1cd5",
   "metadata": {},
   "source": [
    "Cross validation gives an accuracy of **85%** on a basic logistic regression, which is very good. But let us try this without the buckets"
   ]
  },
  {
   "cell_type": "markdown",
   "id": "54eeeaa2",
   "metadata": {},
   "source": [
    "**Testing with only attributes and 15 buckets for response**"
   ]
  },
  {
   "cell_type": "code",
   "execution_count": 32,
   "id": "bc7d4e95",
   "metadata": {
    "ExecuteTime": {
     "end_time": "2021-10-29T16:38:41.893235Z",
     "start_time": "2021-10-29T16:38:33.635833Z"
    }
   },
   "outputs": [
    {
     "name": "stdout",
     "output_type": "stream",
     "text": [
      "Average test accuracy on cross validation across 10 folds is 0.5930782217220034\n"
     ]
    }
   ],
   "source": [
    "warnings.filterwarnings(\"ignore\")\n",
    "\n",
    "# X_train = df_attributes\n",
    "# y_train = mapped_pos_buckets\n",
    "\n",
    "\n",
    "logreg = LogisticRegression(random_state=42)\n",
    "cross_score = cross_validate(logreg,attributes_train,mapped_pos_full,scoring='accuracy',cv = 10,return_train_score=True)\n",
    "\n",
    "average_test_score = np.mean(cross_score['test_score'])\n",
    "print(f'Average test accuracy on cross validation across 10 folds is {average_test_score}')"
   ]
  },
  {
   "cell_type": "markdown",
   "id": "00d02d23",
   "metadata": {},
   "source": [
    "As we can see, having a lot of buckets impacts the accuracy of a model greatly, decreasing from **85% to 59%**. But in our opinion, 60% accuracy is good with 15 buckets. As we will see below, even this model performs badly only with midfielders and wingers a lot, who often play ambiguous roles in games and hence have atypical attributes and traits"
   ]
  },
  {
   "cell_type": "markdown",
   "id": "a42db6e9",
   "metadata": {},
   "source": [
    "**Let us find out if adding all the player traits we used is impacting performance in any meaningful way**"
   ]
  },
  {
   "cell_type": "markdown",
   "id": "13b9b002",
   "metadata": {},
   "source": [
    "**Testing with attributes and traits and 4 buckets for response**"
   ]
  },
  {
   "cell_type": "code",
   "execution_count": 33,
   "id": "bda11fa7",
   "metadata": {
    "ExecuteTime": {
     "end_time": "2021-10-29T16:38:49.239613Z",
     "start_time": "2021-10-29T16:38:44.435071Z"
    }
   },
   "outputs": [
    {
     "name": "stdout",
     "output_type": "stream",
     "text": [
      "Average test accuracy on cross validation across 10 folds is 0.8546426561620709\n"
     ]
    }
   ],
   "source": [
    "warnings.filterwarnings(\"ignore\")\n",
    "\n",
    "# X_train = df_attributes\n",
    "# y_train = mapped_pos_buckets\n",
    "\n",
    "\n",
    "logreg = LogisticRegression(random_state=42)\n",
    "cross_score = cross_validate(logreg,total_train,mapped_pos_buckets,scoring='accuracy',cv = 10,return_train_score=True)\n",
    "\n",
    "average_test_score = np.mean(cross_score['test_score'])\n",
    "print(f'Average test accuracy on cross validation across 10 folds is {average_test_score}')"
   ]
  },
  {
   "cell_type": "markdown",
   "id": "96bbff7b",
   "metadata": {},
   "source": [
    "Performance actually seems to have decreased ever so slightly. But there is some randomness here, generally the additional traits columns only add ~ +- 0.5% accuracy"
   ]
  },
  {
   "cell_type": "markdown",
   "id": "b08df992",
   "metadata": {},
   "source": [
    "**Testing with attributes and traits and 15 buckets for response**"
   ]
  },
  {
   "cell_type": "code",
   "execution_count": 34,
   "id": "dcb5b80a",
   "metadata": {
    "ExecuteTime": {
     "end_time": "2021-10-29T16:38:58.064334Z",
     "start_time": "2021-10-29T16:38:49.240683Z"
    }
   },
   "outputs": [
    {
     "name": "stdout",
     "output_type": "stream",
     "text": [
      "Average test accuracy on cross validation across 10 folds is 0.5910523353967361\n"
     ]
    }
   ],
   "source": [
    "warnings.filterwarnings(\"ignore\")\n",
    "\n",
    "# X_train = df_attributes\n",
    "# y_train = mapped_pos_buckets\n",
    "\n",
    "\n",
    "logreg = LogisticRegression(random_state=42)\n",
    "cross_score = cross_validate(logreg,total_train,mapped_pos_full,scoring='accuracy',cv = 10,return_train_score=True)\n",
    "\n",
    "average_test_score = np.mean(cross_score['test_score'])\n",
    "print(f'Average test accuracy on cross validation across 10 folds is {average_test_score}')"
   ]
  },
  {
   "cell_type": "markdown",
   "id": "455d4b68",
   "metadata": {},
   "source": [
    "The same is the case with 15 buckets. The model is pretty much unaffected by the additional columns"
   ]
  },
  {
   "cell_type": "markdown",
   "id": "985776dd",
   "metadata": {},
   "source": [
    "**Let us try to use only attributes now (since adding traits does not really improve performance much) and try some different solvers and regularization on logistic regression and see how it improves our performace**"
   ]
  },
  {
   "cell_type": "code",
   "execution_count": 35,
   "id": "e31c401f",
   "metadata": {
    "ExecuteTime": {
     "end_time": "2021-10-29T17:00:14.596940Z",
     "start_time": "2021-10-29T16:39:33.043845Z"
    }
   },
   "outputs": [
    {
     "data": {
      "text/plain": [
       "GridSearchCV(cv=10, estimator=LogisticRegression(random_state=42),\n",
       "             param_grid={'C': [0.001, 0.01, 0.01, 0.1, 1, 10, 100],\n",
       "                         'solver': ['liblinear', 'newton-cg', 'lbfgs', 'sag',\n",
       "                                    'saga']})"
      ]
     },
     "execution_count": 35,
     "metadata": {},
     "output_type": "execute_result"
    }
   ],
   "source": [
    "solver_list = ['liblinear', 'newton-cg', 'lbfgs', 'sag', 'saga']\n",
    "c = [0.001,0.01,0.01,0.1,1,10,100]\n",
    "params = {'solver':solver_list,'C':c}\n",
    "logreg = LogisticRegression(random_state=42)\n",
    "clf = GridSearchCV(logreg, params, cv = 10)\n",
    "clf.fit(df_attributes,mapped_pos_buckets)"
   ]
  },
  {
   "cell_type": "code",
   "execution_count": 36,
   "id": "8f1ad925",
   "metadata": {
    "ExecuteTime": {
     "end_time": "2021-10-29T17:00:14.606402Z",
     "start_time": "2021-10-29T17:00:14.599838Z"
    }
   },
   "outputs": [
    {
     "data": {
      "text/plain": [
       "LogisticRegression(C=1, random_state=42)"
      ]
     },
     "execution_count": 36,
     "metadata": {},
     "output_type": "execute_result"
    }
   ],
   "source": [
    "clf.best_estimator_"
   ]
  },
  {
   "cell_type": "code",
   "execution_count": 37,
   "id": "5aab40bc",
   "metadata": {
    "ExecuteTime": {
     "end_time": "2021-10-29T17:00:14.626400Z",
     "start_time": "2021-10-29T17:00:14.607306Z"
    }
   },
   "outputs": [
    {
     "data": {
      "text/plain": [
       "0.855374226223973"
      ]
     },
     "execution_count": 37,
     "metadata": {},
     "output_type": "execute_result"
    }
   ],
   "source": [
    "clf.best_score_"
   ]
  },
  {
   "cell_type": "markdown",
   "id": "e23642a4",
   "metadata": {},
   "source": [
    "We can see here that our base model itself performs almost on par with the best model, so we can consider that accuracy itself -- of 85.5%"
   ]
  },
  {
   "cell_type": "markdown",
   "id": "209af357",
   "metadata": {},
   "source": [
    "### KNN"
   ]
  },
  {
   "cell_type": "markdown",
   "id": "2b90564c",
   "metadata": {},
   "source": [
    "**Let us try cross validating on KNN and compare how it performs with Logistic Regression**"
   ]
  },
  {
   "cell_type": "code",
   "execution_count": 38,
   "id": "010c3dbb",
   "metadata": {
    "ExecuteTime": {
     "end_time": "2021-10-29T17:12:30.278995Z",
     "start_time": "2021-10-29T17:03:35.060688Z"
    }
   },
   "outputs": [
    {
     "data": {
      "image/png": "[encoded data removed]",
      "text/plain": [
       "<Figure size 432x288 with 1 Axes>"
      ]
     },
     "metadata": {
      "needs_background": "light"
     },
     "output_type": "display_data"
    }
   ],
   "source": [
    "k_range = range(1, 101)\n",
    "k_scores = []\n",
    "\n",
    "for k in k_range:\n",
    "    knn = KNeighborsClassifier(n_neighbors=k)\n",
    "    scores = cross_val_score(knn, attributes_train, mapped_pos_buckets, cv=10, scoring='accuracy')\n",
    "    k_scores.append(scores.mean())\n",
    "# plot to see clearly\n",
    "plt.plot(k_range, k_scores)\n",
    "plt.xlabel('Value of K for KNN')\n",
    "plt.ylabel('Cross-Validated Accuracy')\n",
    "plt.show()"
   ]
  },
  {
   "cell_type": "code",
   "execution_count": 39,
   "id": "148a387a",
   "metadata": {
    "ExecuteTime": {
     "end_time": "2021-10-29T17:12:30.285850Z",
     "start_time": "2021-10-29T17:12:30.280896Z"
    }
   },
   "outputs": [
    {
     "name": "stdout",
     "output_type": "stream",
     "text": [
      "The maximum accuracy is 0.8480\n",
      "The k-value for maximum accuracy is 50\n"
     ]
    }
   ],
   "source": [
    "print(f'The maximum accuracy is {max(k_scores):.4f}')\n",
    "print(f'The k-value for maximum accuracy is {k_range[k_scores.index(max(k_scores))]}')"
   ]
  },
  {
   "cell_type": "markdown",
   "id": "c34fc1cd",
   "metadata": {},
   "source": [
    "As we can see the scores are slightly lesser than that for Logistic Regression\n",
    "\n",
    "Let us now try with the total train dataset (with attributes and player traits) but the same degree"
   ]
  },
  {
   "cell_type": "code",
   "execution_count": 41,
   "id": "3487e36e",
   "metadata": {
    "ExecuteTime": {
     "end_time": "2021-10-29T17:14:54.240529Z",
     "start_time": "2021-10-29T17:14:48.955940Z"
    }
   },
   "outputs": [
    {
     "name": "stdout",
     "output_type": "stream",
     "text": [
      "The mean accuracy with attributes and traits is 0.8293\n"
     ]
    }
   ],
   "source": [
    "knn = KNeighborsClassifier(n_neighbors=50)\n",
    "tot_score = cross_val_score(knn, total_train, mapped_pos_buckets, cv=10, scoring='accuracy')\n",
    "mean_score = np.mean(tot_score)\n",
    "print(f'The mean accuracy with attributes and traits is {mean_score:.4f}')"
   ]
  },
  {
   "cell_type": "markdown",
   "id": "c37e5614",
   "metadata": {},
   "source": [
    "### Multi layer Perceptron"
   ]
  },
  {
   "cell_type": "markdown",
   "id": "94324ea1",
   "metadata": {},
   "source": [
    "**First we train on only attributes with 4 prediction buckets**"
   ]
  },
  {
   "cell_type": "code",
   "execution_count": 31,
   "id": "70b0e231",
   "metadata": {
    "ExecuteTime": {
     "end_time": "2021-10-29T17:37:27.496272Z",
     "start_time": "2021-10-29T17:37:27.489970Z"
    }
   },
   "outputs": [
    {
     "data": {
      "text/plain": [
       "(17770, 46)"
      ]
     },
     "execution_count": 31,
     "metadata": {},
     "output_type": "execute_result"
    }
   ],
   "source": [
    "df_attributes.shape"
   ]
  },
  {
   "cell_type": "markdown",
   "id": "3d1c5700",
   "metadata": {},
   "source": [
    "**We experimented with a few different layouts for layers before deciding on this one**"
   ]
  },
  {
   "cell_type": "code",
   "execution_count": 32,
   "id": "07d045ed",
   "metadata": {
    "ExecuteTime": {
     "end_time": "2021-10-29T17:37:58.604266Z",
     "start_time": "2021-10-29T17:37:28.833112Z"
    },
    "code_folding": []
   },
   "outputs": [
    {
     "name": "stderr",
     "output_type": "stream",
     "text": [
      "2021-10-29 23:07:28.877602: I tensorflow/core/platform/cpu_feature_guard.cc:142] This TensorFlow binary is optimized with oneAPI Deep Neural Network Library (oneDNN) to use the following CPU instructions in performance-critical operations:  SSE4.1 SSE4.2\n",
      "To enable them in other operations, rebuild TensorFlow with the appropriate compiler flags.\n",
      "2021-10-29 23:07:29.068601: I tensorflow/compiler/mlir/mlir_graph_optimization_pass.cc:116] None of the MLIR optimization passes are enabled (registered 2)\n"
     ]
    },
    {
     "name": "stdout",
     "output_type": "stream",
     "text": [
      "Epoch 1/100\n",
      "143/143 - 1s - loss: 1.2397 - accuracy: 0.3781 - val_loss: 1.1883 - val_accuracy: 0.4246\n",
      "Epoch 2/100\n",
      "143/143 - 0s - loss: 1.0350 - accuracy: 0.5532 - val_loss: 0.9776 - val_accuracy: 0.7251\n",
      "Epoch 3/100\n",
      "143/143 - 0s - loss: 0.7956 - accuracy: 0.6872 - val_loss: 0.6791 - val_accuracy: 0.7819\n",
      "Epoch 4/100\n",
      "143/143 - 0s - loss: 0.5862 - accuracy: 0.7467 - val_loss: 0.5088 - val_accuracy: 0.8405\n",
      "Epoch 5/100\n",
      "143/143 - 0s - loss: 0.5022 - accuracy: 0.7750 - val_loss: 0.4411 - val_accuracy: 0.8433\n",
      "Epoch 6/100\n",
      "143/143 - 0s - loss: 0.4718 - accuracy: 0.7839 - val_loss: 0.4233 - val_accuracy: 0.8306\n",
      "Epoch 7/100\n",
      "143/143 - 0s - loss: 0.4562 - accuracy: 0.7929 - val_loss: 0.4137 - val_accuracy: 0.8286\n",
      "Epoch 8/100\n",
      "143/143 - 0s - loss: 0.4442 - accuracy: 0.8007 - val_loss: 0.4143 - val_accuracy: 0.8270\n",
      "Epoch 9/100\n",
      "143/143 - 0s - loss: 0.4399 - accuracy: 0.8018 - val_loss: 0.3798 - val_accuracy: 0.8621\n",
      "Epoch 10/100\n",
      "143/143 - 0s - loss: 0.4285 - accuracy: 0.8089 - val_loss: 0.4090 - val_accuracy: 0.8275\n",
      "Epoch 11/100\n",
      "143/143 - 0s - loss: 0.4251 - accuracy: 0.8121 - val_loss: 0.3796 - val_accuracy: 0.8568\n",
      "Epoch 12/100\n",
      "143/143 - 0s - loss: 0.4227 - accuracy: 0.8153 - val_loss: 0.5182 - val_accuracy: 0.7718\n",
      "Epoch 13/100\n",
      "143/143 - 0s - loss: 0.4175 - accuracy: 0.8173 - val_loss: 0.3948 - val_accuracy: 0.8416\n",
      "Epoch 14/100\n",
      "143/143 - 0s - loss: 0.4199 - accuracy: 0.8170 - val_loss: 0.3712 - val_accuracy: 0.8661\n",
      "Epoch 15/100\n",
      "143/143 - 0s - loss: 0.4125 - accuracy: 0.8182 - val_loss: 0.3721 - val_accuracy: 0.8503\n",
      "Epoch 16/100\n",
      "143/143 - 0s - loss: 0.4068 - accuracy: 0.8245 - val_loss: 0.5023 - val_accuracy: 0.7802\n",
      "Epoch 17/100\n",
      "143/143 - 0s - loss: 0.4095 - accuracy: 0.8232 - val_loss: 0.3461 - val_accuracy: 0.8723\n",
      "Epoch 18/100\n",
      "143/143 - 0s - loss: 0.4045 - accuracy: 0.8259 - val_loss: 0.3619 - val_accuracy: 0.8669\n",
      "Epoch 19/100\n",
      "143/143 - 0s - loss: 0.4040 - accuracy: 0.8276 - val_loss: 0.3545 - val_accuracy: 0.8745\n",
      "Epoch 20/100\n",
      "143/143 - 0s - loss: 0.4044 - accuracy: 0.8234 - val_loss: 0.3875 - val_accuracy: 0.8531\n",
      "Epoch 21/100\n",
      "143/143 - 0s - loss: 0.3984 - accuracy: 0.8288 - val_loss: 0.3601 - val_accuracy: 0.8739\n",
      "Epoch 22/100\n",
      "143/143 - 0s - loss: 0.3989 - accuracy: 0.8291 - val_loss: 0.4075 - val_accuracy: 0.8295\n",
      "Epoch 23/100\n",
      "143/143 - 0s - loss: 0.3925 - accuracy: 0.8333 - val_loss: 0.3406 - val_accuracy: 0.8770\n",
      "Epoch 24/100\n",
      "143/143 - 0s - loss: 0.3911 - accuracy: 0.8334 - val_loss: 0.3543 - val_accuracy: 0.8737\n",
      "Epoch 25/100\n",
      "143/143 - 0s - loss: 0.3872 - accuracy: 0.8338 - val_loss: 0.3394 - val_accuracy: 0.8742\n",
      "Epoch 26/100\n",
      "143/143 - 0s - loss: 0.3889 - accuracy: 0.8366 - val_loss: 0.3495 - val_accuracy: 0.8658\n",
      "Epoch 27/100\n",
      "143/143 - 0s - loss: 0.3858 - accuracy: 0.8391 - val_loss: 0.4062 - val_accuracy: 0.8531\n",
      "Epoch 28/100\n",
      "143/143 - 0s - loss: 0.3884 - accuracy: 0.8327 - val_loss: 0.3915 - val_accuracy: 0.8452\n",
      "Epoch 29/100\n",
      "143/143 - 0s - loss: 0.3818 - accuracy: 0.8385 - val_loss: 0.5907 - val_accuracy: 0.7501\n",
      "Epoch 30/100\n",
      "143/143 - 0s - loss: 0.3850 - accuracy: 0.8377 - val_loss: 0.5649 - val_accuracy: 0.7546\n",
      "Epoch 31/100\n",
      "143/143 - 0s - loss: 0.3825 - accuracy: 0.8386 - val_loss: 0.3380 - val_accuracy: 0.8745\n",
      "Epoch 32/100\n",
      "143/143 - 0s - loss: 0.3797 - accuracy: 0.8407 - val_loss: 0.3403 - val_accuracy: 0.8728\n",
      "Epoch 33/100\n",
      "143/143 - 0s - loss: 0.3797 - accuracy: 0.8414 - val_loss: 0.3328 - val_accuracy: 0.8801\n",
      "Epoch 34/100\n",
      "143/143 - 0s - loss: 0.3775 - accuracy: 0.8414 - val_loss: 0.4186 - val_accuracy: 0.8182\n",
      "Epoch 35/100\n",
      "143/143 - 0s - loss: 0.3779 - accuracy: 0.8412 - val_loss: 0.3657 - val_accuracy: 0.8562\n",
      "Epoch 36/100\n",
      "143/143 - 0s - loss: 0.3767 - accuracy: 0.8414 - val_loss: 0.3521 - val_accuracy: 0.8756\n",
      "Epoch 37/100\n",
      "143/143 - 0s - loss: 0.3763 - accuracy: 0.8410 - val_loss: 0.3379 - val_accuracy: 0.8824\n",
      "Epoch 38/100\n",
      "143/143 - 0s - loss: 0.3763 - accuracy: 0.8417 - val_loss: 0.3297 - val_accuracy: 0.8765\n",
      "Epoch 39/100\n",
      "143/143 - 0s - loss: 0.3756 - accuracy: 0.8433 - val_loss: 0.3343 - val_accuracy: 0.8773\n",
      "Epoch 40/100\n",
      "143/143 - 0s - loss: 0.3711 - accuracy: 0.8463 - val_loss: 0.3626 - val_accuracy: 0.8599\n",
      "Epoch 41/100\n",
      "143/143 - 0s - loss: 0.3752 - accuracy: 0.8412 - val_loss: 0.3375 - val_accuracy: 0.8728\n",
      "Epoch 42/100\n",
      "143/143 - 0s - loss: 0.3729 - accuracy: 0.8446 - val_loss: 0.3319 - val_accuracy: 0.8855\n",
      "Epoch 43/100\n",
      "143/143 - 0s - loss: 0.3694 - accuracy: 0.8464 - val_loss: 0.3271 - val_accuracy: 0.8790\n",
      "Epoch 44/100\n",
      "143/143 - 0s - loss: 0.3724 - accuracy: 0.8443 - val_loss: 0.3693 - val_accuracy: 0.8467\n",
      "Epoch 45/100\n",
      "143/143 - 0s - loss: 0.3708 - accuracy: 0.8453 - val_loss: 0.3615 - val_accuracy: 0.8610\n",
      "Epoch 46/100\n",
      "143/143 - 0s - loss: 0.3730 - accuracy: 0.8452 - val_loss: 0.3310 - val_accuracy: 0.8751\n",
      "Epoch 47/100\n",
      "143/143 - 0s - loss: 0.3688 - accuracy: 0.8453 - val_loss: 0.3404 - val_accuracy: 0.8784\n",
      "Epoch 48/100\n",
      "143/143 - 0s - loss: 0.3718 - accuracy: 0.8471 - val_loss: 0.3633 - val_accuracy: 0.8638\n",
      "Epoch 49/100\n",
      "143/143 - 0s - loss: 0.3710 - accuracy: 0.8453 - val_loss: 0.3310 - val_accuracy: 0.8748\n",
      "Epoch 50/100\n",
      "143/143 - 0s - loss: 0.3695 - accuracy: 0.8440 - val_loss: 0.3258 - val_accuracy: 0.8782\n",
      "Epoch 51/100\n",
      "143/143 - 0s - loss: 0.3689 - accuracy: 0.8474 - val_loss: 0.4594 - val_accuracy: 0.8039\n",
      "Epoch 52/100\n",
      "143/143 - 0s - loss: 0.3675 - accuracy: 0.8472 - val_loss: 0.4219 - val_accuracy: 0.8528\n",
      "Epoch 53/100\n",
      "143/143 - 0s - loss: 0.3726 - accuracy: 0.8440 - val_loss: 0.3348 - val_accuracy: 0.8720\n",
      "Epoch 54/100\n",
      "143/143 - 0s - loss: 0.3678 - accuracy: 0.8457 - val_loss: 0.3250 - val_accuracy: 0.8804\n",
      "Epoch 55/100\n",
      "143/143 - 0s - loss: 0.3682 - accuracy: 0.8464 - val_loss: 0.3840 - val_accuracy: 0.8475\n",
      "Epoch 56/100\n",
      "143/143 - 0s - loss: 0.3691 - accuracy: 0.8459 - val_loss: 0.3303 - val_accuracy: 0.8790\n",
      "Epoch 57/100\n",
      "143/143 - 0s - loss: 0.3681 - accuracy: 0.8466 - val_loss: 0.3493 - val_accuracy: 0.8658\n",
      "Epoch 58/100\n",
      "143/143 - 0s - loss: 0.3687 - accuracy: 0.8475 - val_loss: 0.3507 - val_accuracy: 0.8641\n",
      "Epoch 59/100\n",
      "143/143 - 0s - loss: 0.3695 - accuracy: 0.8473 - val_loss: 0.3326 - val_accuracy: 0.8815\n",
      "Epoch 60/100\n",
      "143/143 - 0s - loss: 0.3665 - accuracy: 0.8486 - val_loss: 0.3285 - val_accuracy: 0.8754\n",
      "Epoch 61/100\n",
      "143/143 - 0s - loss: 0.3664 - accuracy: 0.8457 - val_loss: 0.4636 - val_accuracy: 0.7999\n",
      "Epoch 62/100\n",
      "143/143 - 0s - loss: 0.3681 - accuracy: 0.8483 - val_loss: 0.3261 - val_accuracy: 0.8821\n",
      "Epoch 63/100\n",
      "143/143 - 0s - loss: 0.3655 - accuracy: 0.8472 - val_loss: 0.4085 - val_accuracy: 0.8264\n",
      "Epoch 64/100\n",
      "143/143 - 0s - loss: 0.3649 - accuracy: 0.8462 - val_loss: 0.3399 - val_accuracy: 0.8675\n",
      "Epoch 65/100\n",
      "143/143 - 0s - loss: 0.3645 - accuracy: 0.8469 - val_loss: 0.3454 - val_accuracy: 0.8618\n",
      "Epoch 66/100\n",
      "143/143 - 0s - loss: 0.3633 - accuracy: 0.8521 - val_loss: 0.3751 - val_accuracy: 0.8523\n",
      "Epoch 67/100\n",
      "143/143 - 0s - loss: 0.3644 - accuracy: 0.8498 - val_loss: 0.3245 - val_accuracy: 0.8815\n",
      "Epoch 68/100\n",
      "143/143 - 0s - loss: 0.3632 - accuracy: 0.8490 - val_loss: 0.3283 - val_accuracy: 0.8841\n",
      "Epoch 69/100\n",
      "143/143 - 0s - loss: 0.3654 - accuracy: 0.8483 - val_loss: 0.3874 - val_accuracy: 0.8385\n",
      "Epoch 70/100\n",
      "143/143 - 0s - loss: 0.3644 - accuracy: 0.8476 - val_loss: 0.3286 - val_accuracy: 0.8754\n",
      "Epoch 71/100\n",
      "143/143 - 0s - loss: 0.3629 - accuracy: 0.8502 - val_loss: 0.3306 - val_accuracy: 0.8838\n",
      "Epoch 72/100\n",
      "143/143 - 0s - loss: 0.3622 - accuracy: 0.8502 - val_loss: 0.3715 - val_accuracy: 0.8655\n",
      "Epoch 73/100\n",
      "143/143 - 0s - loss: 0.3628 - accuracy: 0.8483 - val_loss: 0.3394 - val_accuracy: 0.8644\n",
      "Epoch 74/100\n",
      "143/143 - 0s - loss: 0.3612 - accuracy: 0.8508 - val_loss: 0.3557 - val_accuracy: 0.8562\n",
      "Epoch 75/100\n",
      "143/143 - 0s - loss: 0.3600 - accuracy: 0.8514 - val_loss: 0.3245 - val_accuracy: 0.8813\n",
      "Epoch 76/100\n",
      "143/143 - 0s - loss: 0.3600 - accuracy: 0.8512 - val_loss: 0.3797 - val_accuracy: 0.8419\n",
      "Epoch 77/100\n",
      "143/143 - 0s - loss: 0.3611 - accuracy: 0.8498 - val_loss: 0.3426 - val_accuracy: 0.8644\n",
      "Epoch 78/100\n",
      "143/143 - 0s - loss: 0.3610 - accuracy: 0.8500 - val_loss: 0.3353 - val_accuracy: 0.8714\n",
      "Epoch 79/100\n",
      "143/143 - 0s - loss: 0.3613 - accuracy: 0.8493 - val_loss: 0.3501 - val_accuracy: 0.8694\n",
      "Epoch 80/100\n",
      "143/143 - 0s - loss: 0.3627 - accuracy: 0.8479 - val_loss: 0.3474 - val_accuracy: 0.8607\n",
      "Epoch 81/100\n",
      "143/143 - 0s - loss: 0.3623 - accuracy: 0.8495 - val_loss: 0.3401 - val_accuracy: 0.8689\n"
     ]
    },
    {
     "name": "stdout",
     "output_type": "stream",
     "text": [
      "Epoch 82/100\n",
      "143/143 - 0s - loss: 0.3601 - accuracy: 0.8510 - val_loss: 0.3324 - val_accuracy: 0.8768\n",
      "Epoch 83/100\n",
      "143/143 - 0s - loss: 0.3611 - accuracy: 0.8497 - val_loss: 0.3328 - val_accuracy: 0.8723\n",
      "Epoch 84/100\n",
      "143/143 - 0s - loss: 0.3601 - accuracy: 0.8498 - val_loss: 0.3649 - val_accuracy: 0.8573\n",
      "Epoch 85/100\n",
      "143/143 - 0s - loss: 0.3590 - accuracy: 0.8518 - val_loss: 0.3528 - val_accuracy: 0.8731\n",
      "Epoch 86/100\n",
      "143/143 - 0s - loss: 0.3602 - accuracy: 0.8518 - val_loss: 0.4200 - val_accuracy: 0.8202\n",
      "Epoch 87/100\n",
      "143/143 - 0s - loss: 0.3618 - accuracy: 0.8501 - val_loss: 0.3280 - val_accuracy: 0.8748\n",
      "Epoch 88/100\n",
      "143/143 - 0s - loss: 0.3588 - accuracy: 0.8500 - val_loss: 0.3310 - val_accuracy: 0.8728\n",
      "Epoch 89/100\n",
      "143/143 - 0s - loss: 0.3569 - accuracy: 0.8512 - val_loss: 0.3460 - val_accuracy: 0.8610\n",
      "Epoch 90/100\n",
      "143/143 - 0s - loss: 0.3585 - accuracy: 0.8505 - val_loss: 0.3244 - val_accuracy: 0.8799\n",
      "Epoch 91/100\n",
      "143/143 - 0s - loss: 0.3581 - accuracy: 0.8514 - val_loss: 0.3261 - val_accuracy: 0.8756\n",
      "Epoch 92/100\n",
      "143/143 - 0s - loss: 0.3596 - accuracy: 0.8511 - val_loss: 0.3516 - val_accuracy: 0.8531\n",
      "Epoch 93/100\n",
      "143/143 - 0s - loss: 0.3585 - accuracy: 0.8514 - val_loss: 0.3225 - val_accuracy: 0.8782\n",
      "Epoch 94/100\n",
      "143/143 - 0s - loss: 0.3582 - accuracy: 0.8498 - val_loss: 0.3335 - val_accuracy: 0.8723\n",
      "Epoch 95/100\n",
      "143/143 - 0s - loss: 0.3570 - accuracy: 0.8523 - val_loss: 0.3368 - val_accuracy: 0.8661\n",
      "Epoch 96/100\n",
      "143/143 - 0s - loss: 0.3574 - accuracy: 0.8514 - val_loss: 0.3770 - val_accuracy: 0.8436\n",
      "Epoch 97/100\n",
      "143/143 - 0s - loss: 0.3584 - accuracy: 0.8513 - val_loss: 0.3676 - val_accuracy: 0.8590\n",
      "Epoch 98/100\n",
      "143/143 - 0s - loss: 0.3587 - accuracy: 0.8515 - val_loss: 0.3538 - val_accuracy: 0.8616\n",
      "Epoch 99/100\n",
      "143/143 - 0s - loss: 0.3570 - accuracy: 0.8522 - val_loss: 0.3235 - val_accuracy: 0.8841\n",
      "Epoch 100/100\n",
      "143/143 - 0s - loss: 0.3572 - accuracy: 0.8535 - val_loss: 0.3502 - val_accuracy: 0.8579\n"
     ]
    }
   ],
   "source": [
    "from tensorflow.keras import regularizers\n",
    "# Input Parameters\n",
    "n_input = 46 # number of features\n",
    "n_hidden_1 = 300\n",
    "n_hidden_2 = 100\n",
    "n_hidden_3 = 100\n",
    "n_hidden_4 = 200\n",
    "num_outputs = 4\n",
    "\n",
    "Inp = Input(shape=(n_input,))\n",
    "x = Dense(n_hidden_1, activation='relu', name = \"Hidden_Layer_1\")(Inp)\n",
    "x = Dense(n_hidden_2, activation='relu', name = \"Hidden_Layer_2\")(x)\n",
    "x = Dense(n_hidden_3, activation='relu', name = \"Hidden_Layer_3\")(x)\n",
    "x = Dense(n_hidden_4, activation='relu', name = \"Hidden_Layer_4\")(x)\n",
    "output = Dense(num_outputs, activation='softmax', name = \"Output_Layer\")(x)\n",
    "\n",
    "model_4 = Model(Inp, output)\n",
    "\n",
    "\n",
    "learning_rate = 0.01\n",
    "training_epochs = 100\n",
    "batch_size = 100\n",
    "sgd = optimizers.SGD(lr=learning_rate)\n",
    "\n",
    "model_4.compile(loss='sparse_categorical_crossentropy',\n",
    "              optimizer='sgd',\n",
    "              metrics=['accuracy'])\n",
    "\n",
    "history = model_4.fit(attributes_train, np.array(mapped_pos_buckets),\n",
    "                     batch_size = batch_size,\n",
    "                     epochs = training_epochs,\n",
    "                     verbose = 2,\n",
    "                     validation_split=0.2)"
   ]
  },
  {
   "cell_type": "code",
   "execution_count": 33,
   "id": "0d9ddb51",
   "metadata": {
    "ExecuteTime": {
     "end_time": "2021-10-29T17:37:59.161458Z",
     "start_time": "2021-10-29T17:37:58.605597Z"
    }
   },
   "outputs": [
    {
     "name": "stdout",
     "output_type": "stream",
     "text": [
      "556/556 [==============================] - 0s 611us/step - loss: 0.3656 - accuracy: 0.8486\n",
      "The training set accuracy for the model is 0.8486212491989136\n"
     ]
    },
    {
     "data": {
      "text/plain": [
       "Text(0.5, 0.98, 'MLP Training')"
      ]
     },
     "execution_count": 33,
     "metadata": {},
     "output_type": "execute_result"
    },
    {
     "data": {
      "image/png": "[encoded data removed]",
      "text/plain": [
       "<Figure size 1152x288 with 2 Axes>"
      ]
     },
     "metadata": {
      "needs_background": "light"
     },
     "output_type": "display_data"
    }
   ],
   "source": [
    "train_accuracy = model_4.evaluate(attributes_train,np.array(mapped_pos_buckets))[1]\n",
    "print(f'The training set accuracy for the model is {train_accuracy}')\n",
    "\n",
    "# Here we plot the training and validation loss and accuracy\n",
    "\n",
    "fig, ax = plt.subplots(1,2,figsize = (16,4))\n",
    "ax[0].plot(history.history['loss'],color='#EFAEA4',label = 'Training Loss')\n",
    "ax[0].plot(history.history['val_loss'],color='#B2D7D0',label = 'Validation Loss')\n",
    "ax[1].plot(history.history['accuracy'],color='#EFAEA4',label = 'Training Accuracy')\n",
    "ax[1].plot(history.history['val_accuracy'],color='#B2D7D0',label = 'Validation Accuracy')\n",
    "ax[0].legend()\n",
    "ax[1].legend()\n",
    "ax[0].set_xlabel('Epochs')\n",
    "ax[1].set_xlabel('Epochs');\n",
    "ax[0].set_ylabel('Loss')\n",
    "ax[1].set_ylabel('Accuracy');\n",
    "fig.suptitle('MLP Training', fontsize = 24)"
   ]
  },
  {
   "cell_type": "markdown",
   "id": "0397716b",
   "metadata": {},
   "source": [
    "**Let us also train the model with only attributes and 15 buckets**"
   ]
  },
  {
   "cell_type": "code",
   "execution_count": 34,
   "id": "86102f65",
   "metadata": {
    "ExecuteTime": {
     "end_time": "2021-10-29T17:38:31.886993Z",
     "start_time": "2021-10-29T17:37:59.162395Z"
    }
   },
   "outputs": [
    {
     "name": "stdout",
     "output_type": "stream",
     "text": [
      "Epoch 1/100\n",
      "143/143 - 1s - loss: 2.5821 - accuracy: 0.2093 - val_loss: 2.4446 - val_accuracy: 0.3205\n",
      "Epoch 2/100\n",
      "143/143 - 0s - loss: 2.3279 - accuracy: 0.3851 - val_loss: 2.1820 - val_accuracy: 0.4215\n",
      "Epoch 3/100\n",
      "143/143 - 0s - loss: 2.0688 - accuracy: 0.3940 - val_loss: 1.8320 - val_accuracy: 0.4496\n",
      "Epoch 4/100\n",
      "143/143 - 0s - loss: 1.7961 - accuracy: 0.4280 - val_loss: 1.5895 - val_accuracy: 0.5270\n",
      "Epoch 5/100\n",
      "143/143 - 0s - loss: 1.6180 - accuracy: 0.4625 - val_loss: 1.5065 - val_accuracy: 0.5070\n",
      "Epoch 6/100\n",
      "143/143 - 0s - loss: 1.5302 - accuracy: 0.4715 - val_loss: 1.3796 - val_accuracy: 0.5492\n",
      "Epoch 7/100\n",
      "143/143 - 0s - loss: 1.4795 - accuracy: 0.4762 - val_loss: 1.3577 - val_accuracy: 0.5580\n",
      "Epoch 8/100\n",
      "143/143 - 0s - loss: 1.4451 - accuracy: 0.4896 - val_loss: 1.3180 - val_accuracy: 0.5703\n",
      "Epoch 9/100\n",
      "143/143 - 0s - loss: 1.4155 - accuracy: 0.4991 - val_loss: 1.2811 - val_accuracy: 0.5760\n",
      "Epoch 10/100\n",
      "143/143 - 0s - loss: 1.3895 - accuracy: 0.5079 - val_loss: 1.2581 - val_accuracy: 0.5763\n",
      "Epoch 11/100\n",
      "143/143 - 0s - loss: 1.3662 - accuracy: 0.5143 - val_loss: 1.3926 - val_accuracy: 0.5062\n",
      "Epoch 12/100\n",
      "143/143 - 0s - loss: 1.3482 - accuracy: 0.5205 - val_loss: 1.2121 - val_accuracy: 0.6055\n",
      "Epoch 13/100\n",
      "143/143 - 0s - loss: 1.3293 - accuracy: 0.5281 - val_loss: 1.2356 - val_accuracy: 0.5881\n",
      "Epoch 14/100\n",
      "143/143 - 0s - loss: 1.3130 - accuracy: 0.5334 - val_loss: 1.2014 - val_accuracy: 0.5982\n",
      "Epoch 15/100\n",
      "143/143 - 0s - loss: 1.3004 - accuracy: 0.5331 - val_loss: 1.2762 - val_accuracy: 0.5431\n",
      "Epoch 16/100\n",
      "143/143 - 0s - loss: 1.2919 - accuracy: 0.5369 - val_loss: 1.1884 - val_accuracy: 0.6044\n",
      "Epoch 17/100\n",
      "143/143 - 0s - loss: 1.2801 - accuracy: 0.5389 - val_loss: 1.2425 - val_accuracy: 0.5726\n",
      "Epoch 18/100\n",
      "143/143 - 0s - loss: 1.2699 - accuracy: 0.5413 - val_loss: 1.3157 - val_accuracy: 0.5369\n",
      "Epoch 19/100\n",
      "143/143 - 0s - loss: 1.2633 - accuracy: 0.5433 - val_loss: 1.3176 - val_accuracy: 0.5343\n",
      "Epoch 20/100\n",
      "143/143 - 0s - loss: 1.2541 - accuracy: 0.5471 - val_loss: 1.1414 - val_accuracy: 0.6156\n",
      "Epoch 21/100\n",
      "143/143 - 0s - loss: 1.2449 - accuracy: 0.5497 - val_loss: 1.2202 - val_accuracy: 0.5838\n",
      "Epoch 22/100\n",
      "143/143 - 0s - loss: 1.2370 - accuracy: 0.5549 - val_loss: 1.2047 - val_accuracy: 0.5757\n",
      "Epoch 23/100\n",
      "143/143 - 0s - loss: 1.2289 - accuracy: 0.5551 - val_loss: 1.1293 - val_accuracy: 0.6148\n",
      "Epoch 24/100\n",
      "143/143 - 0s - loss: 1.2234 - accuracy: 0.5573 - val_loss: 1.2271 - val_accuracy: 0.5591\n",
      "Epoch 25/100\n",
      "143/143 - 0s - loss: 1.2159 - accuracy: 0.5557 - val_loss: 1.1068 - val_accuracy: 0.6221\n",
      "Epoch 26/100\n",
      "143/143 - 0s - loss: 1.2081 - accuracy: 0.5603 - val_loss: 1.1204 - val_accuracy: 0.6024\n",
      "Epoch 27/100\n",
      "143/143 - 0s - loss: 1.2010 - accuracy: 0.5626 - val_loss: 1.1403 - val_accuracy: 0.5951\n",
      "Epoch 28/100\n",
      "143/143 - 0s - loss: 1.1999 - accuracy: 0.5627 - val_loss: 1.0932 - val_accuracy: 0.6238\n",
      "Epoch 29/100\n",
      "143/143 - 0s - loss: 1.1929 - accuracy: 0.5634 - val_loss: 1.1219 - val_accuracy: 0.6072\n",
      "Epoch 30/100\n",
      "143/143 - 0s - loss: 1.1842 - accuracy: 0.5679 - val_loss: 1.1150 - val_accuracy: 0.6097\n",
      "Epoch 31/100\n",
      "143/143 - 0s - loss: 1.1832 - accuracy: 0.5677 - val_loss: 1.1574 - val_accuracy: 0.5934\n",
      "Epoch 32/100\n",
      "143/143 - 0s - loss: 1.1786 - accuracy: 0.5663 - val_loss: 1.1345 - val_accuracy: 0.6111\n",
      "Epoch 33/100\n",
      "143/143 - 0s - loss: 1.1771 - accuracy: 0.5655 - val_loss: 1.1143 - val_accuracy: 0.6221\n",
      "Epoch 34/100\n",
      "143/143 - 0s - loss: 1.1742 - accuracy: 0.5713 - val_loss: 1.0776 - val_accuracy: 0.6111\n",
      "Epoch 35/100\n",
      "143/143 - 1s - loss: 1.1726 - accuracy: 0.5684 - val_loss: 1.1074 - val_accuracy: 0.6120\n",
      "Epoch 36/100\n",
      "143/143 - 0s - loss: 1.1706 - accuracy: 0.5710 - val_loss: 1.0812 - val_accuracy: 0.6249\n",
      "Epoch 37/100\n",
      "143/143 - 0s - loss: 1.1681 - accuracy: 0.5730 - val_loss: 1.1326 - val_accuracy: 0.5982\n",
      "Epoch 38/100\n",
      "143/143 - 0s - loss: 1.1663 - accuracy: 0.5702 - val_loss: 1.0691 - val_accuracy: 0.6317\n",
      "Epoch 39/100\n",
      "143/143 - 0s - loss: 1.1669 - accuracy: 0.5713 - val_loss: 1.1093 - val_accuracy: 0.5985\n",
      "Epoch 40/100\n",
      "143/143 - 0s - loss: 1.1633 - accuracy: 0.5726 - val_loss: 1.1765 - val_accuracy: 0.6103\n",
      "Epoch 41/100\n",
      "143/143 - 0s - loss: 1.1632 - accuracy: 0.5741 - val_loss: 1.1729 - val_accuracy: 0.5833\n",
      "Epoch 42/100\n",
      "143/143 - 0s - loss: 1.1587 - accuracy: 0.5760 - val_loss: 1.0646 - val_accuracy: 0.6306\n",
      "Epoch 43/100\n",
      "143/143 - 0s - loss: 1.1585 - accuracy: 0.5722 - val_loss: 1.0515 - val_accuracy: 0.6379\n",
      "Epoch 44/100\n",
      "143/143 - 0s - loss: 1.1546 - accuracy: 0.5756 - val_loss: 1.2830 - val_accuracy: 0.5498\n",
      "Epoch 45/100\n",
      "143/143 - 0s - loss: 1.1590 - accuracy: 0.5730 - val_loss: 1.1058 - val_accuracy: 0.6244\n",
      "Epoch 46/100\n",
      "143/143 - 0s - loss: 1.1545 - accuracy: 0.5729 - val_loss: 1.3899 - val_accuracy: 0.5281\n",
      "Epoch 47/100\n",
      "143/143 - 0s - loss: 1.1537 - accuracy: 0.5732 - val_loss: 1.1135 - val_accuracy: 0.6134\n",
      "Epoch 48/100\n",
      "143/143 - 0s - loss: 1.1587 - accuracy: 0.5738 - val_loss: 1.0437 - val_accuracy: 0.6412\n",
      "Epoch 49/100\n",
      "143/143 - 0s - loss: 1.1506 - accuracy: 0.5735 - val_loss: 1.0786 - val_accuracy: 0.6246\n",
      "Epoch 50/100\n",
      "143/143 - 0s - loss: 1.1497 - accuracy: 0.5736 - val_loss: 1.1469 - val_accuracy: 0.5962\n",
      "Epoch 51/100\n",
      "143/143 - 0s - loss: 1.1504 - accuracy: 0.5792 - val_loss: 1.0495 - val_accuracy: 0.6384\n",
      "Epoch 52/100\n",
      "143/143 - 0s - loss: 1.1512 - accuracy: 0.5727 - val_loss: 1.0635 - val_accuracy: 0.6286\n",
      "Epoch 53/100\n",
      "143/143 - 0s - loss: 1.1500 - accuracy: 0.5734 - val_loss: 1.1553 - val_accuracy: 0.5892\n",
      "Epoch 54/100\n",
      "143/143 - 0s - loss: 1.1460 - accuracy: 0.5777 - val_loss: 1.0847 - val_accuracy: 0.6137\n",
      "Epoch 55/100\n",
      "143/143 - 0s - loss: 1.1503 - accuracy: 0.5729 - val_loss: 1.1006 - val_accuracy: 0.6224\n",
      "Epoch 56/100\n",
      "143/143 - 0s - loss: 1.1486 - accuracy: 0.5767 - val_loss: 1.0429 - val_accuracy: 0.6339\n",
      "Epoch 57/100\n",
      "143/143 - 0s - loss: 1.1476 - accuracy: 0.5775 - val_loss: 1.0786 - val_accuracy: 0.6227\n",
      "Epoch 58/100\n",
      "143/143 - 0s - loss: 1.1420 - accuracy: 0.5755 - val_loss: 1.0849 - val_accuracy: 0.6199\n",
      "Epoch 59/100\n",
      "143/143 - 0s - loss: 1.1445 - accuracy: 0.5761 - val_loss: 1.1424 - val_accuracy: 0.5920\n",
      "Epoch 60/100\n",
      "143/143 - 0s - loss: 1.1461 - accuracy: 0.5777 - val_loss: 1.1376 - val_accuracy: 0.6058\n",
      "Epoch 61/100\n",
      "143/143 - 0s - loss: 1.1417 - accuracy: 0.5796 - val_loss: 1.0465 - val_accuracy: 0.6339\n",
      "Epoch 62/100\n",
      "143/143 - 0s - loss: 1.1451 - accuracy: 0.5761 - val_loss: 1.0577 - val_accuracy: 0.6246\n",
      "Epoch 63/100\n",
      "143/143 - 0s - loss: 1.1423 - accuracy: 0.5793 - val_loss: 1.0481 - val_accuracy: 0.6334\n",
      "Epoch 64/100\n",
      "143/143 - 0s - loss: 1.1430 - accuracy: 0.5802 - val_loss: 1.0536 - val_accuracy: 0.6294\n",
      "Epoch 65/100\n",
      "143/143 - 0s - loss: 1.1429 - accuracy: 0.5738 - val_loss: 1.0488 - val_accuracy: 0.6306\n",
      "Epoch 66/100\n",
      "143/143 - 0s - loss: 1.1410 - accuracy: 0.5800 - val_loss: 1.1060 - val_accuracy: 0.6030\n",
      "Epoch 67/100\n",
      "143/143 - 0s - loss: 1.1408 - accuracy: 0.5782 - val_loss: 1.0645 - val_accuracy: 0.6300\n",
      "Epoch 68/100\n",
      "143/143 - 0s - loss: 1.1406 - accuracy: 0.5760 - val_loss: 1.1130 - val_accuracy: 0.6128\n",
      "Epoch 69/100\n",
      "143/143 - 0s - loss: 1.1428 - accuracy: 0.5791 - val_loss: 1.0599 - val_accuracy: 0.6232\n",
      "Epoch 70/100\n",
      "143/143 - 0s - loss: 1.1398 - accuracy: 0.5786 - val_loss: 1.0419 - val_accuracy: 0.6382\n",
      "Epoch 71/100\n",
      "143/143 - 0s - loss: 1.1415 - accuracy: 0.5791 - val_loss: 1.1111 - val_accuracy: 0.6050\n",
      "Epoch 72/100\n",
      "143/143 - 0s - loss: 1.1379 - accuracy: 0.5781 - val_loss: 1.0686 - val_accuracy: 0.6266\n",
      "Epoch 73/100\n",
      "143/143 - 0s - loss: 1.1384 - accuracy: 0.5792 - val_loss: 1.0870 - val_accuracy: 0.6187\n",
      "Epoch 74/100\n",
      "143/143 - 0s - loss: 1.1385 - accuracy: 0.5789 - val_loss: 1.0486 - val_accuracy: 0.6345\n",
      "Epoch 75/100\n",
      "143/143 - 0s - loss: 1.1372 - accuracy: 0.5757 - val_loss: 1.0606 - val_accuracy: 0.6165\n",
      "Epoch 76/100\n",
      "143/143 - 0s - loss: 1.1372 - accuracy: 0.5835 - val_loss: 1.0634 - val_accuracy: 0.6384\n",
      "Epoch 77/100\n",
      "143/143 - 0s - loss: 1.1387 - accuracy: 0.5795 - val_loss: 1.1688 - val_accuracy: 0.5988\n",
      "Epoch 78/100\n",
      "143/143 - 0s - loss: 1.1395 - accuracy: 0.5773 - val_loss: 1.0371 - val_accuracy: 0.6410\n",
      "Epoch 79/100\n",
      "143/143 - 0s - loss: 1.1362 - accuracy: 0.5775 - val_loss: 1.0534 - val_accuracy: 0.6339\n",
      "Epoch 80/100\n",
      "143/143 - 0s - loss: 1.1376 - accuracy: 0.5801 - val_loss: 1.0860 - val_accuracy: 0.6232\n",
      "Epoch 81/100\n",
      "143/143 - 0s - loss: 1.1378 - accuracy: 0.5800 - val_loss: 1.0352 - val_accuracy: 0.6379\n"
     ]
    },
    {
     "name": "stdout",
     "output_type": "stream",
     "text": [
      "Epoch 82/100\n",
      "143/143 - 0s - loss: 1.1377 - accuracy: 0.5772 - val_loss: 1.1611 - val_accuracy: 0.5979\n",
      "Epoch 83/100\n",
      "143/143 - 0s - loss: 1.1364 - accuracy: 0.5765 - val_loss: 1.0466 - val_accuracy: 0.6339\n",
      "Epoch 84/100\n",
      "143/143 - 0s - loss: 1.1374 - accuracy: 0.5815 - val_loss: 1.0692 - val_accuracy: 0.6263\n",
      "Epoch 85/100\n",
      "143/143 - 0s - loss: 1.1330 - accuracy: 0.5812 - val_loss: 1.2245 - val_accuracy: 0.5729\n",
      "Epoch 86/100\n",
      "143/143 - 0s - loss: 1.1366 - accuracy: 0.5808 - val_loss: 1.0808 - val_accuracy: 0.6120\n",
      "Epoch 87/100\n",
      "143/143 - 0s - loss: 1.1346 - accuracy: 0.5791 - val_loss: 1.0418 - val_accuracy: 0.6362\n",
      "Epoch 88/100\n",
      "143/143 - 0s - loss: 1.1357 - accuracy: 0.5830 - val_loss: 1.0575 - val_accuracy: 0.6339\n",
      "Epoch 89/100\n",
      "143/143 - 0s - loss: 1.1330 - accuracy: 0.5836 - val_loss: 1.0659 - val_accuracy: 0.6244\n",
      "Epoch 90/100\n",
      "143/143 - 0s - loss: 1.1327 - accuracy: 0.5823 - val_loss: 1.0450 - val_accuracy: 0.6370\n",
      "Epoch 91/100\n",
      "143/143 - 0s - loss: 1.1322 - accuracy: 0.5831 - val_loss: 1.0529 - val_accuracy: 0.6283\n",
      "Epoch 92/100\n",
      "143/143 - 0s - loss: 1.1331 - accuracy: 0.5806 - val_loss: 1.0486 - val_accuracy: 0.6249\n",
      "Epoch 93/100\n",
      "143/143 - 0s - loss: 1.1337 - accuracy: 0.5805 - val_loss: 1.0584 - val_accuracy: 0.6367\n",
      "Epoch 94/100\n",
      "143/143 - 0s - loss: 1.1327 - accuracy: 0.5809 - val_loss: 1.0414 - val_accuracy: 0.6373\n",
      "Epoch 95/100\n",
      "143/143 - 0s - loss: 1.1324 - accuracy: 0.5812 - val_loss: 1.0679 - val_accuracy: 0.6204\n",
      "Epoch 96/100\n",
      "143/143 - 0s - loss: 1.1317 - accuracy: 0.5805 - val_loss: 1.0797 - val_accuracy: 0.6140\n",
      "Epoch 97/100\n",
      "143/143 - 0s - loss: 1.1307 - accuracy: 0.5848 - val_loss: 1.0361 - val_accuracy: 0.6339\n",
      "Epoch 98/100\n",
      "143/143 - 0s - loss: 1.1334 - accuracy: 0.5811 - val_loss: 1.0671 - val_accuracy: 0.6308\n",
      "Epoch 99/100\n",
      "143/143 - 0s - loss: 1.1302 - accuracy: 0.5848 - val_loss: 1.1006 - val_accuracy: 0.6244\n",
      "Epoch 100/100\n",
      "143/143 - 0s - loss: 1.1321 - accuracy: 0.5848 - val_loss: 1.0781 - val_accuracy: 0.6261\n"
     ]
    }
   ],
   "source": [
    "# Input Parameters\n",
    "n_input = 46 # number of features\n",
    "n_hidden_1 = 300\n",
    "n_hidden_2 = 100\n",
    "n_hidden_3 = 100\n",
    "n_hidden_4 = 200\n",
    "num_outputs = 15\n",
    "\n",
    "Inp = Input(shape=(n_input,))\n",
    "x = Dense(n_hidden_1, activation='relu', name = \"Hidden_Layer_1\")(Inp)\n",
    "x = Dense(n_hidden_2, activation='relu', name = \"Hidden_Layer_2\")(x)\n",
    "x = Dense(n_hidden_3, activation='relu', name = \"Hidden_Layer_3\")(x)\n",
    "x = Dense(n_hidden_4, activation='relu',name = \"Hidden_Layer_4\")(x)\n",
    "output = Dense(num_outputs, activation='softmax', name = \"Output_Layer\")(x)\n",
    "\n",
    "model_15 = Model(Inp, output)\n",
    "\n",
    "\n",
    "learning_rate = 0.01\n",
    "training_epochs = 100\n",
    "batch_size = 100\n",
    "sgd = optimizers.SGD(lr=learning_rate)\n",
    "\n",
    "model_15.compile(loss='sparse_categorical_crossentropy',\n",
    "              optimizer='sgd',\n",
    "              metrics=['accuracy'])\n",
    "\n",
    "history = model_15.fit(attributes_train, np.array(mapped_pos_full),\n",
    "                     batch_size = batch_size,\n",
    "                     epochs = training_epochs,\n",
    "                     verbose = 2,\n",
    "                     validation_split=0.2)"
   ]
  },
  {
   "cell_type": "code",
   "execution_count": 35,
   "id": "018e034b",
   "metadata": {
    "ExecuteTime": {
     "end_time": "2021-10-29T17:38:32.450700Z",
     "start_time": "2021-10-29T17:38:31.888633Z"
    }
   },
   "outputs": [
    {
     "name": "stdout",
     "output_type": "stream",
     "text": [
      "556/556 [==============================] - 0s 658us/step - loss: 1.1408 - accuracy: 0.5837\n",
      "The training set accuracy for the model is 0.5836803317070007\n"
     ]
    },
    {
     "data": {
      "text/plain": [
       "Text(0.5, 0.98, 'MLP Training')"
      ]
     },
     "execution_count": 35,
     "metadata": {},
     "output_type": "execute_result"
    },
    {
     "data": {
      "image/png": "[encoded data removed]",
      "text/plain": [
       "<Figure size 1152x288 with 2 Axes>"
      ]
     },
     "metadata": {
      "needs_background": "light"
     },
     "output_type": "display_data"
    }
   ],
   "source": [
    "train_accuracy = model_15.evaluate(attributes_train,np.array(mapped_pos_full))[1]\n",
    "print(f'The training set accuracy for the model is {train_accuracy}')\n",
    "\n",
    "# Here we plot the training and validation loss and accuracy\n",
    "\n",
    "fig, ax = plt.subplots(1,2,figsize = (16,4))\n",
    "ax[0].plot(history.history['loss'],color='#EFAEA4',label = 'Training Loss')\n",
    "ax[0].plot(history.history['val_loss'],color='#B2D7D0',label = 'Validation Loss')\n",
    "ax[1].plot(history.history['accuracy'],color='#EFAEA4',label = 'Training Accuracy')\n",
    "ax[1].plot(history.history['val_accuracy'],color='#B2D7D0',label = 'Validation Accuracy')\n",
    "ax[0].legend()\n",
    "ax[1].legend()\n",
    "ax[0].set_xlabel('Epochs')\n",
    "ax[1].set_xlabel('Epochs');\n",
    "ax[0].set_ylabel('Loss')\n",
    "ax[1].set_ylabel('Accuracy');\n",
    "fig.suptitle('MLP Training', fontsize = 24)"
   ]
  },
  {
   "cell_type": "markdown",
   "id": "d09d0a99",
   "metadata": {},
   "source": [
    "**Note: In MLP model we tried with L2 regularization with lambda=0.01, it didnt improve accuracy much, however with lambda=0.1, the accuracy dropped for both type of models(with 4 and 15 classes). With  regularization and Early stopping(patience value = 10 and 50) accuracy value didn't improve respectively = 0.54(for 15 class model) and without these 0.59, and with(4 class model) = 0.81,wheras with only L2 regularization = 0.81, without any callback and regularization, accuracy is 0.85**"
   ]
  },
  {
   "cell_type": "markdown",
   "id": "a5c75501",
   "metadata": {},
   "source": [
    "## Testing"
   ]
  },
  {
   "cell_type": "markdown",
   "id": "2d377886",
   "metadata": {},
   "source": [
    "**As we saw above, we are choosing MLP as the best model. Let us test our data with MLP**"
   ]
  },
  {
   "cell_type": "code",
   "execution_count": 36,
   "id": "d43e8b8d",
   "metadata": {
    "ExecuteTime": {
     "end_time": "2021-10-29T17:38:53.089517Z",
     "start_time": "2021-10-29T17:38:52.921591Z"
    }
   },
   "outputs": [
    {
     "data": {
      "text/plain": [
       "0.8466898954703833"
      ]
     },
     "execution_count": 36,
     "metadata": {},
     "output_type": "execute_result"
    }
   ],
   "source": [
    "prediction_4 = model_4.predict(test_attributes)\n",
    "\n",
    "final_prediction_4 = []\n",
    "for i in prediction_4:\n",
    "    final_prediction_4.append(np.argmax(i))\n",
    "    \n",
    "accuracy_score(final_prediction_4,mapped_pos_buckets_test)"
   ]
  },
  {
   "cell_type": "markdown",
   "id": "d5a173f1",
   "metadata": {},
   "source": [
    "**We are getting 85% accuracy on the test set too, which is very good**"
   ]
  },
  {
   "cell_type": "code",
   "execution_count": 37,
   "id": "665e3d0a",
   "metadata": {
    "ExecuteTime": {
     "end_time": "2021-10-29T17:38:57.905629Z",
     "start_time": "2021-10-29T17:38:57.797901Z"
    }
   },
   "outputs": [
    {
     "data": {
      "text/plain": [
       "0.5435540069686411"
      ]
     },
     "execution_count": 37,
     "metadata": {},
     "output_type": "execute_result"
    }
   ],
   "source": [
    "prediction_15 = model_15.predict(test_attributes)\n",
    "\n",
    "final_prediction_15 = []\n",
    "for i in prediction_15:\n",
    "    final_prediction_15.append(np.argmax(i))\n",
    "    \n",
    "accuracy_score(final_prediction_15,mapped_pos_full_test)"
   ]
  },
  {
   "cell_type": "markdown",
   "id": "3458d529",
   "metadata": {},
   "source": [
    "**The difference between training score and testing score is a lot in this case**"
   ]
  },
  {
   "cell_type": "code",
   "execution_count": 48,
   "id": "2438f2d1",
   "metadata": {
    "ExecuteTime": {
     "end_time": "2021-10-29T17:55:06.179327Z",
     "start_time": "2021-10-29T17:55:05.520073Z"
    },
    "scrolled": false
   },
   "outputs": [
    {
     "data": {
      "text/plain": [
       "Text(1149.5909090909088, 0.5, 'Predicted')"
      ]
     },
     "execution_count": 48,
     "metadata": {},
     "output_type": "execute_result"
    },
    {
     "data": {
      "image/png": "[encoded data removed]",
      "text/plain": [
       "<Figure size 2160x1080 with 4 Axes>"
      ]
     },
     "metadata": {},
     "output_type": "display_data"
    }
   ],
   "source": [
    "# Plot Confusion Matrix-Neural Networks for both  prediction models -test cases- 4 Responses and 15 responses\n",
    "# Convert Confusion matrix to dataframes\n",
    "cm_nn_bucketed_test = confusion_matrix(final_prediction_4,mapped_pos_buckets_test)\n",
    "df_cm = pd.DataFrame(cm_nn_bucketed_test, index = [i for i in ['Goalkeeper', 'Defender', 'Midfielder', 'Forward']],\n",
    "                  columns = [i for i in ['Goalkeeper', 'Defender', 'Midfielder', 'Forward']])\n",
    "cm_nn_full_test = confusion_matrix(final_prediction_15,mapped_pos_full_test)\n",
    "df_cm_full = pd.DataFrame(cm_nn_full_test, index = [i for i in mapping_dict_full.keys()],\n",
    "                  columns = [i for i in mapping_dict_full.keys()])\n",
    "fig, axes = plt.subplots(1,2,figsize=(30,15))\n",
    "sns.set(font_scale=2)\n",
    "sns.heatmap(df_cm, annot=True,ax = axes[0])\n",
    "\n",
    "axes[0].set_title(' NN-Confusion Matrix-Bucketed')\n",
    "axes[0].set_xlabel('Actual')\n",
    "axes[0].set_ylabel('Predicted')\n",
    "sns.heatmap(df_cm_full, annot=True, ax = axes[1])\n",
    "\n",
    "axes[1].set_title('NN-Confusion Matrix-Full')\n",
    "axes[1].set_xlabel('Actual')\n",
    "axes[1].set_ylabel('Predicted')"
   ]
  },
  {
   "cell_type": "markdown",
   "id": "f89d2d3e",
   "metadata": {},
   "source": [
    "**Let us try fitting the model with our second best model too, which is the Logistic Regression**"
   ]
  },
  {
   "cell_type": "code",
   "execution_count": 50,
   "id": "a657648c",
   "metadata": {
    "ExecuteTime": {
     "end_time": "2021-10-29T17:56:00.253542Z",
     "start_time": "2021-10-29T17:55:59.735854Z"
    }
   },
   "outputs": [
    {
     "data": {
      "text/plain": [
       "0.8536585365853658"
      ]
     },
     "execution_count": 50,
     "metadata": {},
     "output_type": "execute_result"
    }
   ],
   "source": [
    "warnings.filterwarnings(\"ignore\")\n",
    "logreg_buckets = LogisticRegression(random_state=42)\n",
    "logreg_buckets.fit(attributes_train,mapped_pos_buckets)\n",
    "\n",
    "logreg_pred_buckets = logreg_buckets.predict(test_attributes)\n",
    "accuracy_score(logreg_pred_buckets,mapped_pos_buckets_test)"
   ]
  },
  {
   "cell_type": "markdown",
   "id": "16d43872",
   "metadata": {},
   "source": [
    "**We are getting a test accuracy of 85% similar to training accuracy, and this is incidentally better than the NN too**"
   ]
  },
  {
   "cell_type": "code",
   "execution_count": 41,
   "id": "f1625647",
   "metadata": {
    "ExecuteTime": {
     "end_time": "2021-10-29T17:41:15.732990Z",
     "start_time": "2021-10-29T17:41:14.744845Z"
    }
   },
   "outputs": [
    {
     "data": {
      "text/plain": [
       "0.578397212543554"
      ]
     },
     "execution_count": 41,
     "metadata": {},
     "output_type": "execute_result"
    }
   ],
   "source": [
    "warnings.filterwarnings(\"ignore\")\n",
    "logreg_full = LogisticRegression(random_state=42)\n",
    "logreg_full.fit(attributes_train,mapped_pos_full)\n",
    "\n",
    "logreg_pred_full = logreg_full.predict(test_attributes)\n",
    "accuracy_score(logreg_pred_full,mapped_pos_full_test)"
   ]
  },
  {
   "cell_type": "markdown",
   "id": "31367941",
   "metadata": {},
   "source": [
    "**Our test accuracy here is similar to that from our cross validation**"
   ]
  },
  {
   "cell_type": "code",
   "execution_count": 47,
   "id": "81a186a0",
   "metadata": {
    "ExecuteTime": {
     "end_time": "2021-10-29T17:54:41.796815Z",
     "start_time": "2021-10-29T17:54:41.101693Z"
    }
   },
   "outputs": [
    {
     "data": {
      "text/plain": [
       "Text(1149.5909090909088, 0.5, 'Predicted')"
      ]
     },
     "execution_count": 47,
     "metadata": {},
     "output_type": "execute_result"
    },
    {
     "data": {
      "image/png": "[encoded data removed]",
      "text/plain": [
       "<Figure size 2160x1080 with 4 Axes>"
      ]
     },
     "metadata": {},
     "output_type": "display_data"
    }
   ],
   "source": [
    "# Plot Confusion Matrix for both  prediction models -test cases- 4 Responses and 15 responses\n",
    "# Convert Confusion matrix to dataframes\n",
    "cm_nn_bucketed_test = confusion_matrix(logreg_pred_buckets,mapped_pos_buckets_test)\n",
    "df_cm = pd.DataFrame(cm_nn_bucketed_test, index = [i for i in ['Goalkeeper', 'Defender', 'Midfielder', 'Forward']],\n",
    "                  columns = [i for i in ['Goalkeeper', 'Defender', 'Midfielder', 'Forward']])\n",
    "cm_nn_full_test = confusion_matrix(logreg_pred_full,mapped_pos_full_test)\n",
    "df_cm_full = pd.DataFrame(cm_nn_full_test, index = [i for i in mapping_dict_full.keys()],\n",
    "                  columns = [i for i in mapping_dict_full.keys()])\n",
    "fig, axes = plt.subplots(1,2,figsize=(30,15))\n",
    "sns.set(font_scale=2)\n",
    "sns.heatmap(df_cm, annot=True,ax = axes[0])\n",
    "\n",
    "axes[0].set_title(' logistic Regression-Confusion Matrix-Bucketed')\n",
    "axes[0].set_xlabel('Actual')\n",
    "axes[0].set_ylabel('Predicted')\n",
    "sns.heatmap(df_cm_full, annot=True, ax = axes[1])\n",
    "\n",
    "axes[1].set_title('logistic Regression-Confusion Matrix-Full')\n",
    "axes[1].set_xlabel('Actual')\n",
    "axes[1].set_ylabel('Predicted')"
   ]
  },
  {
   "cell_type": "markdown",
   "id": "0ea20e7b",
   "metadata": {},
   "source": [
    "## Trying Random Forests"
   ]
  },
  {
   "cell_type": "markdown",
   "id": "fe43522c",
   "metadata": {},
   "source": [
    "**Let us see if we can improve performance. From our previous experience in ML-2, we have found that Random Forests perform very well at this kind of task. So let us try fitting a RF model on only attributes data with 4 buckets to see if we can improve performance**"
   ]
  },
  {
   "cell_type": "code",
   "execution_count": 43,
   "id": "fe7fc89a",
   "metadata": {
    "ExecuteTime": {
     "end_time": "2021-10-29T17:52:20.743812Z",
     "start_time": "2021-10-29T17:42:21.336156Z"
    }
   },
   "outputs": [
    {
     "data": {
      "text/plain": [
       "GridSearchCV(cv=10,\n",
       "             estimator=RandomForestClassifier(n_jobs=-1, oob_score=True,\n",
       "                                              random_state=66,\n",
       "                                              warm_start=True),\n",
       "             param_grid={'max_depth': range(5, 9),\n",
       "                         'n_estimators': range(500, 1000, 100)})"
      ]
     },
     "execution_count": 43,
     "metadata": {},
     "output_type": "execute_result"
    }
   ],
   "source": [
    "rf = RandomForestClassifier(warm_start=True, oob_score=True, n_jobs=-1, random_state=66)\n",
    "param_grid_rf = { \"n_estimators\": range(500,1000, 100), \"max_depth\": range(5,9)}\n",
    "\n",
    "clf = GridSearchCV(rf, param_grid_rf, cv = 10)\n",
    "clf.fit(attributes_train,mapped_pos_buckets)"
   ]
  },
  {
   "cell_type": "code",
   "execution_count": 44,
   "id": "3210308c",
   "metadata": {
    "ExecuteTime": {
     "end_time": "2021-10-29T17:52:20.755738Z",
     "start_time": "2021-10-29T17:52:20.749905Z"
    }
   },
   "outputs": [
    {
     "data": {
      "text/plain": [
       "RandomForestClassifier(max_depth=8, n_estimators=900, n_jobs=-1, oob_score=True,\n",
       "                       random_state=66, warm_start=True)"
      ]
     },
     "execution_count": 44,
     "metadata": {},
     "output_type": "execute_result"
    }
   ],
   "source": [
    "clf.best_estimator_"
   ]
  },
  {
   "cell_type": "code",
   "execution_count": 45,
   "id": "92e92c71",
   "metadata": {
    "ExecuteTime": {
     "end_time": "2021-10-29T17:52:20.765569Z",
     "start_time": "2021-10-29T17:52:20.756639Z"
    }
   },
   "outputs": [
    {
     "data": {
      "text/plain": [
       "0.8380416432189082"
      ]
     },
     "execution_count": 45,
     "metadata": {},
     "output_type": "execute_result"
    }
   ],
   "source": [
    "clf.best_score_"
   ]
  },
  {
   "cell_type": "code",
   "execution_count": 46,
   "id": "16fd2609",
   "metadata": {
    "ExecuteTime": {
     "end_time": "2021-10-29T17:52:22.336210Z",
     "start_time": "2021-10-29T17:52:20.766877Z"
    }
   },
   "outputs": [
    {
     "data": {
      "text/plain": [
       "0.8257839721254355"
      ]
     },
     "execution_count": 46,
     "metadata": {},
     "output_type": "execute_result"
    }
   ],
   "source": [
    "rf = clf.best_estimator_\n",
    "rf.fit(attributes_train,mapped_pos_buckets)\n",
    "\n",
    "rf_pred = rf.predict(test_attributes)\n",
    "accuracy_score(rf_pred,mapped_pos_buckets_test)"
   ]
  },
  {
   "cell_type": "markdown",
   "id": "f04fdb14",
   "metadata": {},
   "source": [
    "**Random Forests are still performing lower than Logistic Regression and NN in this case**"
   ]
  }
 ],
 "metadata": {
  "kernelspec": {
   "display_name": "Python 3 (ipykernel)",
   "language": "python",
   "name": "python3"
  },
  "language_info": {
   "codemirror_mode": {
    "name": "ipython",
    "version": 3
   },
   "file_extension": ".py",
   "mimetype": "text/x-python",
   "name": "python",
   "nbconvert_exporter": "python",
   "pygments_lexer": "ipython3",
   "version": "3.8.8"
  },
  "toc": {
   "base_numbering": 1,
   "nav_menu": {},
   "number_sections": true,
   "sideBar": true,
   "skip_h1_title": false,
   "title_cell": "Table of Contents",
   "title_sidebar": "Contents",
   "toc_cell": false,
   "toc_position": {
    "height": "calc(100% - 180px)",
    "left": "10px",
    "top": "150px",
    "width": "193px"
   },
   "toc_section_display": true,
   "toc_window_display": true
  }
 },
 "nbformat": 4,
 "nbformat_minor": 5
}
