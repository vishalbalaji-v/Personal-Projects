{
  "nbformat": 4,
  "nbformat_minor": 0,
  "metadata": {
    "colab": {
      "name": "distribute_HW1.ipynb",
      "provenance": [],
      "collapsed_sections": [
        "agIKGBkVlm6G",
        "Kd_0dzuslm7B",
        "Fc8dNE4nlm7t",
        "EEWBhVhQlm74",
        "P_G84LnUlm8p",
        "r33k0Rv9lm9M",
        "EBJ95eXwlm-i",
        "lg-gMIZTlm_B",
        "vkU3G3UDH6yn",
        "bhy0LnUiIIjE"
      ],
      "include_colab_link": true
    },
    "kernelspec": {
      "display_name": "Python 3",
      "language": "python",
      "name": "python3"
    },
    "language_info": {
      "codemirror_mode": {
        "name": "ipython",
        "version": 3
      },
      "file_extension": ".py",
      "mimetype": "text/x-python",
      "name": "python",
      "nbconvert_exporter": "python",
      "pygments_lexer": "ipython3",
      "version": "3.8.5"
    }
  },
  "cells": [
    {
      "cell_type": "markdown",
      "metadata": {
        "id": "view-in-github",
        "colab_type": "text"
      },
      "source": [
        "<a href=\"https://colab.research.google.com/github/vishalbalaji-v/Personal-Projects/blob/main/Guided%20Projects%20/%20Web%20Scraping%20and%20Pandas.ipynb\" target=\"_parent\"><img src=\"https://colab.research.google.com/assets/colab-badge.svg\" alt=\"Open In Colab\"/></a>"
      ]
    },
    {
      "cell_type": "markdown",
      "metadata": {
        "id": "hTAwWJ5Qlmwk"
      },
      "source": [
        "<img src=\"https://drive.google.com/uc?export=view&id=1nMaBQ7g88duMECw_B4mH8ruxwnIwVzGP\" width=300/> \n",
        "\n",
        "# ML-1: Exploratory Data Analysis, Visualisation & Modeling\n",
        "## Homework 1: Who is the best singer ever?\n",
        "\n",
        "**ML-1 Cohort 1** <br>\n",
        "**Instructor: Dr. Rahul Dave**<br>\n",
        "**Max Score: 100** <br>"
      ]
    },
    {
      "cell_type": "markdown",
      "metadata": {
        "id": "Bv36XfX2X_Sh"
      },
      "source": [
        "Name of people who have worked on this homework:\n",
        "\n",
        "\n"
      ]
    },
    {
      "cell_type": "markdown",
      "metadata": {
        "id": "RZLSPjS6_8GD"
      },
      "source": [
        "## Table of Contents \n",
        "* [HW-1: Who is the best singer ever?](#HW-1:-Who-is-the-best-singer-ever?)\n",
        "  * [Instructions](##Instructions)\n",
        "  * [Learning Goals](##Learning-Goals)\n",
        "  * [Q1: Scrape and Parse Wikipedia for Billboard Top 100](##Q1:-Scrape-and-Parse-Wikipedia-for-Billboard-Top-100)\n",
        "    * [1.1 Scrape and Parse the Billboard Wikipedia's page for 1970](###1.1-Scrape-and-Parse-the-Billboard-Wikipedia's-page-for-1970)\n",
        "    * [1.2 Scrape Billboard Wikipedia's pages from 1992 to 2020](###1.2-Scrape-Billboard-Wikipedia's-pages-from-1992-to-2020)\n",
        "    * [1.3 Parse the data](###1.3-Parse-the-data)\n",
        "  * [Q2: Construct a year-song-singer dataframe](##Q2:-Construct-a-year-song-singer-dataframe)\n",
        "  * [Q3: Scrape and Parse Wikipedia for Information about Artists and Bands](##Q3:-Scrape-and-Parse-Wikipedia-for-Information-about-Artists-and-Bands)\n",
        "    * [3.1 Scrape the artist's Wikipedia webpages](###3.1-Scrape-the-artist's-Wikipedia-webpages)\n",
        "    * [3.2 Parse the data](###3.2-Parse-the-data)\n",
        "  * [Q4: Merging Artist's and Song dataframes](##Q4:-Merging-Artist's-and-Song-dataframes)\n",
        "  * [Q5: Pandas and Relational databases](##Q5:-Pandas-and-Relational-databases)\n",
        "    * [5.1 Populating the database](###5.1-Populating-the-database)\n",
        "    * [5.2 Performing operations on the database](####5.2-Performing-operations-on-the-database)\n",
        "      * [5.2.1 Select all singers below the age of 20 whos Zodiac Sign is Scorpio!](####5.2.1-Select-all-singers-below-the-age-of-20-whos-Zodiac-Sign-is-Scorpio!)\n",
        "      * [5.2.2 Find the most popular artists with most appearances in Billboard Top 10](####5.2.2-Find-the-most-popular-artists-with-most-appearances-in-Billboard-Top-10)\n",
        "      * [5.2.3 Select all songs with ranking less than 6 and order the rows by artist name](####5.2.3-Select-all-songs-with-ranking-less-than-6-and-order-the-rows-by-artist-name)\n"
      ]
    },
    {
      "cell_type": "markdown",
      "metadata": {
        "id": "vym0YdCZYCeS"
      },
      "source": [
        "## Instructions"
      ]
    },
    {
      "cell_type": "markdown",
      "metadata": {
        "id": "PMkXfrJWYDtC"
      },
      "source": [
        "- This homework should be submitted in pairs.\n",
        "\n",
        "- Ensure you and your partner together have submitted the homework only once. Multiple submissions of the same work will be penalised and will cost you 2 points.\n",
        "\n",
        "- Please restart the kernel and run the entire notebook again before you submit.\n",
        "\n",
        "- Running cells out of order is a common pitfall in Notebooks. To make sure your code works restart the kernel and run the whole notebook again before you submit. \n",
        "\n",
        "- To work on the homework, you will first need to fork the repository into your GitHub account and clone it to work on it on your local computer. To submit your homework, push your homework into the same GitHub and upload the link on edStem.\n",
        "\n",
        "- Submit the homework well before the given deadline. Submissions after the deadline will not be graded.\n",
        "\n",
        "- We have tried to include all the libraries you may need to do the assignment in the imports statement at the top of this notebook. We strongly suggest that you use those and not others as we may not be familiar with them.\n",
        "\n",
        "- Comment your code well. This would help the graders in case there is any issue with the notebook while running. It is important to remember that the graders will not troubleshoot your code. \n",
        "\n",
        "- Please use .head() when viewing data. Do not submit a notebook that is **excessively long**. \n",
        "\n",
        "- In questions that require code to answer, such as \"calculate the $R^2$\", do not just output the value from a cell. Write a `print()` function that includes a reference to the calculated value, **not hardcoded**. For example: \n",
        "```\n",
        "print(f'The R^2 is {R:.4f}')\n",
        "```\n",
        "- Your plots should include clear labels for the $x$ and $y$ axes as well as a descriptive title (\"MSE plot\" is not a descriptive title; \"95 % confidence interval of coefficients of polynomial degree 5\" is).\n",
        "\n",
        "- **Ensure you make appropriate plots for all the questions it is applicable to, regardless of it being explicitly asked for.**\n",
        "\n",
        "<hr style=\"height:2pt\">"
      ]
    },
    {
      "cell_type": "markdown",
      "metadata": {
        "id": "Zv8VWFhP_32L"
      },
      "source": [
        "## Learning Goals"
      ]
    },
    {
      "cell_type": "markdown",
      "metadata": {
        "id": "WmqsUs9Olm18"
      },
      "source": [
        "Billboard Magazine puts out a top 100 list of \"singles\" every **year**. \n",
        "In the next two homeworks, you will scrape Wikipedia to try to understand how the public's taste in music has evolved. You will do this by learning about the best singers and groups from each year as determined by the Billboard top 100 charts.\n",
        "\n",
        "This homework consists of five main parts:\n",
        "\n",
        "1. Scraping and Parsing [Wikipedia's Billboard Top 100 singles](https://en.wikipedia.org/wiki/Billboard_Year-End_Hot_100_singles_of_2020) list for every year <br>\n",
        "2. Constructing a year-song-singer dataframe from the scraped data\n",
        "3. Scraping and Parsing Wikipedia's information about the Artists from these Songs \n",
        "4. Merging in both the above dataframes \n",
        "5. Using a Relational Database to perform SQL queries"
      ]
    },
    {
      "cell_type": "markdown",
      "metadata": {
        "id": "EUHkcabZlm2Q"
      },
      "source": [
        "This homework will help develop your skills in:\n",
        "\n",
        "- Web page scraping\n",
        "- Data cleaning and manipulation\n",
        "- Pandas and SQL"
      ]
    },
    {
      "cell_type": "markdown",
      "metadata": {
        "id": "GW_1toqQlm21"
      },
      "source": [
        "---"
      ]
    },
    {
      "cell_type": "code",
      "metadata": {
        "id": "deZ11vb4lm3e",
        "jupyter": {
          "outputs_hidden": false
        }
      },
      "source": [
        "#Import libraries\n",
        "%matplotlib inline\n",
        "import numpy as np\n",
        "import matplotlib.pyplot as plt\n",
        "import pandas as pd\n",
        "import time\n",
        "import json\n",
        "import re\n",
        "import requests"
      ],
      "execution_count": null,
      "outputs": []
    },
    {
      "cell_type": "markdown",
      "metadata": {
        "id": "X4necLqglm3p"
      },
      "source": [
        "## Q1: Scrape and Parse Wikipedia for Billboard Top 100\n",
        "#### [20 Points]"
      ]
    },
    {
      "cell_type": "markdown",
      "metadata": {
        "id": "3_ajVEDhlm3t"
      },
      "source": [
        "In this first question you will scrape wikipedia for Billboard's top 100.\n",
        "\n",
        "We will be using [BeautifulSoup](http://www.crummy.com/software/BeautifulSoup/) to transform HTML content into Python data structures. There are other libraries such as [PyQuery](https://pythonhosted.org/pyquery/) (for people who have used [jQuery](https://jquery.com/) that can also be used)."
      ]
    },
    {
      "cell_type": "code",
      "metadata": {
        "id": "c4bbGU0glm3_",
        "jupyter": {
          "outputs_hidden": false
        }
      },
      "source": [
        "#Import Beautiful Soup\n",
        "from bs4 import BeautifulSoup"
      ],
      "execution_count": null,
      "outputs": []
    },
    {
      "cell_type": "markdown",
      "metadata": {
        "id": "54udQNZ-lm4F"
      },
      "source": [
        "### 1.1 Scrape and Parse the Billboard Wikipedia's page for 1970"
      ]
    },
    {
      "cell_type": "markdown",
      "metadata": {
        "id": "MtxCwDBqlm4f"
      },
      "source": [
        "Use python's `requests` module to obtain (GET) the web page at http://en.wikipedia.org/wiki/Billboard_Year-End_Hot_100_singles_of_1970. \n",
        "From this web page, extract the top 100 singles and their rankings. \n",
        "\n",
        "\n",
        "To do this, create a list of dictionaries, 100 of them to be precise, with the following entries: `{'url': '/wiki/Sugarloaf_(band)', 'ranking': 30, 'band_singer': 'Sugarloaf', 'title': 'Green-Eyed Lady'}`. \n",
        "\n",
        "Name this list of dictionaries `songs`.\n",
        "\n",
        "\n",
        "Here, `url` should be the link for the singer or band (observe that on the web page, there is a link for every song and artist), `ranking` is the ranking of the song, `band_singer` should be the name of the artist(s) and `title` should be the title of the song.\n",
        "\n",
        "\n",
        "We are extracting the `url` of the artist(s) to use at a later stage in the homework."
      ]
    },
    {
      "cell_type": "markdown",
      "metadata": {
        "id": "k1srjTzGlm4t"
      },
      "source": [
        "*Hint:*\n",
        "While parsing the HTML, look for the HTML _tr_ (table row) element, but only the one that has a CSS class of _wikitable_. If you look at the page source, you'll see a construct like __class=wikitable__ on the table as seen below:\n",
        "\n",
        "\n",
        "\n",
        "![Wikipage](\n",
        "https://drive.google.com/uc?export=view&id=1ntewsqyZVH6_RETloTQgrWIyQJAa_02D) "
      ]
    },
    {
      "cell_type": "code",
      "metadata": {
        "id": "teLpU_AZlm4o",
        "jupyter": {
          "outputs_hidden": false
        }
      },
      "source": [
        "#Get the webpage\n",
        "t1970=requests.get(\"http://en.wikipedia.org/wiki/Billboard_Year-End_Hot_100_singles_of_1970\")\n",
        "soup = BeautifulSoup(t1970.text,'html.parser')"
      ],
      "execution_count": null,
      "outputs": []
    },
    {
      "cell_type": "code",
      "metadata": {
        "colab": {
          "base_uri": "https://localhost:8080/"
        },
        "id": "6p7QBSodlm41",
        "jupyter": {
          "outputs_hidden": false
        },
        "scrolled": true,
        "outputId": "667bc47e-61e2-42f4-e3a1-55ebed6addf2"
      },
      "source": [
        "#Parsing the webpage\n",
        "Billboard_Table = soup.find_all(\"table\", \"wikitable\")\n",
        "#your code here\n",
        "rows = [row for row in Billboard_Table[0].find_all(\"tr\")]\n",
        "list1970 = []\n",
        "for i in rows[1:]:\n",
        "  dict_loop = {}\n",
        "  url = []\n",
        "  band = []\n",
        "  a_tag = i.find_all('a')\n",
        "  for j in a_tag[1:]:\n",
        "    url.append(j.get('href'))\n",
        "    band.append(j.text)\n",
        "  dict_loop['url'] = url\n",
        "  dict_loop['band'] = band\n",
        "  dict_loop['title'] = i.find_all('a')[0].text\n",
        "  dict_loop['ranking'] = i.find_all('td')[0].text\n",
        "  list1970.append(dict_loop)\n",
        "\n",
        "list1970[37]"
      ],
      "execution_count": null,
      "outputs": [
        {
          "output_type": "execute_result",
          "data": {
            "text/plain": [
              "{'band': ['Kenny Rogers', 'The First Edition'],\n",
              " 'ranking': '38',\n",
              " 'title': \"Something's Burning\",\n",
              " 'url': ['/wiki/Kenny_Rogers', '/wiki/The_First_Edition_(band)']}"
            ]
          },
          "metadata": {
            "tags": []
          },
          "execution_count": 4
        }
      ]
    },
    {
      "cell_type": "markdown",
      "metadata": {
        "id": "w6wf4pqKlm48"
      },
      "source": [
        "### 1.2 Scrape Billboard Wikipedia's pages from 1992 to 2020 \n",
        "\n"
      ]
    },
    {
      "cell_type": "markdown",
      "metadata": {
        "id": "3Spk5hLjlm4_"
      },
      "source": [
        "By visiting urls similar to the one for 1970, we can obtain the billboard top 100 for the years 1992 to 2020. \n",
        "\n",
        "Store the text from your `requests` in a dictionary called `yearstext`. \n",
        "This dictionary should have as its keys the years (as integers from 1992 to 2020). The values corresponding to these keys should be the html text downloaded from Wikipedia.<br>\n",
        "So, each entry in `yearstext` will look something like this:\n",
        "\n",
        "![yearstext](https://drive.google.com/uc?export=view&id=16LNIyznVnAY-N5EN6lsSB9505fXG1-zK)\n",
        "\n",
        "where the key is 1992 and the value is the HTML at http://en.wikipedia.org/wiki/Billboard_Year-End_Hot_100_singles_of_1992."
      ]
    },
    {
      "cell_type": "markdown",
      "metadata": {
        "id": "8G3NooTslm5H"
      },
      "source": [
        "*Hint*:\n",
        "Put your requests.get() in a `for` loop and keep appending the text from your requests into the dictionary. Use the `time.sleep` function to wait one second between requests, you do not want Wikipedia to think you are a marauding bot attempting to mount a denial-of-service attack."
      ]
    },
    {
      "cell_type": "code",
      "metadata": {
        "id": "WmWtNV42lm5Q"
      },
      "source": [
        "#your code here\n",
        "URLSTART=\"https://en.wikipedia.org/wiki/Billboard_Year-End_Hot_100_singles_of_\"\n",
        "yearstext = {}\n",
        "for i in range(1992,2021):\n",
        "  pagehtml = requests.get(URLSTART+str(i))\n",
        "  yearstext[i] = pagehtml.text\n",
        "  time.sleep(1)"
      ],
      "execution_count": null,
      "outputs": []
    },
    {
      "cell_type": "markdown",
      "metadata": {
        "id": "agIKGBkVlm6G"
      },
      "source": [
        "### 1.3 Parse the data"
      ]
    },
    {
      "cell_type": "markdown",
      "metadata": {
        "id": "WZ_l5dn-lm6K"
      },
      "source": [
        "Now, write a function `parse_year(year, yeartextdict)` that returns a dictionary `yearinfo`.\n",
        "Here `year` should be the integer value of the year, and `yeartextdict` should be the HTML text for the corresponding webpage. \n",
        "This function should return a dictionary of the following form:\n",
        "\n",
        "```\n",
        "{'ranking': 32,\n",
        " 'song': ['Hot Boyz (song)'],\n",
        " 'songurl': ['/wiki/Hot_Boyz_(song)'],\n",
        " 'titletext': '\"Hot Boyz\"',\n",
        " 'band_singer': ['Missy Elliott', 'Nas', 'Eve (rapper)', 'Q-Tip (musician)'],\n",
        " 'url': ['/wiki/Missy_Elliott',\n",
        "  '/wiki/Nas',\n",
        "  '/wiki/Eve_(rapper)',\n",
        "  '/wiki/Q-Tip_(musician)']}\n",
        "```\n",
        "Notice that the `titletext` is the contents of the table cell, and retains the quotes that wikipedia puts on the single.\n",
        "\n",
        "Here are some issues that you will need to take care of:\n",
        "\n",
        "1.   The example shown above has several artists for a single song. In this case, the `band_singer` and `url` would be a list of items.\n",
        "\n",
        "2.   Some singles might even have multiple songs because of the way the industry works:\n",
        "```\n",
        "{'ranking': 98,\n",
        " 'song': [\"You're Makin' Me High\", 'Let It Flow (song)'],\n",
        " 'songurl': ['/wiki/You%27re_Makin%27_Me_High', '/wiki/Let_It_Flow_(song)'],\n",
        " 'titletext': '\"You\\'re Makin\\' Me High\" / \"Let It Flow\"',\n",
        " 'band_singer': ['Toni Braxton'],\n",
        " 'url': ['/wiki/Toni_Braxton']}\n",
        "```\n",
        "(See 1997 for an example)\n",
        "\n",
        "3. Some songs don't have a URL. In this case, assume there is one song in the single, set `songurl` to [`None`] and the song name to the contents of the table cell with the quotes stripped:\n",
        "```\n",
        "{'ranking': 45,\n",
        "  'song': ['Say It'],\n",
        "  'songurl': [None],\n",
        "  'titletext': '\"Say It\"',\n",
        "  'band_singer': ['Voices of Theory'],\n",
        "  'url': ['/wiki/Voices_of_Theory']}\n",
        "```\n",
        "(See 1998 for an example)"
      ]
    },
    {
      "cell_type": "code",
      "metadata": {
        "id": "EXpy7iA0lm6h",
        "jupyter": {
          "outputs_hidden": false
        },
        "scrolled": true
      },
      "source": [
        "\"\"\"\n",
        "Function\n",
        "--------\n",
        "parse_year\n",
        "\n",
        "Inputs\n",
        "------\n",
        "year: the year you want the singles for\n",
        "ytextdixt: a dictionary with keys as integer years and values the downloaded web pages \n",
        "    from wikipedia for that year.\n",
        "   \n",
        "Returns\n",
        "-------\n",
        "\n",
        "a list of dictionaries, each of which corresponds to a single and has the\n",
        "following data:\n",
        "\n",
        "Eg:\n",
        "\n",
        "{'band_singer': ['Brandy', 'Monica'],\n",
        "  'ranking': 2,\n",
        "  'song': ['The Boy Is Mine'],\n",
        "  'songurl': ['/wiki/The_Boy_Is_Mine_(song)'],\n",
        "  'titletext': '\" The Boy Is Mine \"',\n",
        "  'url': ['/wiki/Brandy_Norwood', '/wiki/Monica_(entertainer)']}\n",
        "  \n",
        "A dictionary with the following data:\n",
        "    band_singer: a list of bands/singers who made this single\n",
        "    song: a list of the titles of songs on this single\n",
        "    songurl: a list of the same size as song which has urls for the songs on the single \n",
        "        (see point 3 above)\n",
        "    ranking: ranking of the single\n",
        "    titletext: the contents of the table cell\n",
        "    band_singer: a list of bands or singers on this single\n",
        "    url: a list of wikipedia singer/band urls on this single: only put in the part \n",
        "        of the url from /wiki onwards\n",
        "    \n",
        "\"\"\"\n",
        "#your code here\n",
        "\n",
        "def parse_year(year, yeartextdict):\n",
        "  yearinfo = parse_before_2020(year, yeartextdict) if year < 2020 else parse_2020(year, yeartextdict)\n",
        "  return(yearinfo)\n",
        "\n",
        "\n",
        "def parse_2020(year, yeartextdict):\n",
        "  soup = BeautifulSoup(yeartextdict,'html.parser')\n",
        "  Billboard_Table = soup.find_all(\"table\", \"wikitable\")\n",
        "\n",
        "  rows = [row for row in Billboard_Table[0].find_all(\"tr\")]\n",
        "  yearinfo = []\n",
        "  for i in rows[1:]:\n",
        "    dict_loop = {}\n",
        "    songs = []\n",
        "    song_url = []\n",
        "    title_text = []\n",
        "    singers = []\n",
        "    singer_url = []\n",
        "    Tds = i.find_all('th')\n",
        "    cells = i.find_all('td')\n",
        "    A_song = cells[0].find_all('a')\n",
        "    A_artist = cells[1].find_all('a')\n",
        "\n",
        "    dict_loop['ranking'] = Tds[0].text.strip()\n",
        "\n",
        "    if cells[0].find_all('a') == []:\n",
        "      A_song = cells[0]\n",
        "      songs.append(A_song.text.strip('\"'))\n",
        "      song_url.append(None)\n",
        "      title_text.append(A_song.text)\n",
        "    else:\n",
        "      A_song = cells[0].find_all('a')\n",
        "      for j in A_song:\n",
        "        songs.append(j.get('title'))\n",
        "        song_url.append(j.get('href'))\n",
        "        title_text.append(j.text)\n",
        "\n",
        "    for j in A_artist:\n",
        "      singers.append(j.get('title'))\n",
        "      singer_url.append(j.get('href'))\n",
        "\n",
        "    dict_loop['song'] = songs\n",
        "    dict_loop['songurl'] = song_url\n",
        "    dict_loop['titletext'] = title_text\n",
        "    dict_loop['band_singer'] = singers\n",
        "    dict_loop['url'] =  singer_url\n",
        "    yearinfo.append(dict_loop)\n",
        "\n",
        "  return(yearinfo)\n",
        "\n",
        "\n",
        "\n",
        "def parse_before_2020(year, yeartextdict):\n",
        "  soup = BeautifulSoup(yeartextdict,'html.parser')\n",
        "  Billboard_Table = soup.find_all(\"table\", \"wikitable\")\n",
        "\n",
        "  rows = [row for row in Billboard_Table[0].find_all(\"tr\")]\n",
        "\n",
        "  yearinfo = []\n",
        "  for i in rows[1:]:\n",
        "    dict_loop = {}\n",
        "    songs = []\n",
        "    song_url = []\n",
        "    title_text = []\n",
        "    singers = []\n",
        "    singer_url = []\n",
        "    Tds = i.find_all('td')\n",
        "    A_song = Tds[1].find_all('a')\n",
        "    A_artist = Tds[2].find_all('a')\n",
        "\n",
        "    dict_loop['ranking'] = Tds[0].text\n",
        "\n",
        "    if Tds[1].find_all('a') == []:\n",
        "      A_song = Tds[1]\n",
        "      songs.append(A_song.text.strip('\"'))\n",
        "      song_url.append(None)\n",
        "      title_text.append(A_song.text)\n",
        "    else:\n",
        "      A_song = Tds[1].find_all('a')\n",
        "      for j in A_song:\n",
        "        songs.append(j.get('title'))\n",
        "        song_url.append(j.get('href'))\n",
        "        title_text.append(j.text)\n",
        "\n",
        "    for j in A_artist:\n",
        "      singers.append(j.get('title'))\n",
        "      singer_url.append(j.get('href'))\n",
        "\n",
        "    dict_loop['song'] = songs\n",
        "    dict_loop['songurl'] = song_url\n",
        "    dict_loop['titletext'] = title_text\n",
        "    dict_loop['band_singer'] = singers\n",
        "    dict_loop['url'] =  singer_url\n",
        "    yearinfo.append(dict_loop)\n",
        "\n",
        "  return(yearinfo)\n",
        "\n",
        "\n",
        "#print(parse_year(1997,yearstext[1997])) \n",
        "\n",
        "\n",
        "\n",
        "\n"
      ],
      "execution_count": null,
      "outputs": []
    },
    {
      "cell_type": "code",
      "metadata": {
        "id": "Otcooi1FLv2O",
        "colab": {
          "base_uri": "https://localhost:8080/",
          "height": 316
        },
        "outputId": "bcfb152b-100f-47a7-ba26-78971de14fb7"
      },
      "source": [
        "yearinfo = {}\n",
        "years = np.arange(1992,2021)\n",
        "yearinfo = {str(y): parse_year(y, yearstext[y]) for y in years}\n",
        "\n"
      ],
      "execution_count": null,
      "outputs": [
        {
          "output_type": "error",
          "ename": "NameError",
          "evalue": "ignored",
          "traceback": [
            "\u001b[0;31m---------------------------------------------------------------------------\u001b[0m",
            "\u001b[0;31mNameError\u001b[0m                                 Traceback (most recent call last)",
            "\u001b[0;32m<ipython-input-6-9e8fe2681e60>\u001b[0m in \u001b[0;36m<module>\u001b[0;34m()\u001b[0m\n\u001b[1;32m      1\u001b[0m \u001b[0myearinfo\u001b[0m \u001b[0;34m=\u001b[0m \u001b[0;34m{\u001b[0m\u001b[0;34m}\u001b[0m\u001b[0;34m\u001b[0m\u001b[0;34m\u001b[0m\u001b[0m\n\u001b[1;32m      2\u001b[0m \u001b[0myears\u001b[0m \u001b[0;34m=\u001b[0m \u001b[0mnp\u001b[0m\u001b[0;34m.\u001b[0m\u001b[0marange\u001b[0m\u001b[0;34m(\u001b[0m\u001b[0;36m1992\u001b[0m\u001b[0;34m,\u001b[0m\u001b[0;36m2021\u001b[0m\u001b[0;34m)\u001b[0m\u001b[0;34m\u001b[0m\u001b[0;34m\u001b[0m\u001b[0m\n\u001b[0;32m----> 3\u001b[0;31m \u001b[0myearinfo\u001b[0m \u001b[0;34m=\u001b[0m \u001b[0;34m{\u001b[0m\u001b[0mstr\u001b[0m\u001b[0;34m(\u001b[0m\u001b[0my\u001b[0m\u001b[0;34m)\u001b[0m\u001b[0;34m:\u001b[0m \u001b[0mparse_year\u001b[0m\u001b[0;34m(\u001b[0m\u001b[0my\u001b[0m\u001b[0;34m,\u001b[0m \u001b[0myearstext\u001b[0m\u001b[0;34m[\u001b[0m\u001b[0my\u001b[0m\u001b[0;34m]\u001b[0m\u001b[0;34m)\u001b[0m \u001b[0;32mfor\u001b[0m \u001b[0my\u001b[0m \u001b[0;32min\u001b[0m \u001b[0myears\u001b[0m\u001b[0;34m}\u001b[0m\u001b[0;34m\u001b[0m\u001b[0;34m\u001b[0m\u001b[0m\n\u001b[0m\u001b[1;32m      4\u001b[0m \u001b[0;34m\u001b[0m\u001b[0m\n",
            "\u001b[0;32m<ipython-input-6-9e8fe2681e60>\u001b[0m in \u001b[0;36m<dictcomp>\u001b[0;34m(.0)\u001b[0m\n\u001b[1;32m      1\u001b[0m \u001b[0myearinfo\u001b[0m \u001b[0;34m=\u001b[0m \u001b[0;34m{\u001b[0m\u001b[0;34m}\u001b[0m\u001b[0;34m\u001b[0m\u001b[0;34m\u001b[0m\u001b[0m\n\u001b[1;32m      2\u001b[0m \u001b[0myears\u001b[0m \u001b[0;34m=\u001b[0m \u001b[0mnp\u001b[0m\u001b[0;34m.\u001b[0m\u001b[0marange\u001b[0m\u001b[0;34m(\u001b[0m\u001b[0;36m1992\u001b[0m\u001b[0;34m,\u001b[0m\u001b[0;36m2021\u001b[0m\u001b[0;34m)\u001b[0m\u001b[0;34m\u001b[0m\u001b[0;34m\u001b[0m\u001b[0m\n\u001b[0;32m----> 3\u001b[0;31m \u001b[0myearinfo\u001b[0m \u001b[0;34m=\u001b[0m \u001b[0;34m{\u001b[0m\u001b[0mstr\u001b[0m\u001b[0;34m(\u001b[0m\u001b[0my\u001b[0m\u001b[0;34m)\u001b[0m\u001b[0;34m:\u001b[0m \u001b[0mparse_year\u001b[0m\u001b[0;34m(\u001b[0m\u001b[0my\u001b[0m\u001b[0;34m,\u001b[0m \u001b[0myearstext\u001b[0m\u001b[0;34m[\u001b[0m\u001b[0my\u001b[0m\u001b[0;34m]\u001b[0m\u001b[0;34m)\u001b[0m \u001b[0;32mfor\u001b[0m \u001b[0my\u001b[0m \u001b[0;32min\u001b[0m \u001b[0myears\u001b[0m\u001b[0;34m}\u001b[0m\u001b[0;34m\u001b[0m\u001b[0;34m\u001b[0m\u001b[0m\n\u001b[0m\u001b[1;32m      4\u001b[0m \u001b[0;34m\u001b[0m\u001b[0m\n",
            "\u001b[0;31mNameError\u001b[0m: name 'yearstext' is not defined"
          ]
        }
      ]
    },
    {
      "cell_type": "markdown",
      "metadata": {
        "id": "044UilQrsU_x"
      },
      "source": [
        "Save this dictionary as a json file so you do not need to run it over and over again."
      ]
    },
    {
      "cell_type": "code",
      "metadata": {
        "id": "yyZCQ0Fmlm60",
        "jupyter": {
          "outputs_hidden": false
        }
      },
      "source": [
        "#Store the dictionary and delete the variable\n",
        "fd = open(\"yearinfo.json\",\"w\")\n",
        "json.dump(yearinfo, fd)\n",
        "fd.close()\n",
        "del yearinfo"
      ],
      "execution_count": null,
      "outputs": []
    },
    {
      "cell_type": "code",
      "metadata": {
        "id": "XOuXxgltlm68",
        "jupyter": {
          "outputs_hidden": false
        },
        "scrolled": true
      },
      "source": [
        "#Load the dictionary back to the same variable\n",
        "with open(\"yearinfo.json\", \"r\") as fd:\n",
        "    yearinfo = json.load(fd)"
      ],
      "execution_count": null,
      "outputs": []
    },
    {
      "cell_type": "markdown",
      "metadata": {
        "id": "Kd_0dzuslm7B"
      },
      "source": [
        "## Q2: Construct a year-song-singer dataframe \n",
        "#### [20 points]"
      ]
    },
    {
      "cell_type": "markdown",
      "metadata": {
        "id": "ZGDX83Xblm7E"
      },
      "source": [
        "Now, let's construct a dataframe from the dictionary created in the previous section `yearinfo`. \n",
        "Name this dataframe `flatframe`.\n",
        "\n",
        "Keep in mind, in the data structure we have so far, a given key can have a list of values with multiple entries. Also, our data is grouped by year. So we need a way to flatten this data into a format that will create a useful DataFrame. \n",
        "\n",
        "An easy way to do this is to use the pandas `concat` function.\n",
        "\n",
        "Your final dataframe `flatframe` should look something like this:\n",
        "![flatframexample](https://drive.google.com/uc?export=view&id=12hlpB-zRGJh6JYCTcMoTzumKSyXgfoiY)"
      ]
    },
    {
      "cell_type": "code",
      "metadata": {
        "colab": {
          "base_uri": "https://localhost:8080/",
          "height": 204
        },
        "id": "9Tk6XgIslm7I",
        "outputId": "65358377-a991-4fb0-ca93-11e5f696a18b"
      },
      "source": [
        "#your code here \n",
        "\n",
        "df = pd.DataFrame(dict(year=y, **d) for y in yearinfo for d in yearinfo[y])\n",
        "songdata = pd.DataFrame({'song':df['song'].explode(),'songurl':df['songurl'].explode(),'titletext':df['titletext'].explode()})\n",
        "singerdata = pd.DataFrame({'band_singer':df['band_singer'].explode(),'url':df['url'].explode()})\n",
        "merge1 = pd.merge(songdata,singerdata,left_index=True, right_index=True)\n",
        "merge2 = pd.merge(df['ranking'],merge1,left_index=True, right_index=True)\n",
        "flatframe = pd.merge(df['year'],merge2,left_index=True, right_index=True)\n",
        "\n",
        "flatframe = flatframe.sort_values(by = ['ranking','year']).reset_index(drop=True)\n",
        "flatframe.head()"
      ],
      "execution_count": null,
      "outputs": [
        {
          "output_type": "execute_result",
          "data": {
            "text/html": [
              "<div>\n",
              "<style scoped>\n",
              "    .dataframe tbody tr th:only-of-type {\n",
              "        vertical-align: middle;\n",
              "    }\n",
              "\n",
              "    .dataframe tbody tr th {\n",
              "        vertical-align: top;\n",
              "    }\n",
              "\n",
              "    .dataframe thead th {\n",
              "        text-align: right;\n",
              "    }\n",
              "</style>\n",
              "<table border=\"1\" class=\"dataframe\">\n",
              "  <thead>\n",
              "    <tr style=\"text-align: right;\">\n",
              "      <th></th>\n",
              "      <th>year</th>\n",
              "      <th>ranking</th>\n",
              "      <th>song</th>\n",
              "      <th>songurl</th>\n",
              "      <th>titletext</th>\n",
              "      <th>band_singer</th>\n",
              "      <th>url</th>\n",
              "    </tr>\n",
              "  </thead>\n",
              "  <tbody>\n",
              "    <tr>\n",
              "      <th>0</th>\n",
              "      <td>1992</td>\n",
              "      <td>1</td>\n",
              "      <td>End of the Road (Boyz II Men song)</td>\n",
              "      <td>/wiki/End_of_the_Road_(Boyz_II_Men_song)</td>\n",
              "      <td>End of the Road</td>\n",
              "      <td>Boyz II Men</td>\n",
              "      <td>/wiki/Boyz_II_Men</td>\n",
              "    </tr>\n",
              "    <tr>\n",
              "      <th>1</th>\n",
              "      <td>1993</td>\n",
              "      <td>1</td>\n",
              "      <td>I Will Always Love You</td>\n",
              "      <td>/wiki/I_Will_Always_Love_You#Whitney_Houston_v...</td>\n",
              "      <td>I Will Always Love You</td>\n",
              "      <td>Whitney Houston</td>\n",
              "      <td>/wiki/Whitney_Houston</td>\n",
              "    </tr>\n",
              "    <tr>\n",
              "      <th>2</th>\n",
              "      <td>1994</td>\n",
              "      <td>1</td>\n",
              "      <td>The Sign (song)</td>\n",
              "      <td>/wiki/The_Sign_(song)</td>\n",
              "      <td>The Sign</td>\n",
              "      <td>Ace of Base</td>\n",
              "      <td>/wiki/Ace_of_Base</td>\n",
              "    </tr>\n",
              "    <tr>\n",
              "      <th>3</th>\n",
              "      <td>1995</td>\n",
              "      <td>1</td>\n",
              "      <td>Gangsta's Paradise</td>\n",
              "      <td>/wiki/Gangsta%27s_Paradise</td>\n",
              "      <td>Gangsta's Paradise</td>\n",
              "      <td>Coolio</td>\n",
              "      <td>/wiki/Coolio</td>\n",
              "    </tr>\n",
              "    <tr>\n",
              "      <th>4</th>\n",
              "      <td>1995</td>\n",
              "      <td>1</td>\n",
              "      <td>Gangsta's Paradise</td>\n",
              "      <td>/wiki/Gangsta%27s_Paradise</td>\n",
              "      <td>Gangsta's Paradise</td>\n",
              "      <td>L.V. (singer)</td>\n",
              "      <td>/wiki/L.V._(singer)</td>\n",
              "    </tr>\n",
              "  </tbody>\n",
              "</table>\n",
              "</div>"
            ],
            "text/plain": [
              "   year ranking                                song  \\\n",
              "0  1992       1  End of the Road (Boyz II Men song)   \n",
              "1  1993       1              I Will Always Love You   \n",
              "2  1994       1                     The Sign (song)   \n",
              "3  1995       1                  Gangsta's Paradise   \n",
              "4  1995       1                  Gangsta's Paradise   \n",
              "\n",
              "                                             songurl               titletext  \\\n",
              "0           /wiki/End_of_the_Road_(Boyz_II_Men_song)         End of the Road   \n",
              "1  /wiki/I_Will_Always_Love_You#Whitney_Houston_v...  I Will Always Love You   \n",
              "2                              /wiki/The_Sign_(song)                The Sign   \n",
              "3                         /wiki/Gangsta%27s_Paradise      Gangsta's Paradise   \n",
              "4                         /wiki/Gangsta%27s_Paradise      Gangsta's Paradise   \n",
              "\n",
              "       band_singer                    url  \n",
              "0      Boyz II Men      /wiki/Boyz_II_Men  \n",
              "1  Whitney Houston  /wiki/Whitney_Houston  \n",
              "2      Ace of Base      /wiki/Ace_of_Base  \n",
              "3           Coolio           /wiki/Coolio  \n",
              "4    L.V. (singer)    /wiki/L.V._(singer)  "
            ]
          },
          "metadata": {
            "tags": []
          },
          "execution_count": 40
        }
      ]
    },
    {
      "cell_type": "markdown",
      "metadata": {
        "id": "KCPYpq8Ltu72"
      },
      "source": [
        "Check your dataframes data types and convert them to the correct data types if needed. "
      ]
    },
    {
      "cell_type": "code",
      "metadata": {
        "id": "RYnRAOZilm7d",
        "jupyter": {
          "outputs_hidden": false
        },
        "scrolled": true
      },
      "source": [
        "flatframe.dtypes"
      ],
      "execution_count": null,
      "outputs": []
    },
    {
      "cell_type": "code",
      "metadata": {
        "colab": {
          "base_uri": "https://localhost:8080/"
        },
        "id": "wftoYesOSXL5",
        "outputId": "2996666f-104f-4473-ff07-cc1bed2c9911"
      },
      "source": [
        "type(yearinfo['1992'])"
      ],
      "execution_count": null,
      "outputs": [
        {
          "output_type": "execute_result",
          "data": {
            "text/plain": [
              "list"
            ]
          },
          "metadata": {
            "tags": []
          },
          "execution_count": 39
        }
      ]
    },
    {
      "cell_type": "markdown",
      "metadata": {
        "id": "4nSngWg6WJqM"
      },
      "source": [
        "We use this dataframe in Homework 2, so store this dataframe so you won't need to run this again!\n",
        "\n",
        "The easiest way is to pickle it using to_pickle:"
      ]
    },
    {
      "cell_type": "code",
      "metadata": {
        "id": "5937BG6tWGph"
      },
      "source": [
        "#Store the dataframe and delete the variable\n",
        "flatframe.to_pickle('flatframedf')\n",
        "del flatframe"
      ],
      "execution_count": null,
      "outputs": []
    },
    {
      "cell_type": "code",
      "metadata": {
        "id": "fLkQcqmOuFR9",
        "colab": {
          "base_uri": "https://localhost:8080/",
          "height": 204
        },
        "outputId": "a6d53f3e-6b93-4212-c680-16500d198ef9"
      },
      "source": [
        "#Loading in the dataframe\n",
        "flatframe = pd.read_pickle('flatframedf')\n",
        "flatframe.head()"
      ],
      "execution_count": null,
      "outputs": [
        {
          "output_type": "execute_result",
          "data": {
            "text/html": [
              "<div>\n",
              "<style scoped>\n",
              "    .dataframe tbody tr th:only-of-type {\n",
              "        vertical-align: middle;\n",
              "    }\n",
              "\n",
              "    .dataframe tbody tr th {\n",
              "        vertical-align: top;\n",
              "    }\n",
              "\n",
              "    .dataframe thead th {\n",
              "        text-align: right;\n",
              "    }\n",
              "</style>\n",
              "<table border=\"1\" class=\"dataframe\">\n",
              "  <thead>\n",
              "    <tr style=\"text-align: right;\">\n",
              "      <th></th>\n",
              "      <th>year</th>\n",
              "      <th>ranking</th>\n",
              "      <th>song</th>\n",
              "      <th>songurl</th>\n",
              "      <th>titletext</th>\n",
              "      <th>band_singer</th>\n",
              "      <th>url</th>\n",
              "    </tr>\n",
              "  </thead>\n",
              "  <tbody>\n",
              "    <tr>\n",
              "      <th>0</th>\n",
              "      <td>1992</td>\n",
              "      <td>1</td>\n",
              "      <td>End of the Road (Boyz II Men song)</td>\n",
              "      <td>/wiki/End_of_the_Road_(Boyz_II_Men_song)</td>\n",
              "      <td>End of the Road</td>\n",
              "      <td>Boyz II Men</td>\n",
              "      <td>/wiki/Boyz_II_Men</td>\n",
              "    </tr>\n",
              "    <tr>\n",
              "      <th>1</th>\n",
              "      <td>1993</td>\n",
              "      <td>1</td>\n",
              "      <td>I Will Always Love You</td>\n",
              "      <td>/wiki/I_Will_Always_Love_You#Whitney_Houston_v...</td>\n",
              "      <td>I Will Always Love You</td>\n",
              "      <td>Whitney Houston</td>\n",
              "      <td>/wiki/Whitney_Houston</td>\n",
              "    </tr>\n",
              "    <tr>\n",
              "      <th>2</th>\n",
              "      <td>1994</td>\n",
              "      <td>1</td>\n",
              "      <td>The Sign (song)</td>\n",
              "      <td>/wiki/The_Sign_(song)</td>\n",
              "      <td>The Sign</td>\n",
              "      <td>Ace of Base</td>\n",
              "      <td>/wiki/Ace_of_Base</td>\n",
              "    </tr>\n",
              "    <tr>\n",
              "      <th>3</th>\n",
              "      <td>1995</td>\n",
              "      <td>1</td>\n",
              "      <td>Gangsta's Paradise</td>\n",
              "      <td>/wiki/Gangsta%27s_Paradise</td>\n",
              "      <td>Gangsta's Paradise</td>\n",
              "      <td>Coolio</td>\n",
              "      <td>/wiki/Coolio</td>\n",
              "    </tr>\n",
              "    <tr>\n",
              "      <th>4</th>\n",
              "      <td>1995</td>\n",
              "      <td>1</td>\n",
              "      <td>Gangsta's Paradise</td>\n",
              "      <td>/wiki/Gangsta%27s_Paradise</td>\n",
              "      <td>Gangsta's Paradise</td>\n",
              "      <td>L.V. (singer)</td>\n",
              "      <td>/wiki/L.V._(singer)</td>\n",
              "    </tr>\n",
              "  </tbody>\n",
              "</table>\n",
              "</div>"
            ],
            "text/plain": [
              "   year ranking  ...      band_singer                    url\n",
              "0  1992       1  ...      Boyz II Men      /wiki/Boyz_II_Men\n",
              "1  1993       1  ...  Whitney Houston  /wiki/Whitney_Houston\n",
              "2  1994       1  ...      Ace of Base      /wiki/Ace_of_Base\n",
              "3  1995       1  ...           Coolio           /wiki/Coolio\n",
              "4  1995       1  ...    L.V. (singer)    /wiki/L.V._(singer)\n",
              "\n",
              "[5 rows x 7 columns]"
            ]
          },
          "metadata": {
            "tags": []
          },
          "execution_count": 3
        }
      ]
    },
    {
      "cell_type": "markdown",
      "metadata": {
        "id": "Fc8dNE4nlm7t"
      },
      "source": [
        "## Q3: Scrape and Parse Wikipedia for Information about Artists and Bands \n",
        "#### [25 points]"
      ]
    },
    {
      "cell_type": "markdown",
      "metadata": {
        "id": "ACpaxf42lm7w"
      },
      "source": [
        "Now, we need to fetch information about the singers or bands for all the songs in a list of years."
      ]
    },
    {
      "cell_type": "markdown",
      "metadata": {
        "id": "EEWBhVhQlm74"
      },
      "source": [
        "### 3.1 Scrape the artist's Wikipedia webpages "
      ]
    },
    {
      "cell_type": "markdown",
      "metadata": {
        "id": "ddXAyi5Vlm77"
      },
      "source": [
        "Since we have hundreds of artists webpages to scrape, we have created a function which implements caching in order to speed up this process.\n",
        "\n",
        "The cache object `urlcache` that will avoid redundant HTTP requests (e.g. an artist might have multiple singles on a single year, or be on the list over a span of years). Remember that this function is designed to be used in a loop over years, and then a loop over songs per year. Since network requests are relatively slow, if we have already requested for a singer or band's wikipedia page, caching the results is a smart thing to do.\n",
        "\n",
        "\n",
        "\n",
        "Notice that we have wrapped the call in _an exception block_. If the request gets an HTTP code different from 200, the cells for that URL will have a value of 1; and if the request completely fails (e.g. no network connection) the cell will have a value of 2. This will allow you to analyse the failed requests."
      ]
    },
    {
      "cell_type": "code",
      "metadata": {
        "id": "xLIr5RLOlm8C",
        "jupyter": {
          "outputs_hidden": false
        },
        "scrolled": true
      },
      "source": [
        "urlcache={}\n",
        "def get_page(url):\n",
        "    if (url not in urlcache) or (urlcache[url]==1) or (urlcache[url]==2):\n",
        "        time.sleep(1)\n",
        "        try:\n",
        "            r = requests.get(\"http://en.wikipedia.org%s\" % url)\n",
        "            if r.status_code == 200:\n",
        "                urlcache[url] = r.text\n",
        "            else:\n",
        "                urlcache[url] = 1\n",
        "        except:\n",
        "            urlcache[url] = 2\n",
        "    return urlcache[url]"
      ],
      "execution_count": null,
      "outputs": []
    },
    {
      "cell_type": "markdown",
      "metadata": {
        "id": "4KvxocZMlm8F"
      },
      "source": [
        "Before we apply our function to the dataframe, let us sort `flatframe` by year. This will ensure that we will hit the cache most as singers who show up repeatedly in the rankings will have their information already pulled."
      ]
    },
    {
      "cell_type": "code",
      "metadata": {
        "colab": {
          "base_uri": "https://localhost:8080/",
          "height": 197
        },
        "id": "slMlUwrXlm8K",
        "jupyter": {
          "outputs_hidden": false
        },
        "scrolled": true,
        "outputId": "280ff3f3-6809-4d2c-e3c1-f198788c661c"
      },
      "source": [
        "flatframe=flatframe.sort_values('year')\n",
        "flatframe.head()"
      ],
      "execution_count": null,
      "outputs": [
        {
          "output_type": "execute_result",
          "data": {
            "text/html": [
              "<div>\n",
              "<style scoped>\n",
              "    .dataframe tbody tr th:only-of-type {\n",
              "        vertical-align: middle;\n",
              "    }\n",
              "\n",
              "    .dataframe tbody tr th {\n",
              "        vertical-align: top;\n",
              "    }\n",
              "\n",
              "    .dataframe thead th {\n",
              "        text-align: right;\n",
              "    }\n",
              "</style>\n",
              "<table border=\"1\" class=\"dataframe\">\n",
              "  <thead>\n",
              "    <tr style=\"text-align: right;\">\n",
              "      <th></th>\n",
              "      <th>year</th>\n",
              "      <th>ranking</th>\n",
              "      <th>song</th>\n",
              "      <th>songurl</th>\n",
              "      <th>titletext</th>\n",
              "      <th>band_singer</th>\n",
              "      <th>url</th>\n",
              "    </tr>\n",
              "  </thead>\n",
              "  <tbody>\n",
              "    <tr>\n",
              "      <th>0</th>\n",
              "      <td>1992</td>\n",
              "      <td>1</td>\n",
              "      <td>End of the Road (Boyz II Men song)</td>\n",
              "      <td>/wiki/End_of_the_Road_(Boyz_II_Men_song)</td>\n",
              "      <td>End of the Road</td>\n",
              "      <td>Boyz II Men</td>\n",
              "      <td>/wiki/Boyz_II_Men</td>\n",
              "    </tr>\n",
              "    <tr>\n",
              "      <th>716</th>\n",
              "      <td>1992</td>\n",
              "      <td>25</td>\n",
              "      <td>Diamonds and Pearls (song)</td>\n",
              "      <td>/wiki/Diamonds_and_Pearls_(song)</td>\n",
              "      <td>Diamonds and Pearls</td>\n",
              "      <td>Prince (entertainer)</td>\n",
              "      <td>/wiki/Prince_(entertainer)</td>\n",
              "    </tr>\n",
              "    <tr>\n",
              "      <th>944</th>\n",
              "      <td>1992</td>\n",
              "      <td>30</td>\n",
              "      <td>Live and Learn (Joe Public song)</td>\n",
              "      <td>/wiki/Live_and_Learn_(Joe_Public_song)</td>\n",
              "      <td>Live and Learn</td>\n",
              "      <td>Joe Public (band)</td>\n",
              "      <td>/wiki/Joe_Public_(band)</td>\n",
              "    </tr>\n",
              "    <tr>\n",
              "      <th>2906</th>\n",
              "      <td>1992</td>\n",
              "      <td>76</td>\n",
              "      <td>Addams Groove</td>\n",
              "      <td>/wiki/Addams_Groove</td>\n",
              "      <td>Addams Groove</td>\n",
              "      <td>MC Hammer</td>\n",
              "      <td>/wiki/MC_Hammer</td>\n",
              "    </tr>\n",
              "    <tr>\n",
              "      <th>2868</th>\n",
              "      <td>1992</td>\n",
              "      <td>75</td>\n",
              "      <td>Rhythm Is a Dancer</td>\n",
              "      <td>/wiki/Rhythm_Is_a_Dancer</td>\n",
              "      <td>Rhythm Is a Dancer</td>\n",
              "      <td>Snap!</td>\n",
              "      <td>/wiki/Snap!</td>\n",
              "    </tr>\n",
              "  </tbody>\n",
              "</table>\n",
              "</div>"
            ],
            "text/plain": [
              "      year ranking                                song  \\\n",
              "0     1992       1  End of the Road (Boyz II Men song)   \n",
              "716   1992      25          Diamonds and Pearls (song)   \n",
              "944   1992      30    Live and Learn (Joe Public song)   \n",
              "2906  1992      76                       Addams Groove   \n",
              "2868  1992      75                  Rhythm Is a Dancer   \n",
              "\n",
              "                                       songurl            titletext  \\\n",
              "0     /wiki/End_of_the_Road_(Boyz_II_Men_song)      End of the Road   \n",
              "716           /wiki/Diamonds_and_Pearls_(song)  Diamonds and Pearls   \n",
              "944     /wiki/Live_and_Learn_(Joe_Public_song)       Live and Learn   \n",
              "2906                       /wiki/Addams_Groove        Addams Groove   \n",
              "2868                  /wiki/Rhythm_Is_a_Dancer   Rhythm Is a Dancer   \n",
              "\n",
              "               band_singer                         url  \n",
              "0              Boyz II Men           /wiki/Boyz_II_Men  \n",
              "716   Prince (entertainer)  /wiki/Prince_(entertainer)  \n",
              "944      Joe Public (band)     /wiki/Joe_Public_(band)  \n",
              "2906             MC Hammer             /wiki/MC_Hammer  \n",
              "2868                 Snap!                 /wiki/Snap!  "
            ]
          },
          "metadata": {
            "tags": []
          },
          "execution_count": 48
        }
      ]
    },
    {
      "cell_type": "code",
      "metadata": {
        "id": "jGHEg1IDlm8O",
        "jupyter": {
          "outputs_hidden": true
        },
        "scrolled": true,
        "outputId": "f6baac53-dbb3-4e36-f9ed-1e2953c38ec6"
      },
      "source": [
        "# Here we are populating the url cache\n",
        "#Note that this function will take around 20 minutes to run as we are requestinf for several pages\n",
        "#This function is designed to be run again and again: it just tries to make sure that there are no unresolved pages left. \n",
        "flatframe[\"url\"].apply(get_page)"
      ],
      "execution_count": null,
      "outputs": [
        {
          "output_type": "execute_result",
          "data": {
            "text/plain": [
              "0       <!DOCTYPE html>\\n<html class=\"client-nojs\" lan...\n",
              "716     <!DOCTYPE html>\\n<html class=\"client-nojs\" lan...\n",
              "944     <!DOCTYPE html>\\n<html class=\"client-nojs\" lan...\n",
              "2906    <!DOCTYPE html>\\n<html class=\"client-nojs\" lan...\n",
              "2868    <!DOCTYPE html>\\n<html class=\"client-nojs\" lan...\n",
              "                              ...                        \n",
              "3098    <!DOCTYPE html>\\n<html class=\"client-nojs\" lan...\n",
              "2551    <!DOCTYPE html>\\n<html class=\"client-nojs\" lan...\n",
              "75      <!DOCTYPE html>\\n<html class=\"client-nojs\" lan...\n",
              "2020    <!DOCTYPE html>\\n<html class=\"client-nojs\" lan...\n",
              "3909    <!DOCTYPE html>\\n<html class=\"client-nojs\" lan...\n",
              "Name: url, Length: 3910, dtype: object"
            ]
          },
          "metadata": {
            "tags": []
          },
          "execution_count": 49
        }
      ]
    },
    {
      "cell_type": "code",
      "metadata": {
        "colab": {
          "base_uri": "https://localhost:8080/"
        },
        "id": "vtH5ch-Jlm8X",
        "jupyter": {
          "outputs_hidden": false
        },
        "scrolled": true,
        "outputId": "3965976a-b5fe-4519-851d-f5abb5609c7c"
      },
      "source": [
        "#Let us make sure that there are no unresolved pages\n",
        "#The sum below should be 0, and the boolean True. If that is not the case, run the above cell again until you get a sum of 0 and a boolean True\n",
        "print (np.sum([(urlcache[k]==1) or (urlcache[k]==2) and isinstance(k,str) for k in urlcache]))\n",
        "print (len(flatframe.url.unique())==len(urlcache))#we got all of the urls"
      ],
      "execution_count": null,
      "outputs": [
        {
          "output_type": "stream",
          "text": [
            "0\n",
            "True\n"
          ],
          "name": "stdout"
        }
      ]
    },
    {
      "cell_type": "code",
      "metadata": {
        "id": "u-g3mOWrlm8c",
        "jupyter": {
          "outputs_hidden": false
        }
      },
      "source": [
        "#Let's save the `urlcache` and remove the old object. \n",
        "keys_values = urlcache.items()\n",
        "urlcache = {str(key): str(value) for key, value in keys_values}\n",
        "with open(\"artistinfo.json\",\"w\") as fd:\n",
        "    json.dump(urlcache, fd)\n",
        "del urlcache"
      ],
      "execution_count": null,
      "outputs": []
    },
    {
      "cell_type": "code",
      "metadata": {
        "id": "ctcBqdEPlm8f",
        "jupyter": {
          "outputs_hidden": false
        },
        "scrolled": true
      },
      "source": [
        "with open(\"/content/drive/MyDrive/Colab files/artistinfo.json\") as json_file:\n",
        "    urlcache = json.load(json_file)"
      ],
      "execution_count": null,
      "outputs": []
    },
    {
      "cell_type": "markdown",
      "metadata": {
        "id": "P_G84LnUlm8p"
      },
      "source": [
        "### 3.2 Parse the data"
      ]
    },
    {
      "cell_type": "markdown",
      "metadata": {
        "id": "urcGynNplm8r"
      },
      "source": [
        "Now, we need to extract the following information from each page. Write a function `singer_band_info(url, page_text)` that returns a dictionary. \n",
        "\n",
        "Here `url` should be the path the url corresponding to the singer's Wikipedia page (same as the previous dataframe `flatframe`), and page_text should be the HTML text for the corresponding artist's webpage. \n",
        "\n",
        "This function should return a dictionary which contains the following information:\n",
        "\n",
        "1. The genres of the band or singer. These genres should be urls, to ensure their uniqueness. Create a list, `genres`, of these urls. If there are no genres, use `['NA']`.\n",
        "\n",
        "2. If the page has the text \"Born\", extract the element with the class `.bday`. If there is no \"Born\", store `False`. Store either of these into the variable `born`. \n",
        "\n",
        "3. If the text \"Years active\" is found, but there is no birthday, assume a band. Store the years active into the variable `ya`, or `False` if the text is not found. \n",
        "\n",
        "The information can be found below the artists image on each such wikipedia page, as the example here shows:\n",
        "\n",
        "\n",
        "![EdSheeran](https://drive.google.com/uc?export=view&id=1NJi2C-Gi5HPziuPxefNcjj5i4-04kuQ-)\n",
        "\n",
        "\n"
      ]
    },
    {
      "cell_type": "markdown",
      "metadata": {
        "id": "cmsucMYj31Ft"
      },
      "source": [
        "The dictionary returned should be of the form:\n",
        "```\n",
        "{ 'url': '/wiki/Boyz_II_Men', \n",
        "'genres': ['/wiki/Contemporary_R%26B_music', '/wiki/Soul_music', '/wiki/New_jack_swing'], \n",
        "'born': None, \n",
        "'ya': '1987–present'}\n",
        "```\n",
        "\n",
        "Wikipedia has changed it's format along the years! So observing one artist's webpage and building your function based on it will probably give you tons of errors. \n",
        "\n",
        "Here are a few issues to remember while parsing:\n",
        "\n",
        "1.   There are several artists that take a sabbatical between their active years (https://en.wikipedia.org/wiki/Tony!_Toni!_Ton%C3%A9!). To get the right data, write a function to calculate the longest period of time they were active and consider that as your variable `years active`. In the example give, this would be 2003–present.\n",
        "2.   Birthday's are given in different formats for different pages. For example - https://en.wikipedia.org/wiki/Sir_Mix-a-Lot and https://en.wikipedia.org/wiki/Ed_Sheeran have different formats. To ensure that you get the right day, look for the 'span' tag with a 'bday' tag and ensure that there are no paranthesis around the extracted text.\n",
        "3. Year's active are also given in different formats. For example - https://en.wikipedia.org/wiki/Boyz_II_Men and https://en.wikipedia.org/wiki/Ed_Sheeran are different. You could use regex (\"[0-9]{4}[–][0-9]{4}\" and \"[0-9]{4}[–][0-9]{4}\") to ensure you are getting the right years.<br> Report the edge cases found and why the Regex expression takes care of all these edge cases.\n",
        "\n",
        "Definitely do look at your outputs as you are parsing as it can identify several edge cases you have not considered in your code.\n",
        "\n",
        "\n",
        "\n",
        "\n"
      ]
    },
    {
      "cell_type": "markdown",
      "metadata": {
        "id": "wepOCDnV2H3p"
      },
      "source": [
        "Before parsing, it is important to note that Wikipedia has defined the same genre in a few different ways. Our parsing code will pick these up as different and new as they all differ with the alphabet case or an underscore instead of a hyphen.\n",
        "\n",
        "We have defined a function to ensure that we have the correct representation of the number of artists in a particular genre. "
      ]
    },
    {
      "cell_type": "code",
      "metadata": {
        "id": "QTSJHvJF3pxu"
      },
      "source": [
        "genres_duplicates={'/wiki/Adult_Contemporary_music':'/wiki/Adult_contemporary','/wiki/Adult_contemporary_music':'/wiki/Adult_contemporary',\n",
        "'/wiki/Afrobeat':'/wiki/Afrobeats',\n",
        "'/wiki/Alternative_rock':'/wiki/Alternative_Rock',\n",
        "'/wiki/Avant-garde':'/wiki/Avant-garde_music',\n",
        "'/wiki/Blues':'/wiki/Blues_music',\n",
        "'/wiki/Comedy_hip-hop':'/wiki/Comedy_hip_hop',\n",
        "'/wiki/Contemporary_R%26B':'/wiki/Contemporary_R%26B_music',\n",
        "'/wiki/Contemporary_folk':'/wiki/Contemporary_folk_music',\n",
        "'/wiki/Country_Folk':'/wiki/Country_folk',\n",
        "'/wiki/Dance_pop':'/wiki/Dance-pop',\n",
        "'/wiki/East_Coast_hip_hop':'/wiki/East_coast_hip_hop',\n",
        "'/wiki/Electronic_Dance_Music':'/wiki/Electronic_dance_music',\n",
        "'/wiki/Electronica':'/wiki/Electronica_music',\n",
        "'/wiki/Emo':'/wiki/Emo_music',\n",
        "'/wiki/Electropop':'/wiki/Electro-pop',\n",
        "'/wiki/Folk-pop':'/wiki/Folk_pop',\n",
        "'/wiki/Funk':'/wiki/Funk_music',\n",
        "'/wiki/Grime_(music_genre)':'/wiki/Grime_music',\n",
        "'/wiki/Gangsta_Rap':'/wiki/Gangsta_rap',\n",
        "'/wiki/Hip_Hop_music': '/wiki/Hip_hop','/wiki/Hip_hop_music':'/wiki/Hip_hop',\n",
        "'/wiki/Hyphy':'/wiki/Hyphy_music',\n",
        "'/wiki/Latin_music':'/wiki/Latin_music_(genre)',\n",
        "'/wiki/West_Coast_hip_hop':'/wiki/West_coast_hip_hop',\n",
        "'/wiki/Southern_Hip_Hop':'/wiki/Southern_hip_hop',\n",
        "'/wiki/Ska':'/wiki/Ska_music',\n",
        "'/wiki/Pop-rock':'/wiki/Pop_rock',\n",
        "'/wiki/Pop_Music':'/wiki/Pop_music',\n",
        "'/wiki/Nu_metal':'/wiki/Nu_metal_music','/wiki/Hard_Rock':'/wiki/Hard_rock',\n",
        "'/wiki/Pop_Rock':'/wiki/Pop_rock',\n",
        "'/wiki/Post-Grunge':'/wiki/Post-grunge',\n",
        "'/wiki/SoundCloud_rap':'/wiki/Soundcloud_rap',\n",
        "'/wiki/Alternative_Metal':'/wiki/Alternative_metal'}\n",
        "\n",
        "def genre_duplicates(genres):\n",
        "    for i in range(len(genres)):\n",
        "        if genres[i] in genres_duplicates.keys():\n",
        "            genres[i]=genres_duplicates[genres[i]]\n",
        "    return genres "
      ],
      "execution_count": null,
      "outputs": []
    },
    {
      "cell_type": "markdown",
      "metadata": {
        "id": "w955jc_x7oSS"
      },
      "source": [
        "Define a function to calculate the longest active years"
      ]
    },
    {
      "cell_type": "code",
      "metadata": {
        "id": "iCiUaa3t1mdM",
        "colab": {
          "base_uri": "https://localhost:8080/"
        },
        "outputId": "c0f09ba8-59d6-4a73-b431-4baa3202e00b"
      },
      "source": [
        "# This function works in most cases but not with ed-shereen & haven't done calculating the longest period (we might be able to do that by using list)\n",
        "\n",
        "def long_years_active(html_text): \n",
        "\n",
        "    soup = BeautifulSoup(html_text, 'html.parser')  \n",
        "    \n",
        "    table = soup.find_all('table', {'class': 'infobox'}) # for differnt artist pages, the classes are different. The only one common is infobox\n",
        "    \n",
        "    try: # For some pages there are no table and data ex- /wiki/Paperboy_(rapper)\n",
        "        rows = [row for row in table[0].find_all(\"tr\")]\n",
        "    except:\n",
        "        return None \n",
        "    \n",
        "    for row in rows:\n",
        "        year_active = row.find('th', string = \"Years active\") # Finding if 'years active' Title is present or not\n",
        "        if year_active != None:\n",
        "            year_active = row.find('th', string = \"Years active\").find_next('td').get_text() # This finds the cell after the title 'Years Active'\n",
        "            \n",
        "            return year_active\n",
        "    return None # Maybe there is a chance where artist page have no 'years active'\n",
        "\n",
        "print(long_years_active(urlcache['/wiki/Sir_Mix-a-Lot']))"
      ],
      "execution_count": null,
      "outputs": [
        {
          "output_type": "stream",
          "text": [
            "1979–present\n"
          ],
          "name": "stdout"
        }
      ]
    },
    {
      "cell_type": "markdown",
      "metadata": {
        "id": "C30IKrh_lm89"
      },
      "source": [
        "Please write the function `singer_band_info` according to the following specification:"
      ]
    },
    {
      "cell_type": "code",
      "metadata": {
        "id": "144RCE17lm9C",
        "jupyter": {
          "outputs_hidden": false
        },
        "scrolled": true,
        "colab": {
          "base_uri": "https://localhost:8080/"
        },
        "outputId": "ff85a498-5514-4d2a-81f4-3fea1c5059e4"
      },
      "source": [
        "\"\"\"\n",
        "Function\n",
        "--------\n",
        "singer_band_info\n",
        "\n",
        "Inputs\n",
        "------\n",
        "url: the url\n",
        "page_text: the text associated with the url\n",
        "   \n",
        "Returns\n",
        "-------\n",
        "A dictionary with the following data:\n",
        "    url: copy the input argument url into this value\n",
        "    genres: the genres that the band or singer works in\n",
        "    born: the artist's birthday\n",
        "    ya: years active variable\n",
        "\n",
        "Notes\n",
        "-----\n",
        "See description above. Also note that some of the genres urls might require a \n",
        "bit of care and special handling.\n",
        "\"\"\"\n",
        "\n",
        "#your code here\n",
        "\n",
        "def singer_band_info(url,page_text):\n",
        "    \n",
        "    dic = {}\n",
        "    genres = []\n",
        "    \n",
        "    dic['url'] = url \n",
        "    dic['ya'] = long_years_active(page_text)\n",
        "    \n",
        "    soup = BeautifulSoup(page_text,'html.parser')\n",
        "    \n",
        "    try: # Some pages might not have genres\n",
        "        cell_containing_genres = soup.find('th', string = \"Genres\").find_next('td') # This finds the next cell after the title Genres\n",
        "        if cell_containing_genres.find_all('li') == []:\n",
        "          genre_list = cell_containing_genres.findChildren('a', recursive=False) # Extracting all the links from the cell above\n",
        "          for genre in genre_list:\n",
        "            genres.append(genre.get('href'))\n",
        "        else:\n",
        "          genre_list = cell_containing_genres.find_all('li')\n",
        "          for genre in genre_list:\n",
        "            genres.append(genre.find_all('a')[0].get('href'))\n",
        "        \n",
        "        genres = genre_duplicates(genres) # Using the function defined above to delete duplicate genres\n",
        "        dic['genres']= genres\n",
        "    except:\n",
        "        dic['genres'] =None\n",
        "        \n",
        "        \n",
        "\n",
        "    try: # Some pages do not have birth dates, those pages gets an error when below set of code are run, in that case it goes to the except block\n",
        "        # Example with no birth dates - /wiki/Snap!\n",
        "        \n",
        "        born = soup.find('span',{'class' : 'bday'}).text # finds the span tag which has class : bday and gets the text\n",
        "        dic['born'] = born     \n",
        "    except:\n",
        "        dic['born'] = None\n",
        "        \n",
        "    \n",
        "    return dic\n",
        "\n",
        "print(singer_band_info('/wiki/Sir_Mix-a-Lot',urlcache['/wiki/Sir_Mix-a-Lot']))"
      ],
      "execution_count": null,
      "outputs": [
        {
          "output_type": "stream",
          "text": [
            "{'url': '/wiki/Sir_Mix-a-Lot', 'ya': '1979–present', 'genres': ['/wiki/Hip_hop'], 'born': '1963-08-12'}\n"
          ],
          "name": "stdout"
        }
      ]
    },
    {
      "cell_type": "markdown",
      "metadata": {
        "id": "Rrscv0mG4qkM"
      },
      "source": [
        "   "
      ]
    },
    {
      "cell_type": "markdown",
      "metadata": {
        "id": "fEIXSImI4qkM"
      },
      "source": [
        "Let's iterate over the items in the singer-group dictionary cache `urlcache`, run the above function, and create a list.\n",
        "\n",
        "Each element in this list is the dictionary that the function `singer_band_info` returns. \n",
        "\n",
        "The list should look something like this:\n",
        "```\n",
        "  'genres': ['/wiki/Contemporary_R%26B_music',\n",
        "   '/wiki/Soul_music',\n",
        "   '/wiki/New_jack_swing'],\n",
        "  'url': '/wiki/Boyz_II_Men',\n",
        "  'ya': '1987–present'},\n",
        " {'born': None,\n",
        "  'genres': ['/wiki/Pop_music',\n",
        "   '/wiki/Electronica_music',\n",
        "   '/wiki/Dance_music',\n",
        "   '/wiki/Rave_music',\n",
        "   '/wiki/House_music'],\n",
        "  'url': '/wiki/KWS_(band)',\n",
        "  'ya': '1991–1994'},\n",
        " ... and so on]\n",
        "  ```"
      ]
    },
    {
      "cell_type": "code",
      "metadata": {
        "collapsed": true,
        "id": "S90mF4JT4qkM"
      },
      "source": [
        "#your code here\n",
        "\n",
        "singer_band_info_list = []\n",
        "len(urlcache)\n",
        "for url, page_text in urlcache.items():\n",
        "    #print(url)\n",
        "    singer_band_info_list.append(singer_band_info(url,page_text))\n"
      ],
      "execution_count": null,
      "outputs": []
    },
    {
      "cell_type": "code",
      "metadata": {
        "id": "hN0xOthZUsaY"
      },
      "source": [
        "#Store the list and delete the variable\n",
        "with open(\"singer_band_info_list.json\",\"w\") as fd:\n",
        "    json.dump(singer_band_info_list, fd)\n",
        "del singer_band_info_list"
      ],
      "execution_count": null,
      "outputs": []
    },
    {
      "cell_type": "code",
      "metadata": {
        "id": "kze3PT80yvuT"
      },
      "source": [
        "#Load the list into a variable\n",
        "with open(\"/content/singer_band_info_list.json\") as json_file:\n",
        "    singer_band_info_list = json.load(json_file)"
      ],
      "execution_count": null,
      "outputs": []
    },
    {
      "cell_type": "markdown",
      "metadata": {
        "id": "NFBbluyq_xUg"
      },
      "source": [
        "Create a dataframe from the list `singer_band_info_list`."
      ]
    },
    {
      "cell_type": "code",
      "metadata": {
        "id": "l2Jq1tIhlm9X",
        "jupyter": {
          "outputs_hidden": false
        },
        "scrolled": true,
        "colab": {
          "base_uri": "https://localhost:8080/",
          "height": 204
        },
        "outputId": "4a65be2f-c511-461a-93bc-c4310dae6e34"
      },
      "source": [
        "#your code here\n",
        "\n",
        "singerinfo_df = pd.DataFrame(singer_band_info_list)\n",
        "singerinfo_df.head()"
      ],
      "execution_count": null,
      "outputs": [
        {
          "output_type": "execute_result",
          "data": {
            "text/html": [
              "<div>\n",
              "<style scoped>\n",
              "    .dataframe tbody tr th:only-of-type {\n",
              "        vertical-align: middle;\n",
              "    }\n",
              "\n",
              "    .dataframe tbody tr th {\n",
              "        vertical-align: top;\n",
              "    }\n",
              "\n",
              "    .dataframe thead th {\n",
              "        text-align: right;\n",
              "    }\n",
              "</style>\n",
              "<table border=\"1\" class=\"dataframe\">\n",
              "  <thead>\n",
              "    <tr style=\"text-align: right;\">\n",
              "      <th></th>\n",
              "      <th>url</th>\n",
              "      <th>ya</th>\n",
              "      <th>genres</th>\n",
              "      <th>born</th>\n",
              "    </tr>\n",
              "  </thead>\n",
              "  <tbody>\n",
              "    <tr>\n",
              "      <th>0</th>\n",
              "      <td>/wiki/Boyz_II_Men</td>\n",
              "      <td>1987–present[1]</td>\n",
              "      <td>[/wiki/Contemporary_R%26B_music, /wiki/New_jac...</td>\n",
              "      <td>None</td>\n",
              "    </tr>\n",
              "    <tr>\n",
              "      <th>1</th>\n",
              "      <td>/wiki/MC_Hammer</td>\n",
              "      <td>1985–present</td>\n",
              "      <td>[/wiki/Hip_hop, /wiki/Gospel_music, /wiki/Danc...</td>\n",
              "      <td>1962-03-30</td>\n",
              "    </tr>\n",
              "    <tr>\n",
              "      <th>2</th>\n",
              "      <td>/wiki/Snap!</td>\n",
              "      <td>1989–1996; 2000–present</td>\n",
              "      <td>[/wiki/Eurodance, /wiki/Hip_house, /wiki/House...</td>\n",
              "      <td>None</td>\n",
              "    </tr>\n",
              "    <tr>\n",
              "      <th>3</th>\n",
              "      <td>/wiki/Michael_Jackson</td>\n",
              "      <td>1964–2009</td>\n",
              "      <td>[/wiki/Pop_music, /wiki/Soul_music, /wiki/Funk...</td>\n",
              "      <td>1958-08-29</td>\n",
              "    </tr>\n",
              "    <tr>\n",
              "      <th>4</th>\n",
              "      <td>/wiki/Bryan_Adams</td>\n",
              "      <td>1975–present</td>\n",
              "      <td>[/wiki/Rock_music, /wiki/Pop_rock, /wiki/Soft_...</td>\n",
              "      <td>1959-11-05</td>\n",
              "    </tr>\n",
              "  </tbody>\n",
              "</table>\n",
              "</div>"
            ],
            "text/plain": [
              "                     url  ...        born\n",
              "0      /wiki/Boyz_II_Men  ...        None\n",
              "1        /wiki/MC_Hammer  ...  1962-03-30\n",
              "2            /wiki/Snap!  ...        None\n",
              "3  /wiki/Michael_Jackson  ...  1958-08-29\n",
              "4      /wiki/Bryan_Adams  ...  1959-11-05\n",
              "\n",
              "[5 rows x 4 columns]"
            ]
          },
          "metadata": {
            "tags": []
          },
          "execution_count": 5
        }
      ]
    },
    {
      "cell_type": "markdown",
      "metadata": {
        "id": "r33k0Rv9lm9M"
      },
      "source": [
        "## Q4: Merging Artist's and Song dataframes\n",
        "#### [15 points]"
      ]
    },
    {
      "cell_type": "markdown",
      "metadata": {
        "id": "qK8nFxMblm9d"
      },
      "source": [
        "Now, merge the artist/song data frames into one large dataframe. Note that this has an effect of imputing to a song **all the genres** that the artist is active in. We know that this is not true, but it is the simplest assumption we can make, and is probably good for most artists. "
      ]
    },
    {
      "cell_type": "markdown",
      "metadata": {
        "id": "XWlzfSxelm9y"
      },
      "source": [
        "Update the dataframe by adding a column for each genre with 1-0 encoding for each row. This means, we want columns like \"/wiki/Alternative_Rock\", \"/wiki/Acid_jazz\", where if an artist is in that genre, the dataframe cell has a 1. Otherwise, it has a 0.\n",
        "\n",
        "Remember that an artist/band can be in multiple genres, and must have a 1 for each column corresponding to these genres, and 0 otherwise.\n",
        "\n",
        "This will widen the dataframe by the total number of genres that we have. The expanded part will look a bit like this:\n",
        "\n",
        "![largedfexample](https://drive.google.com/uc?export=view&id=1YgIVsyjWLXIAipI5dF2H4fvAmQodpE8L)\n"
      ]
    },
    {
      "cell_type": "code",
      "metadata": {
        "id": "oh1QgHeTlm92",
        "jupyter": {
          "outputs_hidden": false
        },
        "colab": {
          "base_uri": "https://localhost:8080/",
          "height": 423
        },
        "outputId": "806670e9-fe55-48e6-d822-3c459453b66d"
      },
      "source": [
        "#your code here\n",
        "\n",
        "merged_flatframe = pd.merge(flatframe,singerinfo_df,left_on='url',right_on='url',how='left')\n",
        "merged_flatframe.genres.fillna(value=np.nan, inplace=True)\n",
        "largedf = merged_flatframe.join(merged_flatframe.genres.str.join('|').str.get_dummies())\n",
        "largedf = largedf.drop(largedf.columns[10:14],axis=1)\n",
        "largedf.head()"
      ],
      "execution_count": null,
      "outputs": [
        {
          "output_type": "execute_result",
          "data": {
            "text/html": [
              "<div>\n",
              "<style scoped>\n",
              "    .dataframe tbody tr th:only-of-type {\n",
              "        vertical-align: middle;\n",
              "    }\n",
              "\n",
              "    .dataframe tbody tr th {\n",
              "        vertical-align: top;\n",
              "    }\n",
              "\n",
              "    .dataframe thead th {\n",
              "        text-align: right;\n",
              "    }\n",
              "</style>\n",
              "<table border=\"1\" class=\"dataframe\">\n",
              "  <thead>\n",
              "    <tr style=\"text-align: right;\">\n",
              "      <th></th>\n",
              "      <th>year</th>\n",
              "      <th>ranking</th>\n",
              "      <th>song</th>\n",
              "      <th>songurl</th>\n",
              "      <th>titletext</th>\n",
              "      <th>band_singer</th>\n",
              "      <th>url</th>\n",
              "      <th>ya</th>\n",
              "      <th>genres</th>\n",
              "      <th>born</th>\n",
              "      <th>/wiki/Acid_jazz</th>\n",
              "      <th>/wiki/Acid_rock</th>\n",
              "      <th>/wiki/Acoustic_music</th>\n",
              "      <th>/wiki/Acoustic_rock</th>\n",
              "      <th>/wiki/Adult_contemporary</th>\n",
              "      <th>/wiki/Afrobeats</th>\n",
              "      <th>/wiki/Alternative_R%26B</th>\n",
              "      <th>/wiki/Alternative_Rock</th>\n",
              "      <th>/wiki/Alternative_country</th>\n",
              "      <th>/wiki/Alternative_dance</th>\n",
              "      <th>/wiki/Alternative_folk</th>\n",
              "      <th>/wiki/Alternative_hip_hop</th>\n",
              "      <th>/wiki/Alternative_metal</th>\n",
              "      <th>/wiki/Alternative_music</th>\n",
              "      <th>/wiki/Alternative_pop</th>\n",
              "      <th>/wiki/Ambient_music</th>\n",
              "      <th>/wiki/Americana_(music)</th>\n",
              "      <th>/wiki/Anarcho-punk</th>\n",
              "      <th>/wiki/Anti-folk</th>\n",
              "      <th>/wiki/Arena_rock</th>\n",
              "      <th>/wiki/Art_pop</th>\n",
              "      <th>/wiki/Art_rock</th>\n",
              "      <th>/wiki/Avant-funk</th>\n",
              "      <th>/wiki/Avant-garde_music</th>\n",
              "      <th>/wiki/Avant-pop</th>\n",
              "      <th>/wiki/Bachata_(music)</th>\n",
              "      <th>/wiki/Baroque_pop</th>\n",
              "      <th>/wiki/Bass_music</th>\n",
              "      <th>/wiki/Bedroom_pop</th>\n",
              "      <th>/wiki/Bhangra_(music)</th>\n",
              "      <th>...</th>\n",
              "      <th>/wiki/Soundcloud_rap</th>\n",
              "      <th>/wiki/Southern_hip_hop</th>\n",
              "      <th>/wiki/Southern_rap</th>\n",
              "      <th>/wiki/Southern_rock</th>\n",
              "      <th>/wiki/Southern_soul</th>\n",
              "      <th>/wiki/Space_rock</th>\n",
              "      <th>/wiki/Speed_metal</th>\n",
              "      <th>/wiki/Surf_music</th>\n",
              "      <th>/wiki/Surreal_humor</th>\n",
              "      <th>/wiki/Synth-pop</th>\n",
              "      <th>/wiki/Synth-rock</th>\n",
              "      <th>/wiki/Synthpop</th>\n",
              "      <th>/wiki/Synthwave_(2000s_genre)</th>\n",
              "      <th>/wiki/Tech_house</th>\n",
              "      <th>/wiki/Techno</th>\n",
              "      <th>/wiki/Teen_pop</th>\n",
              "      <th>/wiki/Thrash_metal</th>\n",
              "      <th>/wiki/Traditional_pop_music</th>\n",
              "      <th>/wiki/Trance_music</th>\n",
              "      <th>/wiki/Trap_music</th>\n",
              "      <th>/wiki/Trap_music_(EDM)</th>\n",
              "      <th>/wiki/Trap_music_(hip_hop)</th>\n",
              "      <th>/wiki/Trip_hop</th>\n",
              "      <th>/wiki/Trop_rock</th>\n",
              "      <th>/wiki/Tropical_house</th>\n",
              "      <th>/wiki/Tropical_music</th>\n",
              "      <th>/wiki/UK_bass</th>\n",
              "      <th>/wiki/UK_funky</th>\n",
              "      <th>/wiki/UK_garage</th>\n",
              "      <th>/wiki/Underground_hip_hop</th>\n",
              "      <th>/wiki/Urban_adult_contemporary</th>\n",
              "      <th>/wiki/Urban_contemporary</th>\n",
              "      <th>/wiki/Urban_contemporary_gospel</th>\n",
              "      <th>/wiki/Urban_pop</th>\n",
              "      <th>/wiki/Urbano_music</th>\n",
              "      <th>/wiki/West_coast_hip_hop</th>\n",
              "      <th>/wiki/Western_swing</th>\n",
              "      <th>/wiki/World_music</th>\n",
              "      <th>/wiki/Worldbeat</th>\n",
              "      <th>/wiki/Worship_music</th>\n",
              "    </tr>\n",
              "  </thead>\n",
              "  <tbody>\n",
              "    <tr>\n",
              "      <th>0</th>\n",
              "      <td>1992</td>\n",
              "      <td>1</td>\n",
              "      <td>End of the Road (Boyz II Men song)</td>\n",
              "      <td>/wiki/End_of_the_Road_(Boyz_II_Men_song)</td>\n",
              "      <td>End of the Road</td>\n",
              "      <td>Boyz II Men</td>\n",
              "      <td>/wiki/Boyz_II_Men</td>\n",
              "      <td>1987–present[1]</td>\n",
              "      <td>[/wiki/Contemporary_R%26B_music, /wiki/New_jac...</td>\n",
              "      <td>None</td>\n",
              "      <td>0</td>\n",
              "      <td>0</td>\n",
              "      <td>0</td>\n",
              "      <td>0</td>\n",
              "      <td>0</td>\n",
              "      <td>0</td>\n",
              "      <td>0</td>\n",
              "      <td>0</td>\n",
              "      <td>0</td>\n",
              "      <td>0</td>\n",
              "      <td>0</td>\n",
              "      <td>0</td>\n",
              "      <td>0</td>\n",
              "      <td>0</td>\n",
              "      <td>0</td>\n",
              "      <td>0</td>\n",
              "      <td>0</td>\n",
              "      <td>0</td>\n",
              "      <td>0</td>\n",
              "      <td>0</td>\n",
              "      <td>0</td>\n",
              "      <td>0</td>\n",
              "      <td>0</td>\n",
              "      <td>0</td>\n",
              "      <td>0</td>\n",
              "      <td>0</td>\n",
              "      <td>0</td>\n",
              "      <td>0</td>\n",
              "      <td>0</td>\n",
              "      <td>0</td>\n",
              "      <td>...</td>\n",
              "      <td>0</td>\n",
              "      <td>0</td>\n",
              "      <td>0</td>\n",
              "      <td>0</td>\n",
              "      <td>0</td>\n",
              "      <td>0</td>\n",
              "      <td>0</td>\n",
              "      <td>0</td>\n",
              "      <td>0</td>\n",
              "      <td>0</td>\n",
              "      <td>0</td>\n",
              "      <td>0</td>\n",
              "      <td>0</td>\n",
              "      <td>0</td>\n",
              "      <td>0</td>\n",
              "      <td>0</td>\n",
              "      <td>0</td>\n",
              "      <td>0</td>\n",
              "      <td>0</td>\n",
              "      <td>0</td>\n",
              "      <td>0</td>\n",
              "      <td>0</td>\n",
              "      <td>0</td>\n",
              "      <td>0</td>\n",
              "      <td>0</td>\n",
              "      <td>0</td>\n",
              "      <td>0</td>\n",
              "      <td>0</td>\n",
              "      <td>0</td>\n",
              "      <td>0</td>\n",
              "      <td>0</td>\n",
              "      <td>0</td>\n",
              "      <td>0</td>\n",
              "      <td>0</td>\n",
              "      <td>0</td>\n",
              "      <td>0</td>\n",
              "      <td>0</td>\n",
              "      <td>0</td>\n",
              "      <td>0</td>\n",
              "      <td>0</td>\n",
              "    </tr>\n",
              "    <tr>\n",
              "      <th>1</th>\n",
              "      <td>1993</td>\n",
              "      <td>1</td>\n",
              "      <td>I Will Always Love You</td>\n",
              "      <td>/wiki/I_Will_Always_Love_You#Whitney_Houston_v...</td>\n",
              "      <td>I Will Always Love You</td>\n",
              "      <td>Whitney Houston</td>\n",
              "      <td>/wiki/Whitney_Houston</td>\n",
              "      <td>None</td>\n",
              "      <td>[/wiki/Contemporary_R%26B_music, /wiki/Pop_mus...</td>\n",
              "      <td>1963-08-09</td>\n",
              "      <td>0</td>\n",
              "      <td>0</td>\n",
              "      <td>0</td>\n",
              "      <td>0</td>\n",
              "      <td>0</td>\n",
              "      <td>0</td>\n",
              "      <td>0</td>\n",
              "      <td>0</td>\n",
              "      <td>0</td>\n",
              "      <td>0</td>\n",
              "      <td>0</td>\n",
              "      <td>0</td>\n",
              "      <td>0</td>\n",
              "      <td>0</td>\n",
              "      <td>0</td>\n",
              "      <td>0</td>\n",
              "      <td>0</td>\n",
              "      <td>0</td>\n",
              "      <td>0</td>\n",
              "      <td>0</td>\n",
              "      <td>0</td>\n",
              "      <td>0</td>\n",
              "      <td>0</td>\n",
              "      <td>0</td>\n",
              "      <td>0</td>\n",
              "      <td>0</td>\n",
              "      <td>0</td>\n",
              "      <td>0</td>\n",
              "      <td>0</td>\n",
              "      <td>0</td>\n",
              "      <td>...</td>\n",
              "      <td>0</td>\n",
              "      <td>0</td>\n",
              "      <td>0</td>\n",
              "      <td>0</td>\n",
              "      <td>0</td>\n",
              "      <td>0</td>\n",
              "      <td>0</td>\n",
              "      <td>0</td>\n",
              "      <td>0</td>\n",
              "      <td>0</td>\n",
              "      <td>0</td>\n",
              "      <td>0</td>\n",
              "      <td>0</td>\n",
              "      <td>0</td>\n",
              "      <td>0</td>\n",
              "      <td>0</td>\n",
              "      <td>0</td>\n",
              "      <td>0</td>\n",
              "      <td>0</td>\n",
              "      <td>0</td>\n",
              "      <td>0</td>\n",
              "      <td>0</td>\n",
              "      <td>0</td>\n",
              "      <td>0</td>\n",
              "      <td>0</td>\n",
              "      <td>0</td>\n",
              "      <td>0</td>\n",
              "      <td>0</td>\n",
              "      <td>0</td>\n",
              "      <td>0</td>\n",
              "      <td>0</td>\n",
              "      <td>0</td>\n",
              "      <td>0</td>\n",
              "      <td>0</td>\n",
              "      <td>0</td>\n",
              "      <td>0</td>\n",
              "      <td>0</td>\n",
              "      <td>0</td>\n",
              "      <td>0</td>\n",
              "      <td>0</td>\n",
              "    </tr>\n",
              "    <tr>\n",
              "      <th>2</th>\n",
              "      <td>1994</td>\n",
              "      <td>1</td>\n",
              "      <td>The Sign (song)</td>\n",
              "      <td>/wiki/The_Sign_(song)</td>\n",
              "      <td>The Sign</td>\n",
              "      <td>Ace of Base</td>\n",
              "      <td>/wiki/Ace_of_Base</td>\n",
              "      <td>1990–present</td>\n",
              "      <td>[/wiki/Dance-pop, /wiki/Eurodance, /wiki/Europop]</td>\n",
              "      <td>None</td>\n",
              "      <td>0</td>\n",
              "      <td>0</td>\n",
              "      <td>0</td>\n",
              "      <td>0</td>\n",
              "      <td>0</td>\n",
              "      <td>0</td>\n",
              "      <td>0</td>\n",
              "      <td>0</td>\n",
              "      <td>0</td>\n",
              "      <td>0</td>\n",
              "      <td>0</td>\n",
              "      <td>0</td>\n",
              "      <td>0</td>\n",
              "      <td>0</td>\n",
              "      <td>0</td>\n",
              "      <td>0</td>\n",
              "      <td>0</td>\n",
              "      <td>0</td>\n",
              "      <td>0</td>\n",
              "      <td>0</td>\n",
              "      <td>0</td>\n",
              "      <td>0</td>\n",
              "      <td>0</td>\n",
              "      <td>0</td>\n",
              "      <td>0</td>\n",
              "      <td>0</td>\n",
              "      <td>0</td>\n",
              "      <td>0</td>\n",
              "      <td>0</td>\n",
              "      <td>0</td>\n",
              "      <td>...</td>\n",
              "      <td>0</td>\n",
              "      <td>0</td>\n",
              "      <td>0</td>\n",
              "      <td>0</td>\n",
              "      <td>0</td>\n",
              "      <td>0</td>\n",
              "      <td>0</td>\n",
              "      <td>0</td>\n",
              "      <td>0</td>\n",
              "      <td>0</td>\n",
              "      <td>0</td>\n",
              "      <td>0</td>\n",
              "      <td>0</td>\n",
              "      <td>0</td>\n",
              "      <td>0</td>\n",
              "      <td>0</td>\n",
              "      <td>0</td>\n",
              "      <td>0</td>\n",
              "      <td>0</td>\n",
              "      <td>0</td>\n",
              "      <td>0</td>\n",
              "      <td>0</td>\n",
              "      <td>0</td>\n",
              "      <td>0</td>\n",
              "      <td>0</td>\n",
              "      <td>0</td>\n",
              "      <td>0</td>\n",
              "      <td>0</td>\n",
              "      <td>0</td>\n",
              "      <td>0</td>\n",
              "      <td>0</td>\n",
              "      <td>0</td>\n",
              "      <td>0</td>\n",
              "      <td>0</td>\n",
              "      <td>0</td>\n",
              "      <td>0</td>\n",
              "      <td>0</td>\n",
              "      <td>0</td>\n",
              "      <td>0</td>\n",
              "      <td>0</td>\n",
              "    </tr>\n",
              "    <tr>\n",
              "      <th>3</th>\n",
              "      <td>1995</td>\n",
              "      <td>1</td>\n",
              "      <td>Gangsta's Paradise</td>\n",
              "      <td>/wiki/Gangsta%27s_Paradise</td>\n",
              "      <td>Gangsta's Paradise</td>\n",
              "      <td>Coolio</td>\n",
              "      <td>/wiki/Coolio</td>\n",
              "      <td>1987–present[1]</td>\n",
              "      <td>[/wiki/Hip_hop, /wiki/Funk_music, /wiki/Pop_mu...</td>\n",
              "      <td>1963-08-01</td>\n",
              "      <td>0</td>\n",
              "      <td>0</td>\n",
              "      <td>0</td>\n",
              "      <td>0</td>\n",
              "      <td>0</td>\n",
              "      <td>0</td>\n",
              "      <td>0</td>\n",
              "      <td>0</td>\n",
              "      <td>0</td>\n",
              "      <td>0</td>\n",
              "      <td>0</td>\n",
              "      <td>0</td>\n",
              "      <td>0</td>\n",
              "      <td>0</td>\n",
              "      <td>0</td>\n",
              "      <td>0</td>\n",
              "      <td>0</td>\n",
              "      <td>0</td>\n",
              "      <td>0</td>\n",
              "      <td>0</td>\n",
              "      <td>0</td>\n",
              "      <td>0</td>\n",
              "      <td>0</td>\n",
              "      <td>0</td>\n",
              "      <td>0</td>\n",
              "      <td>0</td>\n",
              "      <td>0</td>\n",
              "      <td>0</td>\n",
              "      <td>0</td>\n",
              "      <td>0</td>\n",
              "      <td>...</td>\n",
              "      <td>0</td>\n",
              "      <td>0</td>\n",
              "      <td>0</td>\n",
              "      <td>0</td>\n",
              "      <td>0</td>\n",
              "      <td>0</td>\n",
              "      <td>0</td>\n",
              "      <td>0</td>\n",
              "      <td>0</td>\n",
              "      <td>0</td>\n",
              "      <td>0</td>\n",
              "      <td>0</td>\n",
              "      <td>0</td>\n",
              "      <td>0</td>\n",
              "      <td>0</td>\n",
              "      <td>0</td>\n",
              "      <td>0</td>\n",
              "      <td>0</td>\n",
              "      <td>0</td>\n",
              "      <td>0</td>\n",
              "      <td>0</td>\n",
              "      <td>0</td>\n",
              "      <td>0</td>\n",
              "      <td>0</td>\n",
              "      <td>0</td>\n",
              "      <td>0</td>\n",
              "      <td>0</td>\n",
              "      <td>0</td>\n",
              "      <td>0</td>\n",
              "      <td>0</td>\n",
              "      <td>0</td>\n",
              "      <td>0</td>\n",
              "      <td>0</td>\n",
              "      <td>0</td>\n",
              "      <td>0</td>\n",
              "      <td>1</td>\n",
              "      <td>0</td>\n",
              "      <td>0</td>\n",
              "      <td>0</td>\n",
              "      <td>0</td>\n",
              "    </tr>\n",
              "    <tr>\n",
              "      <th>4</th>\n",
              "      <td>1995</td>\n",
              "      <td>1</td>\n",
              "      <td>Gangsta's Paradise</td>\n",
              "      <td>/wiki/Gangsta%27s_Paradise</td>\n",
              "      <td>Gangsta's Paradise</td>\n",
              "      <td>L.V. (singer)</td>\n",
              "      <td>/wiki/L.V._(singer)</td>\n",
              "      <td>1991–present</td>\n",
              "      <td>[/wiki/West_coast_hip_hop, /wiki/Gospel_music,...</td>\n",
              "      <td>1957-11-21</td>\n",
              "      <td>0</td>\n",
              "      <td>0</td>\n",
              "      <td>0</td>\n",
              "      <td>0</td>\n",
              "      <td>0</td>\n",
              "      <td>0</td>\n",
              "      <td>0</td>\n",
              "      <td>0</td>\n",
              "      <td>0</td>\n",
              "      <td>0</td>\n",
              "      <td>0</td>\n",
              "      <td>0</td>\n",
              "      <td>0</td>\n",
              "      <td>0</td>\n",
              "      <td>0</td>\n",
              "      <td>0</td>\n",
              "      <td>0</td>\n",
              "      <td>0</td>\n",
              "      <td>0</td>\n",
              "      <td>0</td>\n",
              "      <td>0</td>\n",
              "      <td>0</td>\n",
              "      <td>0</td>\n",
              "      <td>0</td>\n",
              "      <td>0</td>\n",
              "      <td>0</td>\n",
              "      <td>0</td>\n",
              "      <td>0</td>\n",
              "      <td>0</td>\n",
              "      <td>0</td>\n",
              "      <td>...</td>\n",
              "      <td>0</td>\n",
              "      <td>0</td>\n",
              "      <td>0</td>\n",
              "      <td>0</td>\n",
              "      <td>0</td>\n",
              "      <td>0</td>\n",
              "      <td>0</td>\n",
              "      <td>0</td>\n",
              "      <td>0</td>\n",
              "      <td>0</td>\n",
              "      <td>0</td>\n",
              "      <td>0</td>\n",
              "      <td>0</td>\n",
              "      <td>0</td>\n",
              "      <td>0</td>\n",
              "      <td>0</td>\n",
              "      <td>0</td>\n",
              "      <td>0</td>\n",
              "      <td>0</td>\n",
              "      <td>0</td>\n",
              "      <td>0</td>\n",
              "      <td>0</td>\n",
              "      <td>0</td>\n",
              "      <td>0</td>\n",
              "      <td>0</td>\n",
              "      <td>0</td>\n",
              "      <td>0</td>\n",
              "      <td>0</td>\n",
              "      <td>0</td>\n",
              "      <td>0</td>\n",
              "      <td>0</td>\n",
              "      <td>0</td>\n",
              "      <td>0</td>\n",
              "      <td>0</td>\n",
              "      <td>0</td>\n",
              "      <td>1</td>\n",
              "      <td>0</td>\n",
              "      <td>0</td>\n",
              "      <td>0</td>\n",
              "      <td>0</td>\n",
              "    </tr>\n",
              "  </tbody>\n",
              "</table>\n",
              "<p>5 rows × 320 columns</p>\n",
              "</div>"
            ],
            "text/plain": [
              "   year ranking  ... /wiki/Worldbeat /wiki/Worship_music\n",
              "0  1992       1  ...               0                   0\n",
              "1  1993       1  ...               0                   0\n",
              "2  1994       1  ...               0                   0\n",
              "3  1995       1  ...               0                   0\n",
              "4  1995       1  ...               0                   0\n",
              "\n",
              "[5 rows x 320 columns]"
            ]
          },
          "metadata": {
            "tags": []
          },
          "execution_count": 6
        }
      ]
    },
    {
      "cell_type": "markdown",
      "metadata": {
        "id": "OTAqUUSFTOlg"
      },
      "source": [
        "Ensure the data types of the dataframe is correct"
      ]
    },
    {
      "cell_type": "code",
      "metadata": {
        "id": "BUFfkyyKusfS",
        "colab": {
          "base_uri": "https://localhost:8080/"
        },
        "outputId": "98e34001-4978-441c-e0c5-c6311ef0ff40"
      },
      "source": [
        "#your code here\n",
        "largedf['born'] = largedf['born'].apply(lambda x: pd.to_datetime(x,format=\"%Y-%m-%d\",errors='coerce'))\n",
        "largedf = largedf.astype({'year':'int64','ranking':'int64','genres':'str'})\n",
        "largedf.dtypes[:12]\n"
      ],
      "execution_count": null,
      "outputs": [
        {
          "output_type": "execute_result",
          "data": {
            "text/plain": [
              "year                        int64\n",
              "ranking                     int64\n",
              "song                       object\n",
              "songurl                    object\n",
              "titletext                  object\n",
              "band_singer                object\n",
              "url                        object\n",
              "ya                         object\n",
              "genres                     object\n",
              "born               datetime64[ns]\n",
              "/wiki/Acid_jazz             int64\n",
              "/wiki/Acid_rock             int64\n",
              "dtype: object"
            ]
          },
          "metadata": {
            "tags": []
          },
          "execution_count": 7
        }
      ]
    },
    {
      "cell_type": "code",
      "metadata": {
        "id": "9M9HSYg_W-1G"
      },
      "source": [
        "#Store the dataframe to use in HW-2 \n",
        "largedf.to_pickle('/content/largedf_final')\n",
        "del largedf"
      ],
      "execution_count": null,
      "outputs": []
    },
    {
      "cell_type": "code",
      "metadata": {
        "id": "VzDU-GJ-BjtJ",
        "colab": {
          "base_uri": "https://localhost:8080/",
          "height": 423
        },
        "outputId": "eb6bdd55-754b-4e78-95fc-475264f076bd"
      },
      "source": [
        "#Loading in dataframe\n",
        "largedf = pd.read_pickle('/content/largedf_final')\n",
        "largedf.head()"
      ],
      "execution_count": null,
      "outputs": [
        {
          "output_type": "execute_result",
          "data": {
            "text/html": [
              "<div>\n",
              "<style scoped>\n",
              "    .dataframe tbody tr th:only-of-type {\n",
              "        vertical-align: middle;\n",
              "    }\n",
              "\n",
              "    .dataframe tbody tr th {\n",
              "        vertical-align: top;\n",
              "    }\n",
              "\n",
              "    .dataframe thead th {\n",
              "        text-align: right;\n",
              "    }\n",
              "</style>\n",
              "<table border=\"1\" class=\"dataframe\">\n",
              "  <thead>\n",
              "    <tr style=\"text-align: right;\">\n",
              "      <th></th>\n",
              "      <th>year</th>\n",
              "      <th>ranking</th>\n",
              "      <th>song</th>\n",
              "      <th>songurl</th>\n",
              "      <th>titletext</th>\n",
              "      <th>band_singer</th>\n",
              "      <th>url</th>\n",
              "      <th>ya</th>\n",
              "      <th>genres</th>\n",
              "      <th>born</th>\n",
              "      <th>/wiki/Acid_jazz</th>\n",
              "      <th>/wiki/Acid_rock</th>\n",
              "      <th>/wiki/Acoustic_music</th>\n",
              "      <th>/wiki/Acoustic_rock</th>\n",
              "      <th>/wiki/Adult_contemporary</th>\n",
              "      <th>/wiki/Afrobeats</th>\n",
              "      <th>/wiki/Alternative_R%26B</th>\n",
              "      <th>/wiki/Alternative_Rock</th>\n",
              "      <th>/wiki/Alternative_country</th>\n",
              "      <th>/wiki/Alternative_dance</th>\n",
              "      <th>/wiki/Alternative_folk</th>\n",
              "      <th>/wiki/Alternative_hip_hop</th>\n",
              "      <th>/wiki/Alternative_metal</th>\n",
              "      <th>/wiki/Alternative_music</th>\n",
              "      <th>/wiki/Alternative_pop</th>\n",
              "      <th>/wiki/Ambient_music</th>\n",
              "      <th>/wiki/Americana_(music)</th>\n",
              "      <th>/wiki/Anarcho-punk</th>\n",
              "      <th>/wiki/Anti-folk</th>\n",
              "      <th>/wiki/Arena_rock</th>\n",
              "      <th>/wiki/Art_pop</th>\n",
              "      <th>/wiki/Art_rock</th>\n",
              "      <th>/wiki/Avant-funk</th>\n",
              "      <th>/wiki/Avant-garde_music</th>\n",
              "      <th>/wiki/Avant-pop</th>\n",
              "      <th>/wiki/Bachata_(music)</th>\n",
              "      <th>/wiki/Baroque_pop</th>\n",
              "      <th>/wiki/Bass_music</th>\n",
              "      <th>/wiki/Bedroom_pop</th>\n",
              "      <th>/wiki/Bhangra_(music)</th>\n",
              "      <th>...</th>\n",
              "      <th>/wiki/Soundcloud_rap</th>\n",
              "      <th>/wiki/Southern_hip_hop</th>\n",
              "      <th>/wiki/Southern_rap</th>\n",
              "      <th>/wiki/Southern_rock</th>\n",
              "      <th>/wiki/Southern_soul</th>\n",
              "      <th>/wiki/Space_rock</th>\n",
              "      <th>/wiki/Speed_metal</th>\n",
              "      <th>/wiki/Surf_music</th>\n",
              "      <th>/wiki/Surreal_humor</th>\n",
              "      <th>/wiki/Synth-pop</th>\n",
              "      <th>/wiki/Synth-rock</th>\n",
              "      <th>/wiki/Synthpop</th>\n",
              "      <th>/wiki/Synthwave_(2000s_genre)</th>\n",
              "      <th>/wiki/Tech_house</th>\n",
              "      <th>/wiki/Techno</th>\n",
              "      <th>/wiki/Teen_pop</th>\n",
              "      <th>/wiki/Thrash_metal</th>\n",
              "      <th>/wiki/Traditional_pop_music</th>\n",
              "      <th>/wiki/Trance_music</th>\n",
              "      <th>/wiki/Trap_music</th>\n",
              "      <th>/wiki/Trap_music_(EDM)</th>\n",
              "      <th>/wiki/Trap_music_(hip_hop)</th>\n",
              "      <th>/wiki/Trip_hop</th>\n",
              "      <th>/wiki/Trop_rock</th>\n",
              "      <th>/wiki/Tropical_house</th>\n",
              "      <th>/wiki/Tropical_music</th>\n",
              "      <th>/wiki/UK_bass</th>\n",
              "      <th>/wiki/UK_funky</th>\n",
              "      <th>/wiki/UK_garage</th>\n",
              "      <th>/wiki/Underground_hip_hop</th>\n",
              "      <th>/wiki/Urban_adult_contemporary</th>\n",
              "      <th>/wiki/Urban_contemporary</th>\n",
              "      <th>/wiki/Urban_contemporary_gospel</th>\n",
              "      <th>/wiki/Urban_pop</th>\n",
              "      <th>/wiki/Urbano_music</th>\n",
              "      <th>/wiki/West_coast_hip_hop</th>\n",
              "      <th>/wiki/Western_swing</th>\n",
              "      <th>/wiki/World_music</th>\n",
              "      <th>/wiki/Worldbeat</th>\n",
              "      <th>/wiki/Worship_music</th>\n",
              "    </tr>\n",
              "  </thead>\n",
              "  <tbody>\n",
              "    <tr>\n",
              "      <th>0</th>\n",
              "      <td>1992</td>\n",
              "      <td>1</td>\n",
              "      <td>End of the Road (Boyz II Men song)</td>\n",
              "      <td>/wiki/End_of_the_Road_(Boyz_II_Men_song)</td>\n",
              "      <td>End of the Road</td>\n",
              "      <td>Boyz II Men</td>\n",
              "      <td>/wiki/Boyz_II_Men</td>\n",
              "      <td>1987–present[1]</td>\n",
              "      <td>['/wiki/Contemporary_R%26B_music', '/wiki/New_...</td>\n",
              "      <td>NaT</td>\n",
              "      <td>0</td>\n",
              "      <td>0</td>\n",
              "      <td>0</td>\n",
              "      <td>0</td>\n",
              "      <td>0</td>\n",
              "      <td>0</td>\n",
              "      <td>0</td>\n",
              "      <td>0</td>\n",
              "      <td>0</td>\n",
              "      <td>0</td>\n",
              "      <td>0</td>\n",
              "      <td>0</td>\n",
              "      <td>0</td>\n",
              "      <td>0</td>\n",
              "      <td>0</td>\n",
              "      <td>0</td>\n",
              "      <td>0</td>\n",
              "      <td>0</td>\n",
              "      <td>0</td>\n",
              "      <td>0</td>\n",
              "      <td>0</td>\n",
              "      <td>0</td>\n",
              "      <td>0</td>\n",
              "      <td>0</td>\n",
              "      <td>0</td>\n",
              "      <td>0</td>\n",
              "      <td>0</td>\n",
              "      <td>0</td>\n",
              "      <td>0</td>\n",
              "      <td>0</td>\n",
              "      <td>...</td>\n",
              "      <td>0</td>\n",
              "      <td>0</td>\n",
              "      <td>0</td>\n",
              "      <td>0</td>\n",
              "      <td>0</td>\n",
              "      <td>0</td>\n",
              "      <td>0</td>\n",
              "      <td>0</td>\n",
              "      <td>0</td>\n",
              "      <td>0</td>\n",
              "      <td>0</td>\n",
              "      <td>0</td>\n",
              "      <td>0</td>\n",
              "      <td>0</td>\n",
              "      <td>0</td>\n",
              "      <td>0</td>\n",
              "      <td>0</td>\n",
              "      <td>0</td>\n",
              "      <td>0</td>\n",
              "      <td>0</td>\n",
              "      <td>0</td>\n",
              "      <td>0</td>\n",
              "      <td>0</td>\n",
              "      <td>0</td>\n",
              "      <td>0</td>\n",
              "      <td>0</td>\n",
              "      <td>0</td>\n",
              "      <td>0</td>\n",
              "      <td>0</td>\n",
              "      <td>0</td>\n",
              "      <td>0</td>\n",
              "      <td>0</td>\n",
              "      <td>0</td>\n",
              "      <td>0</td>\n",
              "      <td>0</td>\n",
              "      <td>0</td>\n",
              "      <td>0</td>\n",
              "      <td>0</td>\n",
              "      <td>0</td>\n",
              "      <td>0</td>\n",
              "    </tr>\n",
              "    <tr>\n",
              "      <th>1</th>\n",
              "      <td>1993</td>\n",
              "      <td>1</td>\n",
              "      <td>I Will Always Love You</td>\n",
              "      <td>/wiki/I_Will_Always_Love_You#Whitney_Houston_v...</td>\n",
              "      <td>I Will Always Love You</td>\n",
              "      <td>Whitney Houston</td>\n",
              "      <td>/wiki/Whitney_Houston</td>\n",
              "      <td>None</td>\n",
              "      <td>['/wiki/Contemporary_R%26B_music', '/wiki/Pop_...</td>\n",
              "      <td>1963-08-09</td>\n",
              "      <td>0</td>\n",
              "      <td>0</td>\n",
              "      <td>0</td>\n",
              "      <td>0</td>\n",
              "      <td>0</td>\n",
              "      <td>0</td>\n",
              "      <td>0</td>\n",
              "      <td>0</td>\n",
              "      <td>0</td>\n",
              "      <td>0</td>\n",
              "      <td>0</td>\n",
              "      <td>0</td>\n",
              "      <td>0</td>\n",
              "      <td>0</td>\n",
              "      <td>0</td>\n",
              "      <td>0</td>\n",
              "      <td>0</td>\n",
              "      <td>0</td>\n",
              "      <td>0</td>\n",
              "      <td>0</td>\n",
              "      <td>0</td>\n",
              "      <td>0</td>\n",
              "      <td>0</td>\n",
              "      <td>0</td>\n",
              "      <td>0</td>\n",
              "      <td>0</td>\n",
              "      <td>0</td>\n",
              "      <td>0</td>\n",
              "      <td>0</td>\n",
              "      <td>0</td>\n",
              "      <td>...</td>\n",
              "      <td>0</td>\n",
              "      <td>0</td>\n",
              "      <td>0</td>\n",
              "      <td>0</td>\n",
              "      <td>0</td>\n",
              "      <td>0</td>\n",
              "      <td>0</td>\n",
              "      <td>0</td>\n",
              "      <td>0</td>\n",
              "      <td>0</td>\n",
              "      <td>0</td>\n",
              "      <td>0</td>\n",
              "      <td>0</td>\n",
              "      <td>0</td>\n",
              "      <td>0</td>\n",
              "      <td>0</td>\n",
              "      <td>0</td>\n",
              "      <td>0</td>\n",
              "      <td>0</td>\n",
              "      <td>0</td>\n",
              "      <td>0</td>\n",
              "      <td>0</td>\n",
              "      <td>0</td>\n",
              "      <td>0</td>\n",
              "      <td>0</td>\n",
              "      <td>0</td>\n",
              "      <td>0</td>\n",
              "      <td>0</td>\n",
              "      <td>0</td>\n",
              "      <td>0</td>\n",
              "      <td>0</td>\n",
              "      <td>0</td>\n",
              "      <td>0</td>\n",
              "      <td>0</td>\n",
              "      <td>0</td>\n",
              "      <td>0</td>\n",
              "      <td>0</td>\n",
              "      <td>0</td>\n",
              "      <td>0</td>\n",
              "      <td>0</td>\n",
              "    </tr>\n",
              "    <tr>\n",
              "      <th>2</th>\n",
              "      <td>1994</td>\n",
              "      <td>1</td>\n",
              "      <td>The Sign (song)</td>\n",
              "      <td>/wiki/The_Sign_(song)</td>\n",
              "      <td>The Sign</td>\n",
              "      <td>Ace of Base</td>\n",
              "      <td>/wiki/Ace_of_Base</td>\n",
              "      <td>1990–present</td>\n",
              "      <td>['/wiki/Dance-pop', '/wiki/Eurodance', '/wiki/...</td>\n",
              "      <td>NaT</td>\n",
              "      <td>0</td>\n",
              "      <td>0</td>\n",
              "      <td>0</td>\n",
              "      <td>0</td>\n",
              "      <td>0</td>\n",
              "      <td>0</td>\n",
              "      <td>0</td>\n",
              "      <td>0</td>\n",
              "      <td>0</td>\n",
              "      <td>0</td>\n",
              "      <td>0</td>\n",
              "      <td>0</td>\n",
              "      <td>0</td>\n",
              "      <td>0</td>\n",
              "      <td>0</td>\n",
              "      <td>0</td>\n",
              "      <td>0</td>\n",
              "      <td>0</td>\n",
              "      <td>0</td>\n",
              "      <td>0</td>\n",
              "      <td>0</td>\n",
              "      <td>0</td>\n",
              "      <td>0</td>\n",
              "      <td>0</td>\n",
              "      <td>0</td>\n",
              "      <td>0</td>\n",
              "      <td>0</td>\n",
              "      <td>0</td>\n",
              "      <td>0</td>\n",
              "      <td>0</td>\n",
              "      <td>...</td>\n",
              "      <td>0</td>\n",
              "      <td>0</td>\n",
              "      <td>0</td>\n",
              "      <td>0</td>\n",
              "      <td>0</td>\n",
              "      <td>0</td>\n",
              "      <td>0</td>\n",
              "      <td>0</td>\n",
              "      <td>0</td>\n",
              "      <td>0</td>\n",
              "      <td>0</td>\n",
              "      <td>0</td>\n",
              "      <td>0</td>\n",
              "      <td>0</td>\n",
              "      <td>0</td>\n",
              "      <td>0</td>\n",
              "      <td>0</td>\n",
              "      <td>0</td>\n",
              "      <td>0</td>\n",
              "      <td>0</td>\n",
              "      <td>0</td>\n",
              "      <td>0</td>\n",
              "      <td>0</td>\n",
              "      <td>0</td>\n",
              "      <td>0</td>\n",
              "      <td>0</td>\n",
              "      <td>0</td>\n",
              "      <td>0</td>\n",
              "      <td>0</td>\n",
              "      <td>0</td>\n",
              "      <td>0</td>\n",
              "      <td>0</td>\n",
              "      <td>0</td>\n",
              "      <td>0</td>\n",
              "      <td>0</td>\n",
              "      <td>0</td>\n",
              "      <td>0</td>\n",
              "      <td>0</td>\n",
              "      <td>0</td>\n",
              "      <td>0</td>\n",
              "    </tr>\n",
              "    <tr>\n",
              "      <th>3</th>\n",
              "      <td>1995</td>\n",
              "      <td>1</td>\n",
              "      <td>Gangsta's Paradise</td>\n",
              "      <td>/wiki/Gangsta%27s_Paradise</td>\n",
              "      <td>Gangsta's Paradise</td>\n",
              "      <td>Coolio</td>\n",
              "      <td>/wiki/Coolio</td>\n",
              "      <td>1987–present[1]</td>\n",
              "      <td>['/wiki/Hip_hop', '/wiki/Funk_music', '/wiki/P...</td>\n",
              "      <td>1963-08-01</td>\n",
              "      <td>0</td>\n",
              "      <td>0</td>\n",
              "      <td>0</td>\n",
              "      <td>0</td>\n",
              "      <td>0</td>\n",
              "      <td>0</td>\n",
              "      <td>0</td>\n",
              "      <td>0</td>\n",
              "      <td>0</td>\n",
              "      <td>0</td>\n",
              "      <td>0</td>\n",
              "      <td>0</td>\n",
              "      <td>0</td>\n",
              "      <td>0</td>\n",
              "      <td>0</td>\n",
              "      <td>0</td>\n",
              "      <td>0</td>\n",
              "      <td>0</td>\n",
              "      <td>0</td>\n",
              "      <td>0</td>\n",
              "      <td>0</td>\n",
              "      <td>0</td>\n",
              "      <td>0</td>\n",
              "      <td>0</td>\n",
              "      <td>0</td>\n",
              "      <td>0</td>\n",
              "      <td>0</td>\n",
              "      <td>0</td>\n",
              "      <td>0</td>\n",
              "      <td>0</td>\n",
              "      <td>...</td>\n",
              "      <td>0</td>\n",
              "      <td>0</td>\n",
              "      <td>0</td>\n",
              "      <td>0</td>\n",
              "      <td>0</td>\n",
              "      <td>0</td>\n",
              "      <td>0</td>\n",
              "      <td>0</td>\n",
              "      <td>0</td>\n",
              "      <td>0</td>\n",
              "      <td>0</td>\n",
              "      <td>0</td>\n",
              "      <td>0</td>\n",
              "      <td>0</td>\n",
              "      <td>0</td>\n",
              "      <td>0</td>\n",
              "      <td>0</td>\n",
              "      <td>0</td>\n",
              "      <td>0</td>\n",
              "      <td>0</td>\n",
              "      <td>0</td>\n",
              "      <td>0</td>\n",
              "      <td>0</td>\n",
              "      <td>0</td>\n",
              "      <td>0</td>\n",
              "      <td>0</td>\n",
              "      <td>0</td>\n",
              "      <td>0</td>\n",
              "      <td>0</td>\n",
              "      <td>0</td>\n",
              "      <td>0</td>\n",
              "      <td>0</td>\n",
              "      <td>0</td>\n",
              "      <td>0</td>\n",
              "      <td>0</td>\n",
              "      <td>1</td>\n",
              "      <td>0</td>\n",
              "      <td>0</td>\n",
              "      <td>0</td>\n",
              "      <td>0</td>\n",
              "    </tr>\n",
              "    <tr>\n",
              "      <th>4</th>\n",
              "      <td>1995</td>\n",
              "      <td>1</td>\n",
              "      <td>Gangsta's Paradise</td>\n",
              "      <td>/wiki/Gangsta%27s_Paradise</td>\n",
              "      <td>Gangsta's Paradise</td>\n",
              "      <td>L.V. (singer)</td>\n",
              "      <td>/wiki/L.V._(singer)</td>\n",
              "      <td>1991–present</td>\n",
              "      <td>['/wiki/West_coast_hip_hop', '/wiki/Gospel_mus...</td>\n",
              "      <td>1957-11-21</td>\n",
              "      <td>0</td>\n",
              "      <td>0</td>\n",
              "      <td>0</td>\n",
              "      <td>0</td>\n",
              "      <td>0</td>\n",
              "      <td>0</td>\n",
              "      <td>0</td>\n",
              "      <td>0</td>\n",
              "      <td>0</td>\n",
              "      <td>0</td>\n",
              "      <td>0</td>\n",
              "      <td>0</td>\n",
              "      <td>0</td>\n",
              "      <td>0</td>\n",
              "      <td>0</td>\n",
              "      <td>0</td>\n",
              "      <td>0</td>\n",
              "      <td>0</td>\n",
              "      <td>0</td>\n",
              "      <td>0</td>\n",
              "      <td>0</td>\n",
              "      <td>0</td>\n",
              "      <td>0</td>\n",
              "      <td>0</td>\n",
              "      <td>0</td>\n",
              "      <td>0</td>\n",
              "      <td>0</td>\n",
              "      <td>0</td>\n",
              "      <td>0</td>\n",
              "      <td>0</td>\n",
              "      <td>...</td>\n",
              "      <td>0</td>\n",
              "      <td>0</td>\n",
              "      <td>0</td>\n",
              "      <td>0</td>\n",
              "      <td>0</td>\n",
              "      <td>0</td>\n",
              "      <td>0</td>\n",
              "      <td>0</td>\n",
              "      <td>0</td>\n",
              "      <td>0</td>\n",
              "      <td>0</td>\n",
              "      <td>0</td>\n",
              "      <td>0</td>\n",
              "      <td>0</td>\n",
              "      <td>0</td>\n",
              "      <td>0</td>\n",
              "      <td>0</td>\n",
              "      <td>0</td>\n",
              "      <td>0</td>\n",
              "      <td>0</td>\n",
              "      <td>0</td>\n",
              "      <td>0</td>\n",
              "      <td>0</td>\n",
              "      <td>0</td>\n",
              "      <td>0</td>\n",
              "      <td>0</td>\n",
              "      <td>0</td>\n",
              "      <td>0</td>\n",
              "      <td>0</td>\n",
              "      <td>0</td>\n",
              "      <td>0</td>\n",
              "      <td>0</td>\n",
              "      <td>0</td>\n",
              "      <td>0</td>\n",
              "      <td>0</td>\n",
              "      <td>1</td>\n",
              "      <td>0</td>\n",
              "      <td>0</td>\n",
              "      <td>0</td>\n",
              "      <td>0</td>\n",
              "    </tr>\n",
              "  </tbody>\n",
              "</table>\n",
              "<p>5 rows × 320 columns</p>\n",
              "</div>"
            ],
            "text/plain": [
              "   year  ranking  ... /wiki/Worldbeat /wiki/Worship_music\n",
              "0  1992        1  ...               0                   0\n",
              "1  1993        1  ...               0                   0\n",
              "2  1994        1  ...               0                   0\n",
              "3  1995        1  ...               0                   0\n",
              "4  1995        1  ...               0                   0\n",
              "\n",
              "[5 rows x 320 columns]"
            ]
          },
          "metadata": {
            "tags": []
          },
          "execution_count": 11
        }
      ]
    },
    {
      "cell_type": "markdown",
      "metadata": {
        "id": "v7mvhskZlm-W"
      },
      "source": [
        "## Q5: Pandas and Relational databases\n",
        "#### [20 points]"
      ]
    },
    {
      "cell_type": "markdown",
      "metadata": {
        "id": "EBJ95eXwlm-i"
      },
      "source": [
        "### 5.1 Populating the database"
      ]
    },
    {
      "cell_type": "markdown",
      "metadata": {
        "id": "VTdi6of6lm-n"
      },
      "source": [
        "We use sqlite3 here. There is an even higher level API available, called SQLAlchemy.  However SQLite is built into Python and also has a command line tool and sqlite browser that you can install. "
      ]
    },
    {
      "cell_type": "code",
      "metadata": {
        "id": "jA6D06EwFiqF"
      },
      "source": [
        "import sqlite3 as sql"
      ],
      "execution_count": null,
      "outputs": []
    },
    {
      "cell_type": "markdown",
      "metadata": {
        "id": "KMIIU4Q8FmkE"
      },
      "source": [
        "Let us start by creating our schema to set the type of each column in our dataframe."
      ]
    },
    {
      "cell_type": "code",
      "metadata": {
        "id": "kq78YP7HdFR2"
      },
      "source": [
        "columns = largedf.columns\n",
        "for column in columns:\n",
        "  if column == 'song' or column == 'songurl' or column == 'titletext' or column == 'band_singer' or column == 'url' or column == 'ya' or column == 'genres':\n",
        "    print('\\t\"' + column +'\"' + \" VARCHAR,\")\n",
        "  elif column == 'born':\n",
        "    print('\\t\"' + column +'\"' + \" DATETIME,\")\n",
        "  else:\n",
        "    print('\\t\"' + column +'\"' + \" INTEGER,\")"
      ],
      "execution_count": null,
      "outputs": []
    },
    {
      "cell_type": "code",
      "metadata": {
        "id": "EaU9NgFxKdL3",
        "cellView": "code"
      },
      "source": [
        "#@title Default title text\n",
        "#your code here \n",
        "ourschema=\"\"\"\n",
        "DROP TABLE IF EXISTS \"billboardtop\";\n",
        "CREATE TABLE \"billboardtop\" (\n",
        "\t\"year\" INTEGER,\n",
        "\t\"ranking\" INTEGER,\n",
        "\t\"song\" VARCHAR,\n",
        "\t\"songurl\" VARCHAR,\n",
        "\t\"titletext\" VARCHAR,\n",
        "\t\"band_singer\" VARCHAR,\n",
        "\t\"url\" VARCHAR,\n",
        "\t\"ya\" VARCHAR,\n",
        "\t\"genres\" VARCHAR,\n",
        "\t\"born\" DATETIME,\n",
        "\t\"/wiki/Acid_jazz\" INTEGER,\n",
        "\t\"/wiki/Acid_rock\" INTEGER,\n",
        "\t\"/wiki/Acoustic_music\" INTEGER,\n",
        "\t\"/wiki/Acoustic_rock\" INTEGER,\n",
        "\t\"/wiki/Adult_contemporary\" INTEGER,\n",
        "\t\"/wiki/Afrobeats\" INTEGER,\n",
        "\t\"/wiki/Alternative_R%26B\" INTEGER,\n",
        "\t\"/wiki/Alternative_Rock\" INTEGER,\n",
        "\t\"/wiki/Alternative_country\" INTEGER,\n",
        "\t\"/wiki/Alternative_dance\" INTEGER,\n",
        "\t\"/wiki/Alternative_folk\" INTEGER,\n",
        "\t\"/wiki/Alternative_hip_hop\" INTEGER,\n",
        "\t\"/wiki/Alternative_metal\" INTEGER,\n",
        "\t\"/wiki/Alternative_music\" INTEGER,\n",
        "\t\"/wiki/Alternative_pop\" INTEGER,\n",
        "\t\"/wiki/Ambient_music\" INTEGER,\n",
        "\t\"/wiki/Americana_(music)\" INTEGER,\n",
        "\t\"/wiki/Anarcho-punk\" INTEGER,\n",
        "\t\"/wiki/Anti-folk\" INTEGER,\n",
        "\t\"/wiki/Arena_rock\" INTEGER,\n",
        "\t\"/wiki/Art_pop\" INTEGER,\n",
        "\t\"/wiki/Art_rock\" INTEGER,\n",
        "\t\"/wiki/Avant-funk\" INTEGER,\n",
        "\t\"/wiki/Avant-garde_music\" INTEGER,\n",
        "\t\"/wiki/Avant-pop\" INTEGER,\n",
        "\t\"/wiki/Bachata_(music)\" INTEGER,\n",
        "\t\"/wiki/Baroque_pop\" INTEGER,\n",
        "\t\"/wiki/Bass_music\" INTEGER,\n",
        "\t\"/wiki/Bedroom_pop\" INTEGER,\n",
        "\t\"/wiki/Bhangra_(music)\" INTEGER,\n",
        "\t\"/wiki/Big_room_house\" INTEGER,\n",
        "\t\"/wiki/Black_comedy\" INTEGER,\n",
        "\t\"/wiki/Blue-eyed_soul\" INTEGER,\n",
        "\t\"/wiki/Blue_comedy\" INTEGER,\n",
        "\t\"/wiki/Bluegrass_music\" INTEGER,\n",
        "\t\"/wiki/Blues_music\" INTEGER,\n",
        "\t\"/wiki/Blues_rock\" INTEGER,\n",
        "\t\"/wiki/Breakbeat\" INTEGER,\n",
        "\t\"/wiki/British_hip_hop\" INTEGER,\n",
        "\t\"/wiki/British_soul\" INTEGER,\n",
        "\t\"/wiki/Britpop\" INTEGER,\n",
        "\t\"/wiki/Bro_country\" INTEGER,\n",
        "\t\"/wiki/Broadway_theatre\" INTEGER,\n",
        "\t\"/wiki/Brostep\" INTEGER,\n",
        "\t\"/wiki/Bubblegum_pop\" INTEGER,\n",
        "\t\"/wiki/CEDM\" INTEGER,\n",
        "\t\"/wiki/Cajun\" INTEGER,\n",
        "\t\"/wiki/Calypso_music\" INTEGER,\n",
        "\t\"/wiki/Celtic_music\" INTEGER,\n",
        "\t\"/wiki/Celtic_rock\" INTEGER,\n",
        "\t\"/wiki/Chamber_pop\" INTEGER,\n",
        "\t\"/wiki/Chanson\" INTEGER,\n",
        "\t\"/wiki/Chicano_rap\" INTEGER,\n",
        "\t\"/wiki/Chicano_rock\" INTEGER,\n",
        "\t\"/wiki/Children%27s_music\" INTEGER,\n",
        "\t\"/wiki/Chopper_(rap)\" INTEGER,\n",
        "\t\"/wiki/Christian_rock\" INTEGER,\n",
        "\t\"/wiki/Classical_crossover\" INTEGER,\n",
        "\t\"/wiki/Classical_music\" INTEGER,\n",
        "\t\"/wiki/Cloud_rap\" INTEGER,\n",
        "\t\"/wiki/College_rock\" INTEGER,\n",
        "\t\"/wiki/Comedy_hip_hop\" INTEGER,\n",
        "\t\"/wiki/Comedy_music\" INTEGER,\n",
        "\t\"/wiki/Comedy_rock\" INTEGER,\n",
        "\t\"/wiki/Contemporary_Christian_music\" INTEGER,\n",
        "\t\"/wiki/Contemporary_R%26B_music\" INTEGER,\n",
        "\t\"/wiki/Contemporary_folk_music\" INTEGER,\n",
        "\t\"/wiki/Contemporary_rhythm_and_blues\" INTEGER,\n",
        "\t\"/wiki/Country_folk\" INTEGER,\n",
        "\t\"/wiki/Country_music\" INTEGER,\n",
        "\t\"/wiki/Country_pop\" INTEGER,\n",
        "\t\"/wiki/Country_rap\" INTEGER,\n",
        "\t\"/wiki/Country_rock\" INTEGER,\n",
        "\t\"/wiki/Crunk\" INTEGER,\n",
        "\t\"/wiki/Crunkcore\" INTEGER,\n",
        "\t\"/wiki/Dance-pop\" INTEGER,\n",
        "\t\"/wiki/Dance-punk\" INTEGER,\n",
        "\t\"/wiki/Dance-rock\" INTEGER,\n",
        "\t\"/wiki/Dance_music\" INTEGER,\n",
        "\t\"/wiki/Dancehall\" INTEGER,\n",
        "\t\"/wiki/Darkness_in_music\" INTEGER,\n",
        "\t\"/wiki/Deep_house\" INTEGER,\n",
        "\t\"/wiki/Dirty_rap\" INTEGER,\n",
        "\t\"/wiki/Disco\" INTEGER,\n",
        "\t\"/wiki/Disco-punk\" INTEGER,\n",
        "\t\"/wiki/Doo-wop\" INTEGER,\n",
        "\t\"/wiki/Downtempo\" INTEGER,\n",
        "\t\"/wiki/Dream_pop\" INTEGER,\n",
        "\t\"/wiki/Dream_trance\" INTEGER,\n",
        "\t\"/wiki/Drill_music\" INTEGER,\n",
        "\t\"/wiki/Drum_and_bass\" INTEGER,\n",
        "\t\"/wiki/Dub_music\" INTEGER,\n",
        "\t\"/wiki/Dubstep\" INTEGER,\n",
        "\t\"/wiki/Dutch_house\" INTEGER,\n",
        "\t\"/wiki/East_coast_hip_hop\" INTEGER,\n",
        "\t\"/wiki/Easy_listening\" INTEGER,\n",
        "\t\"/wiki/Electro-funk\" INTEGER,\n",
        "\t\"/wiki/Electro-pop\" INTEGER,\n",
        "\t\"/wiki/Electro_hop\" INTEGER,\n",
        "\t\"/wiki/Electro_house\" INTEGER,\n",
        "\t\"/wiki/Electro_music\" INTEGER,\n",
        "\t\"/wiki/Electronic_dance_music\" INTEGER,\n",
        "\t\"/wiki/Electronic_music\" INTEGER,\n",
        "\t\"/wiki/Electronic_rock\" INTEGER,\n",
        "\t\"/wiki/Electronica_music\" INTEGER,\n",
        "\t\"/wiki/Emo_music\" INTEGER,\n",
        "\t\"/wiki/Emo_pop\" INTEGER,\n",
        "\t\"/wiki/Emo_rap\" INTEGER,\n",
        "\t\"/wiki/Eurodance\" INTEGER,\n",
        "\t\"/wiki/Europop\" INTEGER,\n",
        "\t\"/wiki/Experimental_music\" INTEGER,\n",
        "\t\"/wiki/Experimental_pop\" INTEGER,\n",
        "\t\"/wiki/Experimental_rock\" INTEGER,\n",
        "\t\"/wiki/Film_scores\" INTEGER,\n",
        "\t\"/wiki/Flamenco\" INTEGER,\n",
        "\t\"/wiki/Folk_music\" INTEGER,\n",
        "\t\"/wiki/Folk_pop\" INTEGER,\n",
        "\t\"/wiki/Folk_rock\" INTEGER,\n",
        "\t\"/wiki/Folktronica\" INTEGER,\n",
        "\t\"/wiki/Freestyle_music\" INTEGER,\n",
        "\t\"/wiki/Funk_metal\" INTEGER,\n",
        "\t\"/wiki/Funk_music\" INTEGER,\n",
        "\t\"/wiki/Funk_rock\" INTEGER,\n",
        "\t\"/wiki/Future_bass\" INTEGER,\n",
        "\t\"/wiki/Future_garage\" INTEGER,\n",
        "\t\"/wiki/Future_house\" INTEGER,\n",
        "\t\"/wiki/Futurepop\" INTEGER,\n",
        "\t\"/wiki/G-funk\" INTEGER,\n",
        "\t\"/wiki/Gangsta_rap\" INTEGER,\n",
        "\t\"/wiki/Garage_rock\" INTEGER,\n",
        "\t\"/wiki/Geek_rock\" INTEGER,\n",
        "\t\"/wiki/Ghettotech\" INTEGER,\n",
        "\t\"/wiki/Glam_metal\" INTEGER,\n",
        "\t\"/wiki/Glam_rock\" INTEGER,\n",
        "\t\"/wiki/Go-go\" INTEGER,\n",
        "\t\"/wiki/Golden_age_hip_hop\" INTEGER,\n",
        "\t\"/wiki/Gospel_music\" INTEGER,\n",
        "\t\"/wiki/Gothic_rock\" INTEGER,\n",
        "\t\"/wiki/Grime_music\" INTEGER,\n",
        "\t\"/wiki/Grunge\" INTEGER,\n",
        "\t\"/wiki/Gulf_and_western_music\" INTEGER,\n",
        "\t\"/wiki/Hard_rock\" INTEGER,\n",
        "\t\"/wiki/Hardcore_hip_hop\" INTEGER,\n",
        "\t\"/wiki/Hardstyle\" INTEGER,\n",
        "\t\"/wiki/Heartland_rock\" INTEGER,\n",
        "\t\"/wiki/Heavy_metal_music\" INTEGER,\n",
        "\t\"/wiki/Hi-NRG\" INTEGER,\n",
        "\t\"/wiki/Hip_hop\" INTEGER,\n",
        "\t\"/wiki/Hip_hop_soul\" INTEGER,\n",
        "\t\"/wiki/Hip_house\" INTEGER,\n",
        "\t\"/wiki/Honky-tonk#music\" INTEGER,\n",
        "\t\"/wiki/Horrorcore\" INTEGER,\n",
        "\t\"/wiki/House_music\" INTEGER,\n",
        "\t\"/wiki/Hyphy_music\" INTEGER,\n",
        "\t\"/wiki/Indie_folk\" INTEGER,\n",
        "\t\"/wiki/Indie_pop\" INTEGER,\n",
        "\t\"/wiki/Indie_rock\" INTEGER,\n",
        "\t\"/wiki/Indietronica\" INTEGER,\n",
        "\t\"/wiki/Industrial_music\" INTEGER,\n",
        "\t\"/wiki/Industrial_rock\" INTEGER,\n",
        "\t\"/wiki/Inspirational_music\" INTEGER,\n",
        "\t\"/wiki/Irish_folk\" INTEGER,\n",
        "\t\"/wiki/Italo_dance\" INTEGER,\n",
        "\t\"/wiki/Italo_house\" INTEGER,\n",
        "\t\"/wiki/Jam_band\" INTEGER,\n",
        "\t\"/wiki/Jam_rock\" INTEGER,\n",
        "\t\"/wiki/Jangle_pop\" INTEGER,\n",
        "\t\"/wiki/Jazz\" INTEGER,\n",
        "\t\"/wiki/Jazz-pop\" INTEGER,\n",
        "\t\"/wiki/Jazz-rock\" INTEGER,\n",
        "\t\"/wiki/Jazz_fusion\" INTEGER,\n",
        "\t\"/wiki/Jazz_rap\" INTEGER,\n",
        "\t\"/wiki/K-pop\" INTEGER,\n",
        "\t\"/wiki/Korean_hip_hop\" INTEGER,\n",
        "\t\"/wiki/Kwaito\" INTEGER,\n",
        "\t\"/wiki/Latin_ballad\" INTEGER,\n",
        "\t\"/wiki/Latin_dance\" INTEGER,\n",
        "\t\"/wiki/Latin_hip_hop\" INTEGER,\n",
        "\t\"/wiki/Latin_house\" INTEGER,\n",
        "\t\"/wiki/Latin_music_(genre)\" INTEGER,\n",
        "\t\"/wiki/Latin_pop\" INTEGER,\n",
        "\t\"/wiki/Latin_rock\" INTEGER,\n",
        "\t\"/wiki/Latin_trap\" INTEGER,\n",
        "\t\"/wiki/Latino_rap\" INTEGER,\n",
        "\t\"/wiki/Lo-fi_hip_hop\" INTEGER,\n",
        "\t\"/wiki/Lo-fi_music\" INTEGER,\n",
        "\t\"/wiki/Lovers_rock\" INTEGER,\n",
        "\t\"/wiki/Mainstream\" INTEGER,\n",
        "\t\"/wiki/Mambo_(music)\" INTEGER,\n",
        "\t\"/wiki/Memphis_rap\" INTEGER,\n",
        "\t\"/wiki/Miami_bass\" INTEGER,\n",
        "\t\"/wiki/Midwest_hip_hop\" INTEGER,\n",
        "\t\"/wiki/Minimal_house\" INTEGER,\n",
        "\t\"/wiki/Minneapolis_sound\" INTEGER,\n",
        "\t\"/wiki/Moombahton\" INTEGER,\n",
        "\t\"/wiki/Mumble_rap\" INTEGER,\n",
        "\t\"/wiki/Music_of_Spain\" INTEGER,\n",
        "\t\"/wiki/Musical_theatre\" INTEGER,\n",
        "\t\"/wiki/Nederpop\" INTEGER,\n",
        "\t\"/wiki/Neo-psychedelia\" INTEGER,\n",
        "\t\"/wiki/Neo_soul\" INTEGER,\n",
        "\t\"/wiki/Neotraditional_country\" INTEGER,\n",
        "\t\"/wiki/Neotraditionalist_country\" INTEGER,\n",
        "\t\"/wiki/New-age_music\" INTEGER,\n",
        "\t\"/wiki/New_beat\" INTEGER,\n",
        "\t\"/wiki/New_jack_swing\" INTEGER,\n",
        "\t\"/wiki/New_wave_music\" INTEGER,\n",
        "\t\"/wiki/Novelty_music\" INTEGER,\n",
        "\t\"/wiki/Nu-disco\" INTEGER,\n",
        "\t\"/wiki/Nu_metal_music\" INTEGER,\n",
        "\t\"/wiki/Observational_comedy\" INTEGER,\n",
        "\t\"/wiki/Old-school_hip_hop\" INTEGER,\n",
        "\t\"/wiki/Outlaw_country\" INTEGER,\n",
        "\t\"/wiki/Piano_music\" INTEGER,\n",
        "\t\"/wiki/Political_hip_hop\" INTEGER,\n",
        "\t\"/wiki/Pop-rap\" INTEGER,\n",
        "\t\"/wiki/Pop-soul\" INTEGER,\n",
        "\t\"/wiki/Pop_music\" INTEGER,\n",
        "\t\"/wiki/Pop_punk\" INTEGER,\n",
        "\t\"/wiki/Pop_rap\" INTEGER,\n",
        "\t\"/wiki/Pop_rock\" INTEGER,\n",
        "\t\"/wiki/Post-Britpop\" INTEGER,\n",
        "\t\"/wiki/Post-disco\" INTEGER,\n",
        "\t\"/wiki/Post-dubstep\" INTEGER,\n",
        "\t\"/wiki/Post-grunge\" INTEGER,\n",
        "\t\"/wiki/Post-hardcore\" INTEGER,\n",
        "\t\"/wiki/Post-punk\" INTEGER,\n",
        "\t\"/wiki/Post-punk_revival\" INTEGER,\n",
        "\t\"/wiki/Power_pop\" INTEGER,\n",
        "\t\"/wiki/Progressive_house\" INTEGER,\n",
        "\t\"/wiki/Progressive_pop\" INTEGER,\n",
        "\t\"/wiki/Progressive_rock\" INTEGER,\n",
        "\t\"/wiki/Progressive_soul\" INTEGER,\n",
        "\t\"/wiki/Psychedelic_funk\" INTEGER,\n",
        "\t\"/wiki/Psychedelic_music\" INTEGER,\n",
        "\t\"/wiki/Psychedelic_pop\" INTEGER,\n",
        "\t\"/wiki/Psychedelic_rock\" INTEGER,\n",
        "\t\"/wiki/Psychedelic_soul\" INTEGER,\n",
        "\t\"/wiki/Punk_rap\" INTEGER,\n",
        "\t\"/wiki/Punk_rock\" INTEGER,\n",
        "\t\"/wiki/R%26B\" INTEGER,\n",
        "\t\"/wiki/R%26B_music\" INTEGER,\n",
        "\t\"/wiki/Ra%C3%AF\" INTEGER,\n",
        "\t\"/wiki/Ragga\" INTEGER,\n",
        "\t\"/wiki/Rap_metal\" INTEGER,\n",
        "\t\"/wiki/Rap_rock\" INTEGER,\n",
        "\t\"/wiki/Rave_music\" INTEGER,\n",
        "\t\"/wiki/Reggae\" INTEGER,\n",
        "\t\"/wiki/Reggae_fusion\" INTEGER,\n",
        "\t\"/wiki/Reggae_rock\" INTEGER,\n",
        "\t\"/wiki/Reggaeton\" INTEGER,\n",
        "\t\"/wiki/Rhythm_and_blues\" INTEGER,\n",
        "\t\"/wiki/Rock_and_roll\" INTEGER,\n",
        "\t\"/wiki/Rock_music\" INTEGER,\n",
        "\t\"/wiki/Rocksteady\" INTEGER,\n",
        "\t\"/wiki/Roots_rock\" INTEGER,\n",
        "\t\"/wiki/Salsa_music\" INTEGER,\n",
        "\t\"/wiki/Satire\" INTEGER,\n",
        "\t\"/wiki/Scream_rap\" INTEGER,\n",
        "\t\"/wiki/Sevillanas\" INTEGER,\n",
        "\t\"/wiki/Ska_music\" INTEGER,\n",
        "\t\"/wiki/Ska_punk\" INTEGER,\n",
        "\t\"/wiki/Skate_punk\" INTEGER,\n",
        "\t\"/wiki/Sketch_comedy\" INTEGER,\n",
        "\t\"/wiki/Smooth_jazz\" INTEGER,\n",
        "\t\"/wiki/Snap_music\" INTEGER,\n",
        "\t\"/wiki/Soca_music\" INTEGER,\n",
        "\t\"/wiki/Soft_rock\" INTEGER,\n",
        "\t\"/wiki/Sophisti-pop\" INTEGER,\n",
        "\t\"/wiki/Soul_music\" INTEGER,\n",
        "\t\"/wiki/Soundcloud_rap\" INTEGER,\n",
        "\t\"/wiki/Southern_hip_hop\" INTEGER,\n",
        "\t\"/wiki/Southern_rap\" INTEGER,\n",
        "\t\"/wiki/Southern_rock\" INTEGER,\n",
        "\t\"/wiki/Southern_soul\" INTEGER,\n",
        "\t\"/wiki/Space_rock\" INTEGER,\n",
        "\t\"/wiki/Speed_metal\" INTEGER,\n",
        "\t\"/wiki/Surf_music\" INTEGER,\n",
        "\t\"/wiki/Surreal_humor\" INTEGER,\n",
        "\t\"/wiki/Synth-pop\" INTEGER,\n",
        "\t\"/wiki/Synth-rock\" INTEGER,\n",
        "\t\"/wiki/Synthpop\" INTEGER,\n",
        "\t\"/wiki/Synthwave_(2000s_genre)\" INTEGER,\n",
        "\t\"/wiki/Tech_house\" INTEGER,\n",
        "\t\"/wiki/Techno\" INTEGER,\n",
        "\t\"/wiki/Teen_pop\" INTEGER,\n",
        "\t\"/wiki/Thrash_metal\" INTEGER,\n",
        "\t\"/wiki/Traditional_pop_music\" INTEGER,\n",
        "\t\"/wiki/Trance_music\" INTEGER,\n",
        "\t\"/wiki/Trap_music\" INTEGER,\n",
        "\t\"/wiki/Trap_music_(EDM)\" INTEGER,\n",
        "\t\"/wiki/Trap_music_(hip_hop)\" INTEGER,\n",
        "\t\"/wiki/Trip_hop\" INTEGER,\n",
        "\t\"/wiki/Trop_rock\" INTEGER,\n",
        "\t\"/wiki/Tropical_house\" INTEGER,\n",
        "\t\"/wiki/Tropical_music\" INTEGER,\n",
        "\t\"/wiki/UK_bass\" INTEGER,\n",
        "\t\"/wiki/UK_funky\" INTEGER,\n",
        "\t\"/wiki/UK_garage\" INTEGER,\n",
        "\t\"/wiki/Underground_hip_hop\" INTEGER,\n",
        "\t\"/wiki/Urban_adult_contemporary\" INTEGER,\n",
        "\t\"/wiki/Urban_contemporary\" INTEGER,\n",
        "\t\"/wiki/Urban_contemporary_gospel\" INTEGER,\n",
        "\t\"/wiki/Urban_pop\" INTEGER,\n",
        "\t\"/wiki/Urbano_music\" INTEGER,\n",
        "\t\"/wiki/West_coast_hip_hop\" INTEGER,\n",
        "\t\"/wiki/Western_swing\" INTEGER,\n",
        "\t\"/wiki/World_music\" INTEGER,\n",
        "\t\"/wiki/Worldbeat\" INTEGER,\n",
        "\t\"/wiki/Worship_music\" INTEGER\n",
        ");\n",
        "\"\"\""
      ],
      "execution_count": null,
      "outputs": []
    },
    {
      "cell_type": "markdown",
      "metadata": {
        "id": "MNaaiKo4FKvi"
      },
      "source": [
        "Next, create a connection object which will connect us to the database and will let us execute the SQL statements. \n",
        "Create an object of the cursor using the connection object and execute our schema. \n",
        "Finally, use the `to_sql` function and convert our large expanded dataframe from the last section to a table."
      ]
    },
    {
      "cell_type": "code",
      "metadata": {
        "id": "qLOXLo2VHS52"
      },
      "source": [
        "#your code here\n",
        "conn = sql.connect('SingSongs1.db')\n",
        "conn.cursor().executescript(ourschema)\n",
        "conn.commit()\n",
        "largedf.to_sql('billboardtop',conn,if_exists=\"append\", index=False)"
      ],
      "execution_count": null,
      "outputs": []
    },
    {
      "cell_type": "code",
      "metadata": {
        "id": "RA6wnqXJsJTn"
      },
      "source": [
        "def make_query(sel):\n",
        "  cur = conn.cursor()\n",
        "  command = cur.execute(sel)\n",
        "  return(command.fetchall())\n"
      ],
      "execution_count": null,
      "outputs": []
    },
    {
      "cell_type": "markdown",
      "metadata": {
        "id": "lg-gMIZTlm_B"
      },
      "source": [
        "### 5.2 Performing operations on the database"
      ]
    },
    {
      "cell_type": "markdown",
      "metadata": {
        "id": "Ddf94jAUOjJf"
      },
      "source": [
        "Answer the following questions by writing SQL statements."
      ]
    },
    {
      "cell_type": "markdown",
      "metadata": {
        "id": "9ptRH0PRHq10"
      },
      "source": [
        "#### 5.2.1 Select all singers below the age of 20 whos Zodiac Sign is Scorpio! "
      ]
    },
    {
      "cell_type": "code",
      "metadata": {
        "id": "YyuqKAuAF5ZQ",
        "colab": {
          "base_uri": "https://localhost:8080/"
        },
        "outputId": "fd6f84c7-dc27-4748-cc59-58fdc8ce7801"
      },
      "source": [
        "#your code here\n",
        "\n",
        "make_query(\"select distinct band_singer from billboardtop where born > date('now','-20 years') and strftime('%m-%d', born) BETWEEN '10-22' AND '11-21';\")"
      ],
      "execution_count": null,
      "outputs": [
        {
          "output_type": "execute_result",
          "data": {
            "text/plain": [
              "[('NLE Choppa',), ('Jawsh 685',)]"
            ]
          },
          "metadata": {
            "tags": []
          },
          "execution_count": 16
        }
      ]
    },
    {
      "cell_type": "markdown",
      "metadata": {
        "id": "vkU3G3UDH6yn"
      },
      "source": [
        "#### 5.2.2 Find the most popular artists with most appearances in Billboard Top 10"
      ]
    },
    {
      "cell_type": "code",
      "metadata": {
        "id": "Dh74afqzGjXb",
        "colab": {
          "base_uri": "https://localhost:8080/"
        },
        "outputId": "9b4f3643-9831-47d7-e37e-088a942a5831"
      },
      "source": [
        "#your code here\n",
        "\n",
        "make_query(\"select band_singer,count(band_singer) FROM billboardtop where ranking < 11 group by band_singer order by count(*) desc limit 20;\")\n"
      ],
      "execution_count": null,
      "outputs": [
        {
          "output_type": "execute_result",
          "data": {
            "text/plain": [
              "[('Mariah Carey', 6),\n",
              " ('Maroon 5', 6),\n",
              " ('Post Malone', 6),\n",
              " ('Drake (musician)', 5),\n",
              " ('Katy Perry', 5),\n",
              " ('Toni Braxton', 5),\n",
              " ('Boyz II Men', 4),\n",
              " ('Bruno Mars', 4),\n",
              " ('Rihanna', 4),\n",
              " ('TLC (band)', 4),\n",
              " ('The Chainsmokers', 4),\n",
              " ('Ace of Base', 3),\n",
              " ('Alicia Keys', 3),\n",
              " ('Chris Brown', 3),\n",
              " ('Ed Sheeran', 3),\n",
              " ('Elton John', 3),\n",
              " ('Gwen Stefani', 3),\n",
              " ('Halsey (singer)', 3),\n",
              " ('Janet Jackson', 3),\n",
              " ('Justin Bieber', 3)]"
            ]
          },
          "metadata": {
            "tags": []
          },
          "execution_count": 17
        }
      ]
    },
    {
      "cell_type": "markdown",
      "metadata": {
        "id": "bhy0LnUiIIjE"
      },
      "source": [
        "#### 5.2.3 Select all songs with ranking less than 6 and order the rows by artist name"
      ]
    },
    {
      "cell_type": "code",
      "metadata": {
        "id": "_MolYEOfIHTZ",
        "colab": {
          "base_uri": "https://localhost:8080/"
        },
        "outputId": "c93f74a7-8387-4268-b9b2-c65fdfc57405"
      },
      "source": [
        "#your code here \n",
        "make_query(\"select song,band_singer from billboardtop where ranking < 6 order by band_singer\")\n",
        "\n"
      ],
      "execution_count": null,
      "outputs": [
        {
          "output_type": "execute_result",
          "data": {
            "text/plain": [
              "[(\"I'll Be Missing You\", '112 (band)'),\n",
              " ('Rockstar (Post Malone song)', '21 Savage'),\n",
              " (\"When I'm Gone (3 Doors Down song)\", '3 Doors Down'),\n",
              " ('In da Club', '50 Cent'),\n",
              " ('The Sign (song)', 'Ace of Base'),\n",
              " ('Rolling in the Deep', 'Adele'),\n",
              " ('Give Me Everything (Pitbull song)', 'Afrojack'),\n",
              " ('The Sweet Escape (song)', 'Akon'),\n",
              " (\"Fallin' (Alicia Keys song)\", 'Alicia Keys'),\n",
              " (\"If I Ain't Got You\", 'Alicia Keys'),\n",
              " ('No One (Alicia Keys song)', 'Alicia Keys'),\n",
              " ('I Swear', 'All-4-One'),\n",
              " ('Foolish (Ashanti song)', 'Ashanti (entertainer)'),\n",
              " ('Harlem Shake (song)', 'Baauer'),\n",
              " ('Meant to Be (Bebe Rexha song)', 'Bebe Rexha'),\n",
              " ('Irreplaceable', 'Beyoncé'),\n",
              " ('Crazy in Love', 'Beyoncé'),\n",
              " ('Bad Guy (Billie Eilish song)', 'Billie Eilish'),\n",
              " ('Old Town Road', 'Billy Ray Cyrus'),\n",
              " ('End of the Road (Boyz II Men song)', 'Boyz II Men'),\n",
              " ('One Sweet Day', 'Boyz II Men'),\n",
              " (\"I'll Make Love to You\", 'Boyz II Men'),\n",
              " ('On Bended Knee', 'Boyz II Men'),\n",
              " ('The Boy Is Mine (song)', 'Brandy Norwood'),\n",
              " ('...Baby One More Time (song)', 'Britney Spears'),\n",
              " ('Uptown Funk', 'Bruno Mars'),\n",
              " (\"That's What I Like (Bruno Mars song)\", 'Bruno Mars'),\n",
              " ('Havana (Camila Cabello song)', 'Camila Cabello'),\n",
              " ('Call Me Maybe', 'Carly Rae Jepsen'),\n",
              " ('Because You Loved Me', 'Celine Dion'),\n",
              " ('Fancy (Iggy Azalea song)', 'Charli XCX'),\n",
              " ('See You Again (Wiz Khalifa song)', 'Charlie Puth'),\n",
              " ('Believe (Cher song)', 'Cher'),\n",
              " ('1, 2 Step', 'Ciara'),\n",
              " ('Just Dance (song)', \"Colby O'Donis\"),\n",
              " ('Something Just Like This', 'Coldplay'),\n",
              " (\"Gangsta's Paradise\", 'Coolio'),\n",
              " ('The Power of Love (Jennifer Rush song)', 'Céline Dion'),\n",
              " ('Rockstar (DaBaby song)', 'DaBaby'),\n",
              " ('Despacito', 'Daddy Yankee'),\n",
              " ('Bad Day (Daniel Powter song)', 'Daniel Powter'),\n",
              " (\"God's Plan (song)\", 'Drake (musician)'),\n",
              " ('One Dance', 'Drake (musician)'),\n",
              " ('Work (Rihanna song)', 'Drake (musician)'),\n",
              " (\"Don't Start Now\", 'Dua Lipa'),\n",
              " ('Shape of You', 'Ed Sheeran'),\n",
              " ('Thinking Out Loud', 'Ed Sheeran'),\n",
              " ('Perfect (Ed Sheeran song)', 'Ed Sheeran'),\n",
              " ('Lights (Ellie Goulding song)', 'Ellie Goulding'),\n",
              " ('Something About the Way You Look Tonight', 'Elton John'),\n",
              " ('Candle in the Wind 1997', 'Elton John'),\n",
              " (\"I'll Be Missing You\", 'Faith Evans'),\n",
              " ('Heartbreak Hotel (Whitney Houston song)', 'Faith Evans'),\n",
              " ('Breathe (Faith Hill song)', 'Faith Hill'),\n",
              " (\"Big Girls Don't Cry (Fergie song)\", 'Fergie (singer)'),\n",
              " ('Trap Queen', 'Fetty Wap'),\n",
              " ('Low (Flo Rida song)', 'Flo Rida'),\n",
              " ('Meant to Be (Bebe Rexha song)', 'Florida Georgia Line'),\n",
              " ('We Are Young', 'Fun (band)'),\n",
              " ('Party Rock Anthem', 'GoonRock'),\n",
              " ('Somebody That I Used to Know', 'Gotye'),\n",
              " ('Hollaback Girl', 'Gwen Stefani'),\n",
              " ('The Sweet Escape (song)', 'Gwen Stefani'),\n",
              " ('Without Me (Halsey song)', 'Halsey (singer)'),\n",
              " ('Fancy (Iggy Azalea song)', 'Iggy Azalea'),\n",
              " ('Radioactive (Imagine Dragons song)', 'Imagine Dragons'),\n",
              " (\"I'm Real (Jennifer Lopez song)\", 'Ja Rule'),\n",
              " (\"You're Beautiful\", 'James Blunt'),\n",
              " ('We Are Young', 'Janelle Monáe'),\n",
              " ('All for You (Janet Jackson song)', 'Janet Jackson'),\n",
              " (\"That's the Way Love Goes (Janet Jackson song)\", 'Janet Jackson'),\n",
              " ('Umbrella (song)', 'Jay-Z'),\n",
              " ('Crazy in Love', 'Jay-Z'),\n",
              " (\"I'm Real (Jennifer Lopez song)\", 'Jennifer Lopez'),\n",
              " ('Foolish Games', 'Jewel (singer)'),\n",
              " ('You Were Meant for Me (Jewel song)', 'Jewel (singer)'),\n",
              " ('I Wanna Know (Joe song)', 'Joe (singer)'),\n",
              " ('All of Me (John Legend song)', 'John Legend'),\n",
              " ('Dark Horse (Katy Perry song)', 'Juicy J'),\n",
              " ('Love Yourself', 'Justin Bieber'),\n",
              " ('Sorry (Justin Bieber song)', 'Justin Bieber'),\n",
              " ('Despacito', 'Justin Bieber'),\n",
              " ('E.T. (song)', 'Kanye West'),\n",
              " ('Dark Horse (Katy Perry song)', 'Katy Perry'),\n",
              " ('Firework (song)', 'Katy Perry'),\n",
              " ('California Gurls', 'Katy Perry'),\n",
              " ('E.T. (song)', 'Katy Perry'),\n",
              " ('Since U Been Gone', 'Kelly Clarkson'),\n",
              " ('Heartbreak Hotel (Whitney Houston song)', 'Kelly Price'),\n",
              " ('Dilemma (song)', 'Kelly Rowland'),\n",
              " ('Humble (Kendrick Lamar song)', 'Kendrick Lamar'),\n",
              " ('Tik Tok (song)', 'Kesha'),\n",
              " ('Somebody That I Used to Know', 'Kimbra'),\n",
              " ('Jump (Kris Kross song)', 'Kris Kross'),\n",
              " ('One Dance', 'Kyla (British singer)'),\n",
              " (\"Gangsta's Paradise\", 'L.V. (singer)'),\n",
              " ('Party Rock Anthem', 'LMFAO'),\n",
              " ('Need You Now (Lady Antebellum song)', 'Lady Antebellum'),\n",
              " ('Poker Face (Lady Gaga song)', 'Lady Gaga'),\n",
              " ('Just Dance (song)', 'Lady Gaga'),\n",
              " ('Party Rock Anthem', 'Lauren Bennett'),\n",
              " ('How Do I Live', 'LeAnn Rimes'),\n",
              " ('Bleeding Love', 'Leona Lewis'),\n",
              " ('Hanging by a Moment', 'Lifehouse (band)'),\n",
              " ('Yeah! (Usher song)', 'Lil Jon'),\n",
              " ('Old Town Road', 'Lil Nas X'),\n",
              " ('Lollipop (Lil Wayne song)', 'Lil Wayne'),\n",
              " ('Macarena (song)', 'Los del Río'),\n",
              " ('Yeah! (Usher song)', 'Ludacris'),\n",
              " ('Despacito', 'Luis Fonsi'),\n",
              " ('Thrift Shop', 'Macklemore & Ryan Lewis'),\n",
              " (\"Can't Hold Us\", 'Macklemore & Ryan Lewis'),\n",
              " ('We Belong Together (Mariah Carey song)', 'Mariah Carey'),\n",
              " ('One Sweet Day', 'Mariah Carey'),\n",
              " ('Hero (Mariah Carey song)', 'Mariah Carey'),\n",
              " ('Always Be My Baby', 'Mariah Carey'),\n",
              " ('Let Me Love You (Mario song)', 'Mario (entertainer)'),\n",
              " ('Uptown Funk', 'Mark Ronson'),\n",
              " ('This Love (Maroon 5 song)', 'Maroon 5'),\n",
              " ('Payphone (song)', 'Maroon 5'),\n",
              " ('Sugar (Maroon 5 song)', 'Maroon 5'),\n",
              " (\"Can't Nobody Hold Me Down\", 'Mase'),\n",
              " ('1, 2 Step', 'Missy Elliott'),\n",
              " ('The Boy Is Mine (song)', 'Monica (entertainer)'),\n",
              " ('Angel of Mine', 'Monica (entertainer)'),\n",
              " ('Give Me Everything (Pitbull song)', 'Nayer'),\n",
              " ('Give Me Everything (Pitbull song)', 'Ne-Yo'),\n",
              " ('Hot in Herre', 'Nelly'),\n",
              " ('Dilemma (song)', 'Nelly'),\n",
              " ('Promiscuous (song)', 'Nelly Furtado'),\n",
              " ('Too Close (Next song)', 'Next (group)'),\n",
              " ('How You Remind Me', 'Nickelback'),\n",
              " ('Apologize (OneRepublic song)', 'OneRepublic'),\n",
              " ('Counting Stars', 'OneRepublic'),\n",
              " ('The Way You Move', 'OutKast'),\n",
              " ('Happy (Pharrell Williams song)', 'Pharrell Williams'),\n",
              " ('Blurred Lines', 'Pharrell Williams'),\n",
              " ('Give Me Everything (Pitbull song)', 'Pitbull (rapper)'),\n",
              " ('Sunflower (Post Malone and Swae Lee song)', 'Post Malone'),\n",
              " ('Circles (Post Malone song)', 'Post Malone'),\n",
              " ('Rockstar (Post Malone song)', 'Post Malone'),\n",
              " ('Wow (Post Malone song)', 'Post Malone'),\n",
              " ('Ignition (Remix)', 'R. Kelly'),\n",
              " (\"Can't Hold Us\", 'Ray Dalton'),\n",
              " ('Umbrella (song)', 'Rihanna'),\n",
              " ('Work (Rihanna song)', 'Rihanna'),\n",
              " ('Smooth (Santana song)', 'Rob Thomas (musician)'),\n",
              " ('Blurred Lines', 'Robin Thicke'),\n",
              " ('The Box (Roddy Ricch song)', 'Roddy Ricch'),\n",
              " ('Rockstar (DaBaby song)', 'Roddy Ricch'),\n",
              " ('Smooth (Santana song)', 'Santana (band)'),\n",
              " ('Maria Maria', 'Santana (band)'),\n",
              " ('Truly Madly Deeply (song)', 'Savage Garden'),\n",
              " ('Kiss from a Rose', 'Seal (musician)'),\n",
              " (\"I'll Be Missing You\", 'Sean Combs'),\n",
              " (\"Can't Nobody Hold Me Down\", 'Sean Combs'),\n",
              " ('Temperature (song)', 'Sean Paul'),\n",
              " ('Get Busy', 'Sean Paul'),\n",
              " (\"Hips Don't Lie\", 'Shakira'),\n",
              " (\"You're Still the One\", 'Shania Twain'),\n",
              " ('Freak Me', 'Silk (group)'),\n",
              " ('Baby Got Back', 'Sir Mix-a-Lot'),\n",
              " ('The Way You Move', 'Sleepy Brown'),\n",
              " ('California Gurls', 'Snoop Dogg'),\n",
              " ('Lollipop (Lil Wayne song)', 'Static Major'),\n",
              " ('Sunflower (Post Malone and Swae Lee song)', 'Swae Lee'),\n",
              " ('Low (Flo Rida song)', 'T-Pain'),\n",
              " (\"Buy U a Drank (Shawty Snappin')\", 'T-Pain'),\n",
              " ('Blurred Lines', 'T.I.'),\n",
              " ('Waterfalls (TLC song)', 'TLC (band)'),\n",
              " ('No Scrubs', 'TLC (band)'),\n",
              " ('Creep (TLC song)', 'TLC (band)'),\n",
              " ('Baby-Baby-Baby', 'TLC (band)'),\n",
              " ('Whoomp! (There It Is)', 'Tag Team (group)'),\n",
              " ('Love Story (Taylor Swift song)', 'Taylor Swift'),\n",
              " ('Boom Boom Pow', 'The Black Eyed Peas'),\n",
              " ('I Gotta Feeling', 'The Black Eyed Peas'),\n",
              " ('Wherever You Will Go', 'The Calling'),\n",
              " ('Something Just Like This', 'The Chainsmokers'),\n",
              " ('Maria Maria', 'The Product G&B'),\n",
              " ('Blinding Lights', 'The Weeknd'),\n",
              " ('Promiscuous (song)', 'Timbaland'),\n",
              " ('Apologize (OneRepublic song)', 'Timbaland'),\n",
              " ('Un-Break My Heart', 'Toni Braxton'),\n",
              " ('Nobody Knows (Tony Rich song)', 'Tony Rich'),\n",
              " ('Hey, Soul Sister', 'Train (band)'),\n",
              " ('Drops of Jupiter (Tell Me)', 'Train (band)'),\n",
              " ('Stressed Out', 'Twenty One Pilots'),\n",
              " (\"Can't Help Falling in Love\", 'UB40'),\n",
              " ('Yeah! (Usher song)', 'Usher (musician)'),\n",
              " ('Burn (Usher song)', 'Usher (musician)'),\n",
              " ('OMG (Usher song)', 'Usher (musician)'),\n",
              " ('Save the Best for Last', 'Vanessa L. Williams'),\n",
              " ('Everything You Want (Vertical Horizon song)', 'Vertical Horizon'),\n",
              " ('Thrift Shop', 'Wanz'),\n",
              " ('I Will Always Love You', 'Whitney Houston'),\n",
              " ('Heartbreak Hotel (Whitney Houston song)', 'Whitney Houston'),\n",
              " ('OMG (Usher song)', 'Will.i.am'),\n",
              " ('See You Again (Wiz Khalifa song)', 'Wiz Khalifa'),\n",
              " ('Payphone (song)', 'Wiz Khalifa'),\n",
              " ('One Dance', 'Wizkid (musician)'),\n",
              " (\"Hips Don't Lie\", 'Wyclef Jean'),\n",
              " ('Havana (Camila Cabello song)', 'Young Thug'),\n",
              " (\"Buy U a Drank (Shawty Snappin')\", 'Yung Joc')]"
            ]
          },
          "metadata": {
            "tags": []
          },
          "execution_count": 18
        }
      ]
    },
    {
      "cell_type": "code",
      "metadata": {
        "id": "LD8PC24kNbVI"
      },
      "source": [
        ""
      ],
      "execution_count": null,
      "outputs": []
    }
  ]
}