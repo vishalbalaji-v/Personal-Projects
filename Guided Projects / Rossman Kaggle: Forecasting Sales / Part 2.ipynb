{
  "nbformat": 4,
  "nbformat_minor": 0,
  "metadata": {
    "colab": {
      "name": "HW2_Part2_distribute.ipynb",
      "provenance": [],
      "collapsed_sections": [],
      "machine_shape": "hm",
      "include_colab_link": true
    },
    "kernelspec": {
      "name": "python3",
      "display_name": "Python 3"
    },
    "language_info": {
      "name": "python"
    },
    "accelerator": "GPU"
  },
  "cells": [
    {
      "cell_type": "markdown",
      "metadata": {
        "id": "view-in-github",
        "colab_type": "text"
      },
      "source": [
        "<a href=\"https://colab.research.google.com/github/vishalbalaji-v/Personal-Projects/blob/main/Guided%20Projects%20/%20Rossman%20Kaggle%3A%20Forecasting%20Sales%20/%20Part%202.ipynb\" target=\"_parent\"><img src=\"https://colab.research.google.com/assets/colab-badge.svg\" alt=\"Open In Colab\"/></a>"
      ]
    },
    {
      "cell_type": "markdown",
      "metadata": {
        "id": "EaA1H2AHyVWQ"
      },
      "source": [
        "# ML-2: Trees, Model Interrogation and Bayesian Workflow\n",
        "# Homework 2: Rossman Kaggle: Forecasting Sales\n",
        "# Part 2 : Modelling without embeddings!\n",
        "**ML-2 Cohort 1** <br>\n",
        "**Instructor: Dr. Rahul Dave**<br>\n",
        "**Max Score: 100** <br>"
      ]
    },
    {
      "cell_type": "code",
      "metadata": {
        "id": "6jBFtovs3nh1"
      },
      "source": [
        "#importing libraries\n",
        "import numpy as np\n",
        "import scipy.stats\n",
        "import scipy.special\n",
        "import matplotlib\n",
        "import matplotlib.pyplot as plt\n",
        "import matplotlib.mlab as mlab\n",
        "from matplotlib import cm\n",
        "import pandas as pd\n",
        "from sklearn.pipeline import make_pipeline, make_union, Pipeline\n",
        "from sklearn.preprocessing import StandardScaler, OrdinalEncoder, MultiLabelBinarizer\n",
        "from sklearn.model_selection import train_test_split\n",
        "from sklearn.metrics import mean_squared_error\n",
        "from sklearn.ensemble import GradientBoostingRegressor\n",
        "from sklearn.model_selection import ParameterGrid\n",
        "from keras.models import Sequential\n",
        "from keras.models import Model as KerasModel\n",
        "from keras.layers import Input, Dense, Activation, Reshape\n",
        "from keras.layers import Concatenate\n",
        "from keras.layers.embeddings import Embedding\n",
        "from sklearn.ensemble import RandomForestRegressor\n",
        "from sklearn import linear_model\n",
        "import pickle\n",
        "import csv\n",
        "from datetime import datetime\n",
        "from sklearn import preprocessing\n",
        "from keras.callbacks import ModelCheckpoint\n",
        "import xgboost as xgb\n",
        "from sklearn.preprocessing import OneHotEncoder\n",
        "%matplotlib inline"
      ],
      "execution_count": null,
      "outputs": []
    },
    {
      "cell_type": "markdown",
      "metadata": {
        "id": "N2sEs45v7Rr2"
      },
      "source": [
        "## Part 2: Modelling without Entity Embeddings"
      ]
    },
    {
      "cell_type": "markdown",
      "metadata": {
        "id": "Uk7vU2zkGSXG"
      },
      "source": [
        "Remember the parameters we need to use\n",
        "\n",
        "![Parameters.jpeg](https://drive.google.com/uc?export=view&id=1ROfqM3F5hWwJyrvQr_J1ATovNIW5niOs)"
      ]
    },
    {
      "cell_type": "markdown",
      "metadata": {
        "id": "h5Hi8ehR7WFX"
      },
      "source": [
        "Lets import the feature_train_data.pickle file and set X,y values from the pickle file"
      ]
    },
    {
      "cell_type": "code",
      "metadata": {
        "id": "_VvJiir3Rpq6",
        "colab": {
          "base_uri": "https://localhost:8080/"
        },
        "outputId": "04866661-6ed3-44af-a2a2-d19155aa7fd6"
      },
      "source": [
        "from google.colab import drive\n",
        "drive.mount('/content/drive')"
      ],
      "execution_count": null,
      "outputs": [
        {
          "output_type": "stream",
          "text": [
            "Mounted at /content/drive\n"
          ],
          "name": "stdout"
        }
      ]
    },
    {
      "cell_type": "code",
      "metadata": {
        "id": "arl_aj6X7VQk"
      },
      "source": [
        "f = open('/content/drive/MyDrive/Colab files/Homework 2 - ML2/feature_train_data.pickle','rb')\n",
        "(X, y) = pickle.load(f)"
      ],
      "execution_count": null,
      "outputs": []
    },
    {
      "cell_type": "code",
      "metadata": {
        "id": "cwMxtFTUDRFN"
      },
      "source": [
        "# we will split the train_ratio and 90% and 10% and set the train_size\n",
        "train_ratio = 0.9\n",
        "num_records = len(X)\n",
        "train_size = int(train_ratio * num_records)"
      ],
      "execution_count": null,
      "outputs": []
    },
    {
      "cell_type": "code",
      "metadata": {
        "id": "XpP1Emg2Dni0",
        "colab": {
          "base_uri": "https://localhost:8080/"
        },
        "outputId": "3e7c5a43-c889-4f18-f974-7f4e25cb559c"
      },
      "source": [
        "#lets look at our data\n",
        "X[1], y[1]"
      ],
      "execution_count": null,
      "outputs": [
        {
          "output_type": "execute_result",
          "data": {
            "text/plain": [
              "(array([   0,    0,    0, 1058,    1,    0,    0,    1]), 4491)"
            ]
          },
          "metadata": {
            "tags": []
          },
          "execution_count": 5
        }
      ]
    },
    {
      "cell_type": "markdown",
      "metadata": {
        "id": "X2fhYw49Dz3w"
      },
      "source": [
        "The next set of inputs is following:\n",
        "\n",
        "1. Do you want to one hot encode the data?\n",
        "2. Do you want to provide embeddings as input - this will be set to True for models with entity embeddings\n",
        "3. Do you want to save the emmbeddings? - again set to true if you want to entity embeddings\n",
        "4. if 3 is set to true, we want to save them to a embeddings.pickle\n"
      ]
    },
    {
      "cell_type": "code",
      "metadata": {
        "id": "Tqtv6VWWDuZu"
      },
      "source": [
        "one_hot_as_input = True #one_hot is set to True\n",
        "embeddings_as_input = False #embeddings later on needs to set to true for Part 3\n",
        "save_embeddings = False\n",
        "saved_embeddings_fname = \"embeddings.pickle\"  # set save_embeddings to True to create this file"
      ],
      "execution_count": null,
      "outputs": []
    },
    {
      "cell_type": "markdown",
      "metadata": {
        "id": "BPSoah0_F9Ed"
      },
      "source": [
        "Define a function to one hot encode the training set and after split transform your training set using the function"
      ]
    },
    {
      "cell_type": "code",
      "metadata": {
        "id": "KS03CrxWjcNN"
      },
      "source": [
        "def OneHot(train_lists, test_lists):\n",
        "    #your code here\n",
        "    Hot = OneHotEncoder()\n",
        "    Hot.fit(train_lists)\n",
        "    return(Hot.transform(train_lists),Hot.transform(test_lists))\n"
      ],
      "execution_count": null,
      "outputs": []
    },
    {
      "cell_type": "markdown",
      "metadata": {
        "id": "PCk7tyVQEdy6"
      },
      "source": [
        "Split the data into X_train, X_val, y_train, y_val based on the train_size"
      ]
    },
    {
      "cell_type": "code",
      "metadata": {
        "id": "hLTrTSGPEaGw",
        "colab": {
          "base_uri": "https://localhost:8080/"
        },
        "outputId": "d75889f4-f184-4a92-fbab-443a8af3aa75"
      },
      "source": [
        "#your code here\n",
        "X_train, X_val, y_train, y_val = train_test_split(X,y, train_size=train_ratio, random_state = 42)\n",
        "print(X_train.shape, X_val.shape, y_train.shape, y_val.shape)"
      ],
      "execution_count": null,
      "outputs": [
        {
          "output_type": "stream",
          "text": [
            "(759904, 8) (84434, 8) (759904,) (84434,)\n"
          ],
          "name": "stdout"
        }
      ]
    },
    {
      "cell_type": "code",
      "metadata": {
        "id": "qD8-KuUV3ov4",
        "colab": {
          "base_uri": "https://localhost:8080/"
        },
        "outputId": "b6c82f31-5772-4ddc-a992-e01d193b4b69"
      },
      "source": [
        "if one_hot_as_input == True:\n",
        "  X_train,X_val = OneHot(X_train,X_val)\n",
        "  print(X_train.shape, X_val.shape)"
      ],
      "execution_count": null,
      "outputs": [
        {
          "output_type": "stream",
          "text": [
            "(759904, 1183) (84434, 1183)\n"
          ],
          "name": "stdout"
        }
      ]
    },
    {
      "cell_type": "code",
      "metadata": {
        "id": "v1LAqW3hORsB"
      },
      "source": [
        "y_train = np.log(y_train)\n",
        "y_val = np.log(y_val)"
      ],
      "execution_count": null,
      "outputs": []
    },
    {
      "cell_type": "code",
      "metadata": {
        "id": "52MJTqO-Onkc",
        "colab": {
          "base_uri": "https://localhost:8080/",
          "height": 366
        },
        "outputId": "24f911f8-6431-4c07-b9ed-b0bf41726511"
      },
      "source": [
        "plt.hist(y_train)"
      ],
      "execution_count": null,
      "outputs": [
        {
          "output_type": "execute_result",
          "data": {
            "text/plain": [
              "(array([1.00000e+00, 2.00000e+00, 3.00000e+00, 3.90000e+01, 1.04800e+03,\n",
              "        1.89780e+04, 2.37120e+05, 4.23119e+05, 7.70120e+04, 2.58200e+03]),\n",
              " array([ 3.8286414 ,  4.50924494,  5.18984849,  5.87045204,  6.55105558,\n",
              "         7.23165913,  7.91226268,  8.59286623,  9.27346977,  9.95407332,\n",
              "        10.63467687]),\n",
              " <a list of 10 Patch objects>)"
            ]
          },
          "metadata": {
            "tags": []
          },
          "execution_count": 14
        },
        {
          "output_type": "display_data",
          "data": {
            "image/png": "[encoded data removed]",
            "text/plain": [
              "<Figure size 432x288 with 1 Axes>"
            ]
          },
          "metadata": {
            "tags": [],
            "needs_background": "light"
          }
        }
      ]
    },
    {
      "cell_type": "markdown",
      "metadata": {
        "id": "m1-ykazxEhLC"
      },
      "source": [
        "Lets also sample the data\n",
        "\n",
        "**Why do we do this??**\n",
        "\n",
        "your answer here"
      ]
    },
    {
      "cell_type": "code",
      "metadata": {
        "id": "StnmulRkEnRt"
      },
      "source": [
        "def sample(X, y, n):\n",
        "    '''random samples'''\n",
        "    num_row = X.shape[0]\n",
        "    indices = np.random.randint(num_row, size=n)\n",
        "    return X[indices, :], y[indices]"
      ],
      "execution_count": null,
      "outputs": []
    },
    {
      "cell_type": "code",
      "metadata": {
        "id": "ednNv14aEpjS",
        "colab": {
          "base_uri": "https://localhost:8080/"
        },
        "outputId": "556ecaee-af60-47da-f34e-d50325fd2be4"
      },
      "source": [
        "X_train, y_train = sample(X_train, y_train, 200000)  # Simulate data sparsity\n",
        "print(\"Number of samples used for training: \" + str(y_train.shape[0]))"
      ],
      "execution_count": null,
      "outputs": [
        {
          "output_type": "stream",
          "text": [
            "Number of samples used for training: 200000\n"
          ],
          "name": "stdout"
        }
      ]
    },
    {
      "cell_type": "markdown",
      "metadata": {
        "id": "4ayLSo_1E0yF"
      },
      "source": [
        "## Now lets work with Models without embedding!!"
      ]
    },
    {
      "cell_type": "markdown",
      "metadata": {
        "id": "KT5efxrLE7Cd"
      },
      "source": [
        "**Lets define MAPE first**"
      ]
    },
    {
      "cell_type": "code",
      "metadata": {
        "id": "ZRpKGtOLE6TV"
      },
      "source": [
        "#defining mape\n",
        "def MAPE(Y_actual,Y_Predicted):\n",
        "    #your code here\n",
        "    error = []\n",
        "    for i in range(len(Y_actual)):\n",
        "      error.append(abs((Y_actual[i] - Y_Predicted[i])/Y_actual[i]))\n",
        "    return(np.mean(error))"
      ],
      "execution_count": null,
      "outputs": []
    },
    {
      "cell_type": "markdown",
      "metadata": {
        "id": "P1c33g9Kjlcr"
      },
      "source": [
        "**We will be log-transforming the dependent variable(y) because it is long-tailed** - keep this in mind for each model or do the conversion after you split the data itself"
      ]
    },
    {
      "cell_type": "markdown",
      "metadata": {
        "id": "3VxpJyr-Gct-"
      },
      "source": [
        "### 2.1: Random Forests\n",
        "\n",
        "1. Define a RandomForestRegressor model - with n_esitmators = 200, max_depth = 35, min_samples_split = 2, min_samples_leaf = 1\n",
        "2. Fit on the training data\n",
        "3. Predict on the validation and training data\n",
        "4. evaluate the model - calculate the MAPE for validation and training data\n",
        "\n",
        "**These parameters are from the paper** "
      ]
    },
    {
      "cell_type": "code",
      "metadata": {
        "id": "kGX-_sRYkxPv",
        "colab": {
          "base_uri": "https://localhost:8080/"
        },
        "outputId": "3e149332-5020-4afe-a4dc-26f5c5b5d769"
      },
      "source": [
        "#your code here\n",
        "#This takes 15 minutes to run. Saved predicted array as forest_predicted_values\n",
        "forest = RandomForestRegressor(n_estimators=200,max_depth=35,min_samples_split=2,min_samples_leaf=1)\n",
        "forest.fit(X_train,y_train)"
      ],
      "execution_count": null,
      "outputs": [
        {
          "output_type": "execute_result",
          "data": {
            "text/plain": [
              "RandomForestRegressor(bootstrap=True, ccp_alpha=0.0, criterion='mse',\n",
              "                      max_depth=35, max_features='auto', max_leaf_nodes=None,\n",
              "                      max_samples=None, min_impurity_decrease=0.0,\n",
              "                      min_impurity_split=None, min_samples_leaf=1,\n",
              "                      min_samples_split=2, min_weight_fraction_leaf=0.0,\n",
              "                      n_estimators=200, n_jobs=None, oob_score=False,\n",
              "                      random_state=None, verbose=0, warm_start=False)"
            ]
          },
          "metadata": {
            "tags": []
          },
          "execution_count": 67
        }
      ]
    },
    {
      "cell_type": "code",
      "metadata": {
        "id": "obcDYoBgbmg3"
      },
      "source": [
        "forest_pred = forest.predict(X_val)"
      ],
      "execution_count": null,
      "outputs": []
    },
    {
      "cell_type": "code",
      "metadata": {
        "id": "ikzgGgkJz19M"
      },
      "source": [
        "with open('/content/drive/MyDrive/Colab files/Homework 2 - ML2/forest_predicted_values.pickle', 'rb') as f:\n",
        "    forest_pred = pickle.load(f)"
      ],
      "execution_count": null,
      "outputs": []
    },
    {
      "cell_type": "code",
      "metadata": {
        "id": "4nEta6SI2-0P"
      },
      "source": [
        "forest_MAPE_train = MAPE(y_train,forest.predict(X_train))\n",
        "forest_MAPE_test = MAPE(y_val,forest_pred)"
      ],
      "execution_count": null,
      "outputs": []
    },
    {
      "cell_type": "code",
      "metadata": {
        "id": "s8uRdL3YtYcR",
        "colab": {
          "base_uri": "https://localhost:8080/"
        },
        "outputId": "56bae13b-dd22-40cf-b04d-492204ee39f7"
      },
      "source": [
        "print('Training Mean Absolute Percentage Error is {:.4f}'.format(forest_MAPE_train))\n",
        "print('Testing Mean Absolute Percentage Error is {:.4f}'.format(forest_MAPE_test))"
      ],
      "execution_count": null,
      "outputs": [
        {
          "output_type": "stream",
          "text": [
            "Training Mean Absolute Percentage Error is 0.0251\n",
            "Testing Mean Absolute Percentage Error is 0.0264\n"
          ],
          "name": "stdout"
        }
      ]
    },
    {
      "cell_type": "code",
      "metadata": {
        "id": "r__arVVquawf"
      },
      "source": [
        "# with open('/content/drive/MyDrive/Colab files/Homework 2 - ML2/forest_predicted_values.pickle', 'wb') as f:\n",
        "#     pickle.dump(forest_pred, f)"
      ],
      "execution_count": null,
      "outputs": []
    },
    {
      "cell_type": "markdown",
      "metadata": {
        "id": "wcSEUp3GHC_Q"
      },
      "source": [
        "### 2.2 Boosted Trees"
      ]
    },
    {
      "cell_type": "markdown",
      "metadata": {
        "id": "0Cq3sVKaHRAL"
      },
      "source": [
        "For boosting, we will use XGBoost for regression\n",
        "1. We will create a DMatrix from XGB for this - because we want to define a param_grid here. \n",
        "  * Again look at the parameters from the paper\n",
        "2. The DMatrix should be provided with X_train and label as y_train\n",
        "3. Parameters will be as follows:\n",
        "  * 'nthread': -1,\n",
        "  * 'max_depth': 7,\n",
        "  * 'eta': 0.02,\n",
        "  * 'silent': 1,\n",
        "  * 'objective': 'reg:linear',\n",
        "  * 'colsample_bytree': 0.7,\n",
        "  * 'subsample': 0.7\n",
        "  * num_round = 3000\n",
        "\n",
        "4. Train the model\n",
        "\n",
        "5. Note xgb.DMatrix needs features from Xtrain and Xval while predicting. Hence define:\n",
        "```\n",
        "feature_Xtr = xgb.DMatrix(X_train)\n",
        "feature_Xval = xgb.DMatrix(X_val)\n",
        "```\n",
        "5. Predict on feature_Xtr and feature_Xval \n",
        "6. Calculate MAPE for both\n",
        "\n",
        "\n",
        "\n",
        "Look at XGBoost [documentation](https://xgboost.readthedocs.io/en/latest/python/python_intro.html) for each parameter information"
      ]
    },
    {
      "cell_type": "code",
      "metadata": {
        "id": "m1--s_4pGOuB"
      },
      "source": [
        "#your code here\n",
        "feature_Xtr = xgb.DMatrix(X_train, label=y_train)\n",
        "feature_Xval = xgb.DMatrix(X_val)"
      ],
      "execution_count": null,
      "outputs": []
    },
    {
      "cell_type": "code",
      "metadata": {
        "id": "Dot8H6BP99f_"
      },
      "source": [
        "param_grid = {\n",
        "    'nthread': -1,\n",
        "    'max_depth': 7,\n",
        "    'eta': 0.02,\n",
        "    'silent': 1,\n",
        "    'objective': 'reg:linear',\n",
        "    'colsample_bytree': 0.7,\n",
        "    'subsample': 0.7\n",
        "}\n",
        "num_round = 3000"
      ],
      "execution_count": null,
      "outputs": []
    },
    {
      "cell_type": "code",
      "metadata": {
        "id": "AwkTThQs-cse"
      },
      "source": [
        "xgb_fit = xgb.train(param_grid,feature_Xtr,num_round)"
      ],
      "execution_count": null,
      "outputs": []
    },
    {
      "cell_type": "code",
      "metadata": {
        "id": "ja08yCIaBvn4"
      },
      "source": [
        "xgb_pred = xgb_fit.predict(feature_Xval)"
      ],
      "execution_count": null,
      "outputs": []
    },
    {
      "cell_type": "code",
      "metadata": {
        "id": "iPhVcOJxB8yO",
        "colab": {
          "base_uri": "https://localhost:8080/"
        },
        "outputId": "5f2fb59c-e937-478e-a991-3414e9e29e70"
      },
      "source": [
        "xgb_MAPE_train = MAPE(y_train,xgb_fit.predict(feature_Xtr))\n",
        "xgb_MAPE_test = MAPE(y_val,xgb_pred)\n",
        "\n",
        "print('Training Mean Absolute Percentage Error is {:.4f}'.format(xgb_MAPE_train))\n",
        "print('Testing Mean Absolute Percentage Error is {:.4f}'.format(xgb_MAPE_test))"
      ],
      "execution_count": null,
      "outputs": [
        {
          "output_type": "stream",
          "text": [
            "Training Mean Absolute Percentage Error is 0.0196\n",
            "Testing Mean Absolute Percentage Error is 0.0200\n"
          ],
          "name": "stdout"
        }
      ]
    },
    {
      "cell_type": "code",
      "metadata": {
        "id": "yZnfI1fJC7A_"
      },
      "source": [
        "# with open('/content/drive/MyDrive/Colab files/Homework 2 - ML2/xgb_predicted_values.pickle', 'wb') as f:\n",
        "#     pickle.dump(xgb_pred, f)\n",
        "\n",
        "with open('/content/drive/MyDrive/Colab files/Homework 2 - ML2/xgb_predicted_values.pickle', 'rb') as f:\n",
        "    xgb_pred = pickle.load(f)"
      ],
      "execution_count": null,
      "outputs": []
    },
    {
      "cell_type": "markdown",
      "metadata": {
        "id": "1LIINAciJtWi"
      },
      "source": [
        "### 2.3 Multi Layer Perceptron"
      ]
    },
    {
      "cell_type": "markdown",
      "metadata": {
        "id": "6wdjE8AgN-Ma"
      },
      "source": [
        "Define a Sequential model with the following:\n",
        "(Read the Part VI Part A Neural Networks)\n",
        "\n",
        "1. Dense Layer - 1000 neurons, keep the kernel_initializer as uniform, with activaation as relu\n",
        "2. Dense Layer - 500 neurons, keep the kernel_initializer as uniform, with activaation as relu\n",
        "3. Final dense layer with 1 neuron, and activation as sigmoid\n",
        "4. Compile the model on mean absolute error and optimizer as adam\n",
        "5. Fit the model on 10 epochs and batch size as 128, find the MAPE "
      ]
    },
    {
      "cell_type": "code",
      "metadata": {
        "id": "0E3zoma_H499"
      },
      "source": [
        "#Build the model\n",
        "#your code here\n",
        "def model():\n",
        "  model = Sequential()\n",
        "  model.add(Dense(1000,activation='relu',kernel_initializer='uniform'))\n",
        "  model.add(Dense(500,activation='relu',kernel_initializer='uniform'))\n",
        "  model.add(Dense(1,activation='sigmoid'))\n",
        "  model.compile(optimizer='adam',loss='mean_absolute_error')\n",
        "\n",
        "  return(model)"
      ],
      "execution_count": null,
      "outputs": []
    },
    {
      "cell_type": "code",
      "metadata": {
        "id": "O-qcYmI5la84"
      },
      "source": [
        "#we will rescale our y_train for the model\n",
        "#the reason for this is mentioned in the paper in the same section\n",
        "# to see this change you can plot the log(Sale) vs log(Sale_max) and see how it varies\n",
        "max_log_y = max(np.max(y_train), np.max(y_val))\n",
        "fitting_y = np.log(y_train) / max_log_y"
      ],
      "execution_count": null,
      "outputs": []
    },
    {
      "cell_type": "code",
      "metadata": {
        "id": "hD14nr4ik0re",
        "colab": {
          "base_uri": "https://localhost:8080/"
        },
        "outputId": "6add45c8-a2be-4d08-a72a-c099b5a2e60f"
      },
      "source": [
        "#fit your model \n",
        "#your code here\n",
        "model = model()\n",
        "model.fit(X_train,fitting_y,batch_size=128,epochs=10)"
      ],
      "execution_count": null,
      "outputs": [
        {
          "output_type": "stream",
          "text": [
            "Epoch 1/10\n",
            "1563/1563 [==============================] - 4s 2ms/step - loss: 0.0094\n",
            "Epoch 2/10\n",
            "1563/1563 [==============================] - 3s 2ms/step - loss: 0.0022\n",
            "Epoch 3/10\n",
            "1563/1563 [==============================] - 3s 2ms/step - loss: 0.0017\n",
            "Epoch 4/10\n",
            "1563/1563 [==============================] - 3s 2ms/step - loss: 0.0015\n",
            "Epoch 5/10\n",
            "1563/1563 [==============================] - 3s 2ms/step - loss: 0.0014\n",
            "Epoch 6/10\n",
            "1563/1563 [==============================] - 3s 2ms/step - loss: 0.0013\n",
            "Epoch 7/10\n",
            "1563/1563 [==============================] - 3s 2ms/step - loss: 0.0012\n",
            "Epoch 8/10\n",
            "1563/1563 [==============================] - 3s 2ms/step - loss: 0.0012\n",
            "Epoch 9/10\n",
            "1563/1563 [==============================] - 3s 2ms/step - loss: 0.0011\n",
            "Epoch 10/10\n",
            "1563/1563 [==============================] - 3s 2ms/step - loss: 0.0011\n"
          ],
          "name": "stdout"
        },
        {
          "output_type": "execute_result",
          "data": {
            "text/plain": [
              "<tensorflow.python.keras.callbacks.History at 0x7f38146674d0>"
            ]
          },
          "metadata": {
            "tags": []
          },
          "execution_count": 62
        }
      ]
    },
    {
      "cell_type": "code",
      "metadata": {
        "id": "aN0zoTVdG2MI",
        "colab": {
          "base_uri": "https://localhost:8080/"
        },
        "outputId": "dc2ba81a-c5d1-471b-ee6a-f8c45ddd5236"
      },
      "source": [
        "#predict and mape calculation\n",
        "#your code here\n",
        "MLP_pred_train = model.predict(X_train)\n",
        "MLP_pred_test = model.predict(X_val)\n",
        "\n",
        "MLP_MAPE_train = MAPE(fitting_y,MLP_pred_train)\n",
        "MLP_MAPE_test = MAPE((np.log(y_val) / max_log_y),MLP_pred_test)\n",
        "\n",
        "print('Training Mean Absolute Percentage Error is {:.4f}'.format(MLP_MAPE_train))\n",
        "print('Testing Mean Absolute Percentage Error is {:.4f}'.format(MLP_MAPE_test))"
      ],
      "execution_count": null,
      "outputs": [
        {
          "output_type": "stream",
          "text": [
            "Training Mean Absolute Percentage Error is 0.0048\n",
            "Testing Mean Absolute Percentage Error is 0.0054\n"
          ],
          "name": "stdout"
        }
      ]
    },
    {
      "cell_type": "markdown",
      "metadata": {
        "id": "T-5celHwnaLO"
      },
      "source": [
        "# You are done with Part 2!!\n",
        "Print out the MAPE values for all models, you will need this in hand while working on Part 3 for comparing!"
      ]
    }
  ]
}